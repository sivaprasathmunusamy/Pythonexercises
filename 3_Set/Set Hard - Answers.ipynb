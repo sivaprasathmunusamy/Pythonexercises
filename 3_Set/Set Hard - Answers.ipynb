{
 "cells": [
  {
   "cell_type": "markdown",
   "metadata": {},
   "source": [
    "# Set Hard Solutions"
   ]
  },
  {
   "cell_type": "code",
   "execution_count": 27,
   "metadata": {},
   "outputs": [
    {
     "name": "stdout",
     "output_type": "stream",
     "text": [
      "set()\n",
      "{'y', 'o', 'h', 'P', 't', 'n'}\n",
      "{'o', 'u', 'e', 'i', 'a'}\n",
      "{'o', 'u', 'e', 'i', 'a'}\n",
      "{0, 1, 2, 3, 4}\n"
     ]
    }
   ],
   "source": [
    "#1\n",
    "x = 'Python'\n",
    "y = ('a', 'e', 'i', 'o', 'u')\n",
    "z = ['a', 'e', 'i', 'o', 'u']\n",
    "a = range(5)\n",
    "print(set())\n",
    "\n",
    "print(set(x))\n",
    "\n",
    "print(set(y))\n",
    "\n",
    "print(set(z))\n",
    "\n",
    "print(set(a))"
   ]
  },
  {
   "cell_type": "code",
   "execution_count": 28,
   "metadata": {},
   "outputs": [
    {
     "name": "stdout",
     "output_type": "stream",
     "text": [
      "{'o', 'a', 'u', 'e', 'i'}\n",
      "{'o', 'a', 'u', 'e', 'i'}\n",
      "{'o', 'a', 'u', 'e', 'i'}\n"
     ]
    }
   ],
   "source": [
    "#2\n",
    "x = {'a', 'e', 'i', 'o', 'u'}\n",
    "y = {'a':1, 'e': 2, 'i':3, 'o':4, 'u':5}\n",
    "z = ('a', 'e', 'i', 'o', 'u')\n",
    "print(set(x))\n",
    "\n",
    "print(set(y))\n",
    "\n",
    "frozensets = frozenset(z)\n",
    "print(set(frozensets))"
   ]
  },
  {
   "cell_type": "code",
   "execution_count": 29,
   "metadata": {
    "scrolled": true
   },
   "outputs": [
    {
     "name": "stdout",
     "output_type": "stream",
     "text": [
      "True\n",
      "False\n"
     ]
    }
   ],
   "source": [
    "#3\n",
    "def solution(nums):\n",
    "    return True if len(set(nums)) < len(nums) else False\n",
    "    \n",
    "x = [21, 13, 35, 31, 12, 35, 10, 9, 9]\n",
    "y = [1,2,3,4]\n",
    "print(solution(x))\n",
    "print(solution(y))"
   ]
  },
  {
   "cell_type": "code",
   "execution_count": 30,
   "metadata": {},
   "outputs": [
    {
     "name": "stdout",
     "output_type": "stream",
     "text": [
      "[5, 7]\n",
      "[5, 7]\n"
     ]
    }
   ],
   "source": [
    "#4\n",
    "nums1 = [3, 5, 7, 10, 9]\n",
    "nums2 = [7, 11, 2, 17, 5]\n",
    "\n",
    "\n",
    "def solutionone(nums1, nums2):\n",
    "    return list(set(nums1) & set(nums2))\n",
    "  \n",
    "\n",
    "def solutiontwo(nums1, nums2):\n",
    "    return list(set(nums1).intersection(nums2))\n",
    "\n",
    "print(solutionone(nums1, nums2))\n",
    "print(solutiontwo(nums1, nums2))"
   ]
  },
  {
   "cell_type": "code",
   "execution_count": 31,
   "metadata": {},
   "outputs": [
    {
     "name": "stdout",
     "output_type": "stream",
     "text": [
      "['Router', 'Type', 'Dash', 'Top', 'Rower']\n"
     ]
    }
   ],
   "source": [
    "#5\n",
    "words = ['Router', 'Type', 'Pine', 'Dash', 'Top', 'Rower', 'Freedom']\n",
    "def solution(words):\n",
    "    result = []\n",
    "    for w in words:\n",
    "        ws = set([c.lower() for c in w])\n",
    "        if not ws.difference(\"qwertyuiop\") or not ws.difference(\"asdfghjkl\") or not ws.difference(\"zxcvbnm\") :\n",
    "            result.append(w)\n",
    "    return result\n",
    "print(solution(words))"
   ]
  },
  {
   "cell_type": "code",
   "execution_count": 32,
   "metadata": {},
   "outputs": [
    {
     "name": "stdout",
     "output_type": "stream",
     "text": [
      "[0, 1]\n"
     ]
    }
   ],
   "source": [
    "#6\n",
    "favcomp = [[\"netflix\",\"google\",\"facebook\"],[\"netflix\",\"amazon\"],[\"facebook\",\"google\"]]\n",
    "def solution(favcomp):\n",
    "    result = []\n",
    "    for index1, list1 in enumerate(favcomp):\n",
    "        flag = True\n",
    "        for index2, list2 in enumerate(favcomp):\n",
    "            if index1 == index2:\n",
    "                continue\n",
    "            if set(list1).issubset(list2):\n",
    "                flag = False\n",
    "                break;\n",
    "        if flag:\n",
    "            result.append(index1)\n",
    "    return result\n",
    "print(solution(favcomp))"
   ]
  },
  {
   "cell_type": "code",
   "execution_count": 33,
   "metadata": {},
   "outputs": [
    {
     "name": "stdout",
     "output_type": "stream",
     "text": [
      "After remove : {'English', 'French'}\n",
      "Add : {'o', 'u', 'e', 'i', 'a'}\n",
      "Copy : {'o', 'a', 'u', 'e', 'i'}\n",
      "Vowels (before clear): {'o', 'u', 'e', 'i', 'a'}\n",
      "Vowels (after clear): set()\n"
     ]
    }
   ],
   "source": [
    "#7\n",
    "language = {'English', 'French', 'German'}\n",
    "vowels = {'a', 'e', 'i', 'u'}\n",
    "\n",
    "language.remove('German')\n",
    "print('After remove :', language)\n",
    "\n",
    "vowels.add('o')\n",
    "print('Add :', vowels)\n",
    "\n",
    "r = vowels.copy()\n",
    "print('Copy :',r)\n",
    "\n",
    "print('Vowels (before clear):', vowels)\n",
    "vowels.clear()\n",
    "print('Vowels (after clear):', vowels)"
   ]
  },
  {
   "cell_type": "code",
   "execution_count": 34,
   "metadata": {},
   "outputs": [
    {
     "name": "stdout",
     "output_type": "stream",
     "text": [
      "Difference : {'b', 'a', 'd'}\n",
      "Difference_update : {'b', 'd', 'a'}\n",
      "After discard : {2, 4, 5}\n"
     ]
    }
   ],
   "source": [
    "#8\n",
    "A = {'a', 'b', 'c', 'd'}\n",
    "B = {'c', 'f', 'g'}\n",
    "numbers = {2, 3, 4, 5}\n",
    "\n",
    "print(\"Difference :\", A.difference(B))\n",
    "\n",
    "result = A.difference_update(B)\n",
    "print('Difference_update :', A)\n",
    "\n",
    "numbers.discard(3)\n",
    "print('After discard :', numbers)"
   ]
  },
  {
   "cell_type": "code",
   "execution_count": 35,
   "metadata": {},
   "outputs": [
    {
     "name": "stdout",
     "output_type": "stream",
     "text": [
      "B intersection of A : {2, 3, 4, 5}\n",
      "C intersection of A and B : {3}\n",
      "\n",
      "A intersection_update of B : {2, 3, 4, 5}\n",
      "\n",
      "Are A and B disjoint? False\n",
      "Are B and C disjoint? True\n"
     ]
    }
   ],
   "source": [
    "#9\n",
    "A = {2, 3, 5, 4}\n",
    "B = {2, 5, 4, 3, 100}\n",
    "C = {3, 8, 9, 10}\n",
    "\n",
    "print(\"B intersection of A :\", B.intersection(A))\n",
    "print(\"C intersection of A and B :\", C.intersection(A, B))\n",
    "\n",
    "result = A.intersection_update(B)\n",
    "print('\\nA intersection_update of B :', A)\n",
    "\n",
    "A = {2, 3, 5, 4}\n",
    "B = {2, 5, 4, 100}\n",
    "C = {3, 8, 9, 10}\n",
    "\n",
    "print('\\nAre A and B disjoint?', A.isdisjoint(B))\n",
    "print('Are B and C disjoint?', B.isdisjoint(C))"
   ]
  },
  {
   "cell_type": "code",
   "execution_count": 36,
   "metadata": {},
   "outputs": [
    {
     "name": "stdout",
     "output_type": "stream",
     "text": [
      "A issubset of B : False\n",
      "B issubset of A : False\n",
      "\n",
      "Element popped from A : 1\n",
      "After pop A : {2, 3}\n",
      "\n",
      "A U B = {1, 2, 3, 4}\n",
      "A U B U C = {1, 2, 3, 4, 6}\n"
     ]
    }
   ],
   "source": [
    "#10\n",
    "A = {1, 2, 3}\n",
    "B = {1, 2, 4}\n",
    "C = {1, 2, 4, 6}\n",
    "\n",
    "print(\"A issubset of B :\", A.issubset(B))\n",
    "print(\"B issubset of A :\", B.issubset(A))\n",
    "\n",
    "print('\\nElement popped from A :', A.pop())\n",
    "print('After pop A :', A)\n",
    "\n",
    "print('\\nA U B =', A.union(B))\n",
    "print('A U B U C =', A.union(B, C))"
   ]
  },
  {
   "cell_type": "code",
   "execution_count": null,
   "metadata": {},
   "outputs": [],
   "source": []
  }
 ],
 "metadata": {
  "kernelspec": {
   "display_name": "Python 3",
   "language": "python",
   "name": "python3"
  },
  "language_info": {
   "codemirror_mode": {
    "name": "ipython",
    "version": 3
   },
   "file_extension": ".py",
   "mimetype": "text/x-python",
   "name": "python",
   "nbconvert_exporter": "python",
   "pygments_lexer": "ipython3",
   "version": "3.8.5"
  }
 },
 "nbformat": 4,
 "nbformat_minor": 4
}
