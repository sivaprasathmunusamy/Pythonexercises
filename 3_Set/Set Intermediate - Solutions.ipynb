{
 "cells": [
  {
   "cell_type": "markdown",
   "metadata": {},
   "source": [
    "# Set Intermediate Solutions"
   ]
  },
  {
   "cell_type": "code",
   "execution_count": 15,
   "metadata": {},
   "outputs": [
    {
     "name": "stdout",
     "output_type": "stream",
     "text": [
      "If two given sets have no elements in common\n",
      "Compare a and b:\n",
      "False\n",
      "Compare a and c:\n",
      "True\n",
      "Compare b and c:\n",
      "True\n"
     ]
    }
   ],
   "source": [
    "#1\n",
    "a = {1,2,3,4}\n",
    "b = {4,5,6,7}\n",
    "c = {8}\n",
    "print(\"If two given sets have no elements in common\")\n",
    "print(\"Compare a and b:\")\n",
    "print(a.isdisjoint(b))\n",
    "print(\"Compare a and c:\")\n",
    "print(c.isdisjoint(a))\n",
    "print(\"Compare b and c:\")\n",
    "print(b.isdisjoint(c))"
   ]
  },
  {
   "cell_type": "code",
   "execution_count": 16,
   "metadata": {},
   "outputs": [
    {
     "name": "stdout",
     "output_type": "stream",
     "text": [
      "Original sets(nums):  {1, 4, 5, 6, 11, 80, 20, 23} \n",
      "\n",
      "Test if 6 exists in nums:\n",
      "True\n",
      "Test if 7 exists in nums:\n",
      "False\n",
      "Test if 11 exists in nums:\n",
      "True\n"
     ]
    }
   ],
   "source": [
    "#2\n",
    "nums = {1,23,4,5,80,6,11,20}\n",
    "print(\"Original sets(nums): \",nums,\"\\n\")\n",
    "print(\"Test if 6 exists in nums:\")\n",
    "print(6 in nums)\n",
    "print(\"Test if 7 exists in nums:\")\n",
    "print(7 in nums)\n",
    "print(\"Test if 11 exists in nums:\")\n",
    "print(11 in nums)"
   ]
  },
  {
   "cell_type": "code",
   "execution_count": 17,
   "metadata": {},
   "outputs": [
    {
     "name": "stdout",
     "output_type": "stream",
     "text": [
      "False\n",
      "frozenset({1, 2})\n",
      "frozenset({1, 2, 3, 4, 5, 6, 7})\n"
     ]
    }
   ],
   "source": [
    "#3\n",
    "x = frozenset([1, 2, 3, 4, 5])\n",
    "y = frozenset([3, 4, 5, 6, 7]) \n",
    "print(x.isdisjoint(y))\n",
    "print(x.difference(y))\n",
    "print(x | y)"
   ]
  },
  {
   "cell_type": "code",
   "execution_count": 18,
   "metadata": {},
   "outputs": [
    {
     "name": "stdout",
     "output_type": "stream",
     "text": [
      "{(8, 3), (6, 3), (7, 2), (5, 2)}\n"
     ]
    }
   ],
   "source": [
    "#4\n",
    "x={5, 7}\n",
    "y={3, 2}\n",
    "z=set()\n",
    "i=0\n",
    "j=0\n",
    "for i in x:\n",
    "    for j in y:\n",
    "        z.add((i,j))\n",
    "        i+=1\n",
    "        j+=1\n",
    "print(z)"
   ]
  },
  {
   "cell_type": "code",
   "execution_count": 19,
   "metadata": {},
   "outputs": [
    {
     "name": "stdout",
     "output_type": "stream",
     "text": [
      "2\n"
     ]
    }
   ],
   "source": [
    "#5\n",
    "x = set([10,20,30,(10,20),40])\n",
    "ctr = 0\n",
    "for n in x:\n",
    "    if isinstance(n, tuple):\n",
    "        break\n",
    "    ctr += 1\n",
    "print(ctr)"
   ]
  },
  {
   "cell_type": "code",
   "execution_count": 20,
   "metadata": {},
   "outputs": [
    {
     "name": "stdout",
     "output_type": "stream",
     "text": [
      "Original set : {2, 3, 4, 18, -1}\n",
      "Product - multiplying all the numbers of the said set: -432\n"
     ]
    }
   ],
   "source": [
    "#6\n",
    "def mutipleset(nums):\n",
    "    temp = list(nums)\n",
    "    product = 1 \n",
    "    for x in temp:\n",
    "        product *= x\n",
    "    return product\n",
    "\n",
    "x = {4, 3, 2, 2, -1, 18}\n",
    "print (\"Original set :\", x)\n",
    "print(\"Product - multiplying all the numbers of the said set:\",mutipleset(x))"
   ]
  },
  {
   "cell_type": "code",
   "execution_count": 21,
   "metadata": {},
   "outputs": [
    {
     "name": "stdout",
     "output_type": "stream",
     "text": [
      "Original sets:\n",
      "{1, 2, 3, 4}\n",
      "{1, 2, 3, 5}\n",
      "{1, 2, 3}\n",
      "\n",
      "Element-wise sum of the said sets:\n",
      "{9, 3, 6}\n"
     ]
    }
   ],
   "source": [
    "#7\n",
    "x = set([1,2,3,4])\n",
    "y = set([3,5,2,1])\n",
    "z = set([2,2,3,1])\n",
    "print(\"Original sets:\")\n",
    "print(x)\n",
    "print(y)\n",
    "print(z)\n",
    "print(\"\\nElement-wise sum of the said sets:\")\n",
    "result = set(map(sum, zip(x, y, z)))\n",
    "print(result)"
   ]
  },
  {
   "cell_type": "code",
   "execution_count": 22,
   "metadata": {},
   "outputs": [
    {
     "name": "stdout",
     "output_type": "stream",
     "text": [
      "5\n"
     ]
    }
   ],
   "source": [
    "#8\n",
    "import collections\n",
    "x = {2, 2, 4, 6, 6, 8, 6, 10, 4}\n",
    "print(sum(collections.Counter(x).values()))"
   ]
  },
  {
   "cell_type": "code",
   "execution_count": 23,
   "metadata": {},
   "outputs": [
    {
     "name": "stdout",
     "output_type": "stream",
     "text": [
      "\n",
      "35\n",
      "99\n",
      "10\n",
      "17\n",
      "20\n",
      "56\n",
      "\n"
     ]
    }
   ],
   "source": [
    "#9\n",
    "print()\n",
    "x = {10, 20, 56, 35, 17, 99}\n",
    "values = bytearray(x)\n",
    "for l in values: print(l)\n",
    "print()"
   ]
  },
  {
   "cell_type": "code",
   "execution_count": 24,
   "metadata": {},
   "outputs": [
    {
     "name": "stdout",
     "output_type": "stream",
     "text": [
      "999\n"
     ]
    }
   ],
   "source": [
    "#10\n",
    "numbers = set([])\n",
    "for x in range(1000):\n",
    "    x=str(x).zfill(3)\n",
    "print(x)\n",
    "numbers.update(x)"
   ]
  },
  {
   "cell_type": "code",
   "execution_count": 25,
   "metadata": {},
   "outputs": [
    {
     "name": "stdout",
     "output_type": "stream",
     "text": [
      "12\n",
      "-10\n",
      "-30\n"
     ]
    }
   ],
   "source": [
    "#11\n",
    "def operator(a, b):\n",
    "    while b != 0:\n",
    "        data = a & b\n",
    "        a = a ^ b\n",
    "        b = data << 1\n",
    "    return a\n",
    "print(operator(2, 10))\n",
    "print(operator(-20, 10))\n",
    "print(operator(-10, -20))"
   ]
  },
  {
   "cell_type": "code",
   "execution_count": 26,
   "metadata": {},
   "outputs": [
    {
     "name": "stdout",
     "output_type": "stream",
     "text": [
      "[1, 4, 5]\n"
     ]
    }
   ],
   "source": [
    "#12\n",
    "def digits(n):\n",
    "    nums = set([0,1,2,3,4,5,6,7,8,9])\n",
    "    n = set([int(i) for i in n])\n",
    "    n = n.symmetric_difference(nums)\n",
    "    n = sorted(n)\n",
    "    return n\n",
    "print(digits([9,8,3,2,2,0,9,7,6,3]))"
   ]
  },
  {
   "cell_type": "code",
   "execution_count": 27,
   "metadata": {},
   "outputs": [
    {
     "name": "stdout",
     "output_type": "stream",
     "text": [
      "Input two integers(a b): \n",
      "89798 555\n",
      "Number of digit of a and b.:\n",
      "5\n"
     ]
    }
   ],
   "source": [
    "#13\n",
    "print(\"Input two integers(a b): \")\n",
    "a,b = map(int,input().split(\" \"))\n",
    "print(\"Number of digit of a and b.:\")\n",
    "print(len(str(a+b)))"
   ]
  },
  {
   "cell_type": "code",
   "execution_count": 28,
   "metadata": {},
   "outputs": [
    {
     "name": "stdout",
     "output_type": "stream",
     "text": [
      "Difference between x & y is : {'orange', 'mango'}\n",
      "Difference between x - z is : {'apple', 'kiwi'}\n"
     ]
    }
   ],
   "source": [
    "#14\n",
    "x = {\"apple\", \"orange\", \"mango\", \"kiwi\"}\n",
    "y = {\"orange\", \"mango\", \"watermelon\"}\n",
    "z = x & y\n",
    "print(\"Difference between x & y is :\", z)\n",
    "b = x-z\n",
    "print(\"Difference between x - z is :\", b)"
   ]
  },
  {
   "cell_type": "code",
   "execution_count": 29,
   "metadata": {},
   "outputs": [
    {
     "name": "stdout",
     "output_type": "stream",
     "text": [
      "Original sets:\n",
      "{1, 2, 3, 4, 5}\n",
      "{4, 5, 6, 7, 8}\n",
      "Difference of sn1 and sn2 using difference():\n",
      "{1, 2, 3}\n",
      "Difference of sn2 and sn1 using difference():\n",
      "{8, 6, 7}\n",
      "Difference of sn1 and sn2 using - operator:\n",
      "{1, 2, 3}\n",
      "Difference of sn2 and sn1 using - operator:\n",
      "{8, 6, 7}\n"
     ]
    }
   ],
   "source": [
    "#15\n",
    "sn1 = {1,2,3,4,5}\n",
    "sn2 = {4,5,6,7,8}\n",
    "print(\"Original sets:\")\n",
    "print(sn1)\n",
    "print(sn2)\n",
    "print(\"Difference of sn1 and sn2 using difference():\")\n",
    "print(sn1.difference(sn2))\n",
    "print(\"Difference of sn2 and sn1 using difference():\")\n",
    "print(sn2.difference(sn1))\n",
    "print(\"Difference of sn1 and sn2 using - operator:\")\n",
    "print(sn1-sn2)\n",
    "print(\"Difference of sn2 and sn1 using - operator:\")\n",
    "print(sn2-sn1)"
   ]
  },
  {
   "cell_type": "code",
   "execution_count": 30,
   "metadata": {},
   "outputs": [
    {
     "name": "stdout",
     "output_type": "stream",
     "text": [
      "Original sets:\n",
      "{1, 2, 3}\n",
      "{4, 5, 6}\n",
      "{3}\n",
      "Check sn1 set has no elements in common with sn2 set:\n",
      "True\n",
      "Check sn1 set has no elements in common with sn3 set:\n",
      "False\n"
     ]
    }
   ],
   "source": [
    "#16\n",
    "sn1 = {1,2,3}\n",
    "sn2 = {4,5,6}\n",
    "sn3 = {3}\n",
    "print(\"Original sets:\")\n",
    "print(sn1)\n",
    "print(sn2)\n",
    "print(sn3)\n",
    "print(\"Check sn1 set has no elements in common with sn2 set:\")\n",
    "print(sn1.isdisjoint(sn2))\n",
    "print(\"Check sn1 set has no elements in common with sn3 set:\")\n",
    "print(sn1.isdisjoint(sn3))"
   ]
  },
  {
   "cell_type": "code",
   "execution_count": 31,
   "metadata": {},
   "outputs": [
    {
     "name": "stdout",
     "output_type": "stream",
     "text": [
      "The common letters are:\n",
      "l\n",
      "o\n"
     ]
    }
   ],
   "source": [
    "#17\n",
    "x = \"Hello\"\n",
    "y = \"World\"\n",
    "a=list(set(x)&set(y))\n",
    "print(\"The common letters are:\")\n",
    "for i in a:\n",
    "    print(i)"
   ]
  },
  {
   "cell_type": "code",
   "execution_count": 32,
   "metadata": {},
   "outputs": [
    {
     "name": "stdout",
     "output_type": "stream",
     "text": [
      "The letters are:\n",
      "H\n",
      "e\n"
     ]
    }
   ],
   "source": [
    "#18\n",
    "x = \"Hello\"\n",
    "y = \"World\"\n",
    "a=list(set(x)-set(y))\n",
    "print(\"The letters are:\")\n",
    "for i in a:\n",
    "    print(i)"
   ]
  },
  {
   "cell_type": "code",
   "execution_count": 33,
   "metadata": {},
   "outputs": [
    {
     "name": "stdout",
     "output_type": "stream",
     "text": [
      "The letters are:\n",
      "r\n",
      "d\n",
      "e\n",
      "H\n",
      "W\n"
     ]
    }
   ],
   "source": [
    "#19\n",
    "x = \"Hello\"\n",
    "y = \"World\"\n",
    "a=list(set(x)^set(y))\n",
    "print(\"The letters are:\")\n",
    "for i in a:\n",
    "    print(i)"
   ]
  },
  {
   "cell_type": "code",
   "execution_count": 34,
   "metadata": {},
   "outputs": [
    {
     "name": "stdout",
     "output_type": "stream",
     "text": [
      "1:  {'blue', 'green'}\n",
      "2:  {'red', 'blue'}\n",
      "3:  {'blue'}\n",
      "If 1 is subset of 2\n",
      "False\n",
      "False\n",
      "If 2 is subset of 1\n",
      "False\n",
      "False\n"
     ]
    }
   ],
   "source": [
    "#20\n",
    "color1=set([\"green\",\"blue\"])\n",
    "color2=set([\"red\",\"blue\"])\n",
    "color3=set([\"blue\"])\n",
    "print(\"1: \",color1)\n",
    "print(\"2: \",color2)\n",
    "print(\"3: \",color3)\n",
    "\n",
    "print(\"If 1 is subset of 2\")\n",
    "print(color1 <= color2)\n",
    "print(color1.issubset(color2))\n",
    "print(\"If 2 is subset of 1\")\n",
    "print(color2 <= color1)\n",
    "print(color2.issubset(color1))"
   ]
  },
  {
   "cell_type": "code",
   "execution_count": null,
   "metadata": {},
   "outputs": [],
   "source": []
  }
 ],
 "metadata": {
  "kernelspec": {
   "display_name": "Python 3",
   "language": "python",
   "name": "python3"
  },
  "language_info": {
   "codemirror_mode": {
    "name": "ipython",
    "version": 3
   },
   "file_extension": ".py",
   "mimetype": "text/x-python",
   "name": "python",
   "nbconvert_exporter": "python",
   "pygments_lexer": "ipython3",
   "version": "3.8.5"
  }
 },
 "nbformat": 4,
 "nbformat_minor": 4
}
