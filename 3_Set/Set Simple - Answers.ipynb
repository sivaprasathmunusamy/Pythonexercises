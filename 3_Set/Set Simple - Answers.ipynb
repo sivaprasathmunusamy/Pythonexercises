{
 "cells": [
  {
   "cell_type": "markdown",
   "metadata": {},
   "source": [
    "# Set Simple Solutions"
   ]
  },
  {
   "cell_type": "code",
   "execution_count": 13,
   "metadata": {},
   "outputs": [
    {
     "name": "stdout",
     "output_type": "stream",
     "text": [
      "set()\n",
      "{1, 2, 3, 4}\n"
     ]
    }
   ],
   "source": [
    "#1\n",
    "x = set()\n",
    "print(x)\n",
    "n = set([1,2,3,4])\n",
    "print(n)"
   ]
  },
  {
   "cell_type": "code",
   "execution_count": 14,
   "metadata": {},
   "outputs": [
    {
     "name": "stdout",
     "output_type": "stream",
     "text": [
      "6\n"
     ]
    }
   ],
   "source": [
    "#2\n",
    "setx = set({4,5,6,7,9,2})\n",
    "print(len(setx))"
   ]
  },
  {
   "cell_type": "code",
   "execution_count": 15,
   "metadata": {},
   "outputs": [
    {
     "name": "stdout",
     "output_type": "stream",
     "text": [
      "{'Boss', 'Siva'}\n"
     ]
    }
   ],
   "source": [
    "#3\n",
    "a = set([\"Boss\",\"Siva\"])\n",
    "b = a.copy()\n",
    "print(b)"
   ]
  },
  {
   "cell_type": "code",
   "execution_count": 16,
   "metadata": {},
   "outputs": [
    {
     "name": "stdout",
     "output_type": "stream",
     "text": [
      "{0, 1, 2, 4, 5}\n"
     ]
    }
   ],
   "source": [
    "#4\n",
    "x = set([0,1,2,3,4,5])\n",
    "x.discard(3)\n",
    "print(x)"
   ]
  },
  {
   "cell_type": "code",
   "execution_count": 17,
   "metadata": {},
   "outputs": [
    {
     "name": "stdout",
     "output_type": "stream",
     "text": [
      "{'Boss'}\n",
      "{'Boss', 'Suresh', 'Siva'}\n"
     ]
    }
   ],
   "source": [
    "#5\n",
    "x = set()\n",
    "x.add(\"Boss\")\n",
    "print(x)\n",
    "x.update([\"Siva\",\"Suresh\"])\n",
    "print(x)"
   ]
  },
  {
   "cell_type": "code",
   "execution_count": 18,
   "metadata": {},
   "outputs": [
    {
     "name": "stdout",
     "output_type": "stream",
     "text": [
      "{1, 2, 3, 4}\n"
     ]
    }
   ],
   "source": [
    "#6\n",
    "x = set([0,1,2,3,4])\n",
    "x.pop()\n",
    "print(x)"
   ]
  },
  {
   "cell_type": "code",
   "execution_count": 19,
   "metadata": {},
   "outputs": [
    {
     "name": "stdout",
     "output_type": "stream",
     "text": [
      "1\n",
      "2\n",
      "3\n",
      "4\n",
      "5\n"
     ]
    }
   ],
   "source": [
    "#7\n",
    "x = set([1,2,3,4,5])\n",
    "for i in x:\n",
    "    print(i)"
   ]
  },
  {
   "cell_type": "code",
   "execution_count": 20,
   "metadata": {},
   "outputs": [
    {
     "name": "stdout",
     "output_type": "stream",
     "text": [
      "{'karthi'}\n"
     ]
    }
   ],
   "source": [
    "#8\n",
    "x = set([\"boss\",\"karthi\"])\n",
    "y = set([\"karthi\",\"siva\"])\n",
    "z = x & y\n",
    "print(z)"
   ]
  },
  {
   "cell_type": "code",
   "execution_count": 21,
   "metadata": {},
   "outputs": [
    {
     "name": "stdout",
     "output_type": "stream",
     "text": [
      "{'karthi', 'siva', 'boss'}\n"
     ]
    }
   ],
   "source": [
    "#9\n",
    "x = set([\"boss\",\"karthi\"])\n",
    "y = set([\"karthi\",\"siva\"])\n",
    "z = x | y\n",
    "print(z)"
   ]
  },
  {
   "cell_type": "code",
   "execution_count": 22,
   "metadata": {},
   "outputs": [
    {
     "name": "stdout",
     "output_type": "stream",
     "text": [
      "{'siva', 'boss'}\n"
     ]
    }
   ],
   "source": [
    "#10\n",
    "x = set([\"boss\",\"karthi\"])\n",
    "y = set([\"karthi\",\"siva\"])\n",
    "z = x ^ y\n",
    "print(z)"
   ]
  },
  {
   "cell_type": "code",
   "execution_count": 23,
   "metadata": {},
   "outputs": [
    {
     "name": "stdout",
     "output_type": "stream",
     "text": [
      "The set x has elements : {'Puppy', 'Kutta'}\n",
      "After clearing the set x : set()\n"
     ]
    }
   ],
   "source": [
    "#11\n",
    "x ={\"Kutta\", \"Puppy\"}\n",
    "print(\"The set x has elements :\", x)\n",
    "x.clear()\n",
    "print(\"After clearing the set x :\", x)"
   ]
  },
  {
   "cell_type": "code",
   "execution_count": 24,
   "metadata": {},
   "outputs": [
    {
     "name": "stdout",
     "output_type": "stream",
     "text": [
      "87\n"
     ]
    }
   ],
   "source": [
    "#12\n",
    "x = {23, 45, 12, 56, 87}\n",
    "print(max(x))"
   ]
  },
  {
   "cell_type": "code",
   "execution_count": 25,
   "metadata": {},
   "outputs": [
    {
     "name": "stdout",
     "output_type": "stream",
     "text": [
      "2\n"
     ]
    }
   ],
   "source": [
    "#13\n",
    "x = {23, 56, 2, 3, 78, 6}\n",
    "print(min(x))"
   ]
  },
  {
   "cell_type": "code",
   "execution_count": 26,
   "metadata": {},
   "outputs": [
    {
     "name": "stdout",
     "output_type": "stream",
     "text": [
      "Original sets:\n",
      "{1, 2, 3, 4, 5}\n",
      "{4, 5, 6, 7, 8}\n",
      "\n",
      "After removal using difference_update()\n",
      "{1, 2, 3}\n"
     ]
    }
   ],
   "source": [
    "#14\n",
    "x = {1, 2, 3, 4, 5}\n",
    "y = {4, 5, 6, 7, 8}\n",
    "print(\"Original sets:\")\n",
    "print(x)\n",
    "print(y)\n",
    "print(\"\\nAfter removal using difference_update()\")\n",
    "x.difference_update(y)\n",
    "print(x)"
   ]
  },
  {
   "cell_type": "code",
   "execution_count": 27,
   "metadata": {},
   "outputs": [
    {
     "name": "stdout",
     "output_type": "stream",
     "text": [
      "{'apple'}\n"
     ]
    }
   ],
   "source": [
    "#15\n",
    "x = {\"apple\", \"banana\", \"cherry\"}\n",
    "y = {\"google\", \"microsoft\", \"apple\"}\n",
    "x.intersection_update(y) \n",
    "print(x)"
   ]
  },
  {
   "cell_type": "code",
   "execution_count": 28,
   "metadata": {},
   "outputs": [
    {
     "name": "stdout",
     "output_type": "stream",
     "text": [
      "[(1, 'c'), (2, 'b'), (3, 'a')]\n"
     ]
    }
   ],
   "source": [
    "#16\n",
    "a = zip({1,2,3},{\"a\",\"b\",\"c\"})\n",
    "print(list(a))"
   ]
  },
  {
   "cell_type": "code",
   "execution_count": 29,
   "metadata": {},
   "outputs": [
    {
     "name": "stdout",
     "output_type": "stream",
     "text": [
      "{1, 2, 3, 4, 5}\n"
     ]
    }
   ],
   "source": [
    "#17\n",
    "x = set([5,3,4,1,2])\n",
    "print(x)"
   ]
  },
  {
   "cell_type": "code",
   "execution_count": 30,
   "metadata": {},
   "outputs": [
    {
     "name": "stdout",
     "output_type": "stream",
     "text": [
      "True\n",
      "False\n"
     ]
    }
   ],
   "source": [
    "#18\n",
    "x = {\"1\",\"2\"}\n",
    "y = {\"1\",\"2\",\"3\"}\n",
    "print(x <= y)\n",
    "print(y <= x)"
   ]
  },
  {
   "cell_type": "code",
   "execution_count": 31,
   "metadata": {},
   "outputs": [
    {
     "name": "stdout",
     "output_type": "stream",
     "text": [
      "True\n",
      "False\n"
     ]
    }
   ],
   "source": [
    "#19\n",
    "x = {4,5}\n",
    "y = {1,2,3,4,5}\n",
    "print(x.issubset(y))\n",
    "print(y.issubset(x))"
   ]
  },
  {
   "cell_type": "code",
   "execution_count": 32,
   "metadata": {},
   "outputs": [
    {
     "name": "stdout",
     "output_type": "stream",
     "text": [
      "True\n",
      "False\n"
     ]
    }
   ],
   "source": [
    "#20\n",
    "a = {1,2,3}\n",
    "b = {4,5,6}\n",
    "c = {3}\n",
    "\n",
    "print(a.isdisjoint(b))\n",
    "print(a.isdisjoint(c))"
   ]
  },
  {
   "cell_type": "code",
   "execution_count": null,
   "metadata": {},
   "outputs": [],
   "source": []
  }
 ],
 "metadata": {
  "kernelspec": {
   "display_name": "Python 3",
   "language": "python",
   "name": "python3"
  },
  "language_info": {
   "codemirror_mode": {
    "name": "ipython",
    "version": 3
   },
   "file_extension": ".py",
   "mimetype": "text/x-python",
   "name": "python",
   "nbconvert_exporter": "python",
   "pygments_lexer": "ipython3",
   "version": "3.8.5"
  }
 },
 "nbformat": 4,
 "nbformat_minor": 4
}
