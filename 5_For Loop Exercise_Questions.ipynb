{
 "cells": [
  {
   "cell_type": "code",
   "execution_count": 1,
   "metadata": {},
   "outputs": [],
   "source": [
    "# Write a program using for loop to print from 34 to 45 (45 included)\n",
    "\n",
    "# your Answer\n",
    "\n",
    "\n",
    "\n",
    "\n",
    "\n",
    "\n"
   ]
  },
  {
   "cell_type": "code",
   "execution_count": 2,
   "metadata": {},
   "outputs": [],
   "source": [
    "# Write a program using for loop to print \"machinelearning\" 50 times \n",
    "\n",
    "# your Answer\n",
    "\n",
    "\n",
    "\n",
    "\n",
    "\n",
    "\n"
   ]
  },
  {
   "cell_type": "code",
   "execution_count": 3,
   "metadata": {},
   "outputs": [
    {
     "name": "stdout",
     "output_type": "stream",
     "text": [
      "21\n",
      "23\n",
      "25\n",
      "27\n"
     ]
    }
   ],
   "source": [
    "# Write a program using for loop to print 21 ,23,25,27\n",
    "\n",
    "# your Answer\n",
    "\n",
    "\n",
    "\n",
    "\n",
    "\n",
    "\n"
   ]
  },
  {
   "cell_type": "code",
   "execution_count": 4,
   "metadata": {},
   "outputs": [],
   "source": [
    "#Write a Python program that prints all the numbers from 14 to 37(37 inclusive) except 17 .\n",
    "#Note : Use 'continue' statement.\n",
    "#Expected Output : 14 15 16 18 19 20 21 22 23 24 25 26 27 28 29 30 31 32 33 34 35 36 37\n",
    "\n",
    "# your Answer\n",
    "\n",
    "\n",
    "\n",
    "\n",
    "\n",
    "\n"
   ]
  },
  {
   "cell_type": "code",
   "execution_count": 5,
   "metadata": {},
   "outputs": [],
   "source": [
    "# Write a program to print only even numbers from 85 to 100 using for loop\n",
    "\n",
    "# your Answer\n",
    "\n",
    "\n",
    "\n",
    "\n",
    "\n",
    "\n"
   ]
  },
  {
   "cell_type": "code",
   "execution_count": 6,
   "metadata": {},
   "outputs": [],
   "source": [
    "# Write a Python program to find those numbers which are divisible by 7 and multiple of 5, between 14 and 37\n",
    "\n",
    "# your Answer\n",
    "\n",
    "\n",
    "\n",
    "\n",
    "\n",
    "\n"
   ]
  },
  {
   "cell_type": "code",
   "execution_count": 7,
   "metadata": {},
   "outputs": [],
   "source": [
    "#Write a Python program which iterates the integers from 14 to 37. \n",
    "#For multiples of three print \"hello\" instead of the number and for the multiples of five print \"hi\". \n",
    "#For numbers which are multiples of both three and five print \"goodmorning\"\n",
    "\n",
    "# your Answer\n",
    "\n",
    "\n",
    "\n",
    "\n",
    "\n",
    "\n"
   ]
  },
  {
   "cell_type": "code",
   "execution_count": 8,
   "metadata": {},
   "outputs": [
    {
     "data": {
      "text/plain": [
       "'\\n2*1 = 2\\n2*2 = 4\\n.\\n.\\n.\\n2*10 = 20\\n'"
      ]
     },
     "execution_count": 8,
     "metadata": {},
     "output_type": "execute_result"
    }
   ],
   "source": [
    "\n",
    "\"\"\"\n",
    "2*1 = 2\n",
    "2*2 = 4\n",
    ".\n",
    ".\n",
    ".\n",
    "2*10 = 20\n",
    "\"\"\"\n",
    "#Write program to print 2 table like above \n",
    "\n",
    "# your Answer\n",
    "\n",
    "\n",
    "\n",
    "\n",
    "\n",
    "\n"
   ]
  }
 ],
 "metadata": {
  "kernelspec": {
   "display_name": "Python 3",
   "language": "python",
   "name": "python3"
  },
  "language_info": {
   "codemirror_mode": {
    "name": "ipython",
    "version": 3
   },
   "file_extension": ".py",
   "mimetype": "text/x-python",
   "name": "python",
   "nbconvert_exporter": "python",
   "pygments_lexer": "ipython3",
   "version": "3.7.3"
  }
 },
 "nbformat": 4,
 "nbformat_minor": 2
}
