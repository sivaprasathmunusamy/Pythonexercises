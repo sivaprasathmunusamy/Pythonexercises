{
 "cells": [
  {
   "cell_type": "markdown",
   "metadata": {},
   "source": [
    "# Dictionary Hard Solutions"
   ]
  },
  {
   "cell_type": "code",
   "execution_count": 13,
   "metadata": {},
   "outputs": [
    {
     "name": "stdout",
     "output_type": "stream",
     "text": [
      "Maximum Value:  5874\n",
      "Minimum Value:  500\n"
     ]
    }
   ],
   "source": [
    "#1\n",
    "\n",
    "d1 = {'x':500, 'y':5874, 'z': 560}\n",
    "\n",
    "maxs = max(d1.keys(),key=(lambda k: d1[k]))\n",
    "mins = min(d1.keys(),key=(lambda k: d1[k]))\n",
    "\n",
    "print('Maximum Value: ',d1[maxs])\n",
    "print('Minimum Value: ',d1[mins])"
   ]
  },
  {
   "cell_type": "code",
   "execution_count": 14,
   "metadata": {},
   "outputs": [
    {
     "name": "stdout",
     "output_type": "stream",
     "text": [
      "{'id1': {'name': ['Boss'], 'class': ['V'], 'subject_integration': ['english, math, science']}, 'id2': {'name': ['Suresh'], 'class': ['V'], 'subject_integration': ['english, math, science']}, 'id3': {'name': ['Siva'], 'class': ['V'], 'subject_integration': ['english, math, science']}, 'id4': {'name': ['Surya'], 'class': ['V'], 'subject_integration': ['english, math, science']}}\n"
     ]
    }
   ],
   "source": [
    "#2\n",
    "student_data = {'id1': \n",
    "   {'name': ['Boss'], \n",
    "    'class': ['V'], \n",
    "    'subject_integration': ['english, math, science']\n",
    "   },\n",
    " 'id2': \n",
    "  {'name': ['Suresh'], \n",
    "    'class': ['V'], \n",
    "    'subject_integration': ['english, math, science']\n",
    "   },\n",
    " 'id3': \n",
    "    {'name': ['Siva'], \n",
    "    'class': ['V'], \n",
    "    'subject_integration': ['english, math, science']\n",
    "   },\n",
    "    'id2': \n",
    "  {'name': ['Suresh'], \n",
    "    'class': ['V'], \n",
    "    'subject_integration': ['english, math, science']\n",
    "   },\n",
    " 'id4': \n",
    "   {'name': ['Surya'], \n",
    "    'class': ['V'], \n",
    "    'subject_integration': ['english, math, science']\n",
    "   },\n",
    "}\n",
    "\n",
    "result = {}\n",
    "\n",
    "for key,value in student_data.items():\n",
    "    if value not in result.values():\n",
    "        result[key] = value\n",
    "\n",
    "print(result)"
   ]
  },
  {
   "cell_type": "code",
   "execution_count": 15,
   "metadata": {},
   "outputs": [
    {
     "name": "stdout",
     "output_type": "stream",
     "text": [
      "defaultdict(<class 'set'>, {'Class-V': {1}, 'Class-VI': {2}, 'Class-VII': {2}, 'Class-VIII': {3}})\n"
     ]
    }
   ],
   "source": [
    "#3\n",
    "from collections import defaultdict\n",
    "classlist=['Class-V', 'Class-VI', 'Class-VII', 'Class-VIII']\n",
    "idlist=[1, 2, 2, 3]\n",
    "temp = defaultdict(set)\n",
    "for c,i in zip(classlist,idlist):\n",
    "    temp[c].add(i)\n",
    "print(temp)"
   ]
  },
  {
   "cell_type": "code",
   "execution_count": 16,
   "metadata": {},
   "outputs": [
    {
     "name": "stdout",
     "output_type": "stream",
     "text": [
      "[{'id': 1, 'subject': 'math', 'V+VI': 76.0}, {'id': 2, 'subject': 'math', 'V+VI': 73.5}, {'id': 3, 'subject': 'math', 'V+VI': 80.5}]\n"
     ]
    }
   ],
   "source": [
    "#4\n",
    "def average(dicts):\n",
    "    for d in dicts:\n",
    "        n1 = d.pop('V')\n",
    "        n2 = d.pop('VI')\n",
    "        d['V+VI'] = (n1 + n2)/2\n",
    "    return dicts \n",
    "student= [\n",
    "  {'id' : 1, 'subject' : 'math', 'V' : 70, 'VI' : 82},\n",
    "  {'id' : 2, 'subject' : 'math', 'V' : 73, 'VI' : 74},\n",
    "  {'id' : 3, 'subject' : 'math', 'V' : 75, 'VI' : 86}\n",
    "]\n",
    "print(average(student))"
   ]
  },
  {
   "cell_type": "code",
   "execution_count": 17,
   "metadata": {},
   "outputs": [
    {
     "name": "stdout",
     "output_type": "stream",
     "text": [
      "Original dictionary:\n",
      "{'students': [{'firstName': 'Boss', 'lastName': 'King'}, {'firstName': 'Siva', 'lastName': 'Raj'}, {'firstName': 'suresh', 'lastName': 'kumar'}], 'teachers': [{'firstName': 'Kumar', 'lastName': 'Samy'}, {'firstName': 'Dinesh', 'lastName': 'Kumar'}]}\n",
      "<class 'dict'>\n",
      "\n",
      "Json file to dictionary:\n",
      "{'students': [{'firstName': 'Boss', 'lastName': 'King'}, {'firstName': 'Siva', 'lastName': 'Raj'}, {'firstName': 'suresh', 'lastName': 'kumar'}], 'teachers': [{'firstName': 'Kumar', 'lastName': 'Samy'}, {'firstName': 'Dinesh', 'lastName': 'Kumar'}]}\n"
     ]
    }
   ],
   "source": [
    "#5\n",
    "d = {'students': [{'firstName': 'Boss', 'lastName': 'King'}, \n",
    "                  {'firstName': 'Siva', 'lastName': 'Raj'}, \n",
    "                  {'firstName': 'suresh', 'lastName': 'kumar'}], \n",
    "    'teachers': [{'firstName': 'Kumar', 'lastName': 'Samy'},\n",
    "                   {'firstName': 'Dinesh', 'lastName': 'Kumar'}]}\n",
    "print(\"Original dictionary:\")\n",
    "print(d)\n",
    "print(type(d))\n",
    "import json\n",
    "\n",
    "with open(\"dictionary\" , \"w\") as f:\n",
    "    json.dump(d,f, indent = 4, sort_keys=True)\n",
    "    \n",
    "print(\"\\nJson file to dictionary:\")\n",
    "with open(\"dictionary\") as f:\n",
    "    data = json.load(f)\n",
    "    print(data)"
   ]
  },
  {
   "cell_type": "code",
   "execution_count": 18,
   "metadata": {},
   "outputs": [
    {
     "name": "stdout",
     "output_type": "stream",
     "text": [
      "Original strings:\n",
      "['R1', 'R2', 'R3', 'R4']\n",
      "['Saravana', 'Shreya', 'Shakthi', 'Shwetha']\n",
      "[85, 98, 89, 92]\n",
      "\n",
      "Nested dictionary:\n",
      "[{'R1': {'Saravana': 85}}, {'R2': {'Shreya': 98}}, {'R3': {'Shakthi': 89}}, {'R4': {'Shwetha': 92}}]\n"
     ]
    }
   ],
   "source": [
    "#6\n",
    "def nested_dictionary(l1, l2, l3):\n",
    "    result = [{x: {y: z}} for (x, y, z) in zip(l1, l2, l3)]\n",
    "    return result\n",
    "\n",
    "student_id = [\"R1\", \"R2\", \"R3\", \"R4\"] \n",
    "student_name = [\"Saravana\", \"Shreya\", \"Shakthi\", \"Shwetha\"] \n",
    "student_grade = [85, 98, 89, 92]\n",
    "print(\"Original strings:\")\n",
    "print(student_id)\n",
    "print(student_name)\n",
    "print(student_grade)\n",
    "print(\"\\nNested dictionary:\")\n",
    "ch='a'\n",
    "print(nested_dictionary(student_id, student_name, student_grade))\n",
    "      "
   ]
  },
  {
   "cell_type": "code",
   "execution_count": 19,
   "metadata": {},
   "outputs": [
    {
     "name": "stdout",
     "output_type": "stream",
     "text": [
      "Original Dictionary:\n",
      "{'Varun': (6.2, 70), 'Tharun': (5.9, 60), 'Arun': (6.0, 68), 'Suran': (5.8, 66)}\n",
      "\n",
      "Height > 5.5 and weight > 65:\n",
      "{'Varun': (6.2, 70), 'Arun': (6.0, 68), 'Suran': (5.8, 66)}\n"
     ]
    }
   ],
   "source": [
    "#7\n",
    "def filter_data(students):\n",
    "    result = {k: s for k, s in students.items() if s[0] >=5.5 and s[1] >=65}\n",
    "    return result    \n",
    " \n",
    "students = {'Varun': (6.2, 70), 'Tharun': (5.9, 60), 'Arun': (6.0, 68), 'Suran': (5.8, 66)}\n",
    "print(\"Original Dictionary:\")\n",
    "print(students)\n",
    "print(\"\\nHeight > 5.5 and weight > 65:\")\n",
    "print(filter_data(students))"
   ]
  },
  {
   "cell_type": "code",
   "execution_count": 20,
   "metadata": {},
   "outputs": [
    {
     "name": "stdout",
     "output_type": "stream",
     "text": [
      "Original Dictionary:\n",
      "{'dinesh': 12, 'boss': 12, 'siva': 12, 'suresh': 12}\n",
      "\n",
      "Check all are  12 in the dictionary.\n",
      "True\n",
      "\n",
      "Check all are  10 in the dictionary.\n",
      "False\n"
     ]
    }
   ],
   "source": [
    "#8\n",
    "def value_check(students, n):\n",
    "    result = all(x == n for x in students.values()) \n",
    "    return result\n",
    "  \n",
    "students = {'dinesh': 12, 'boss': 12, 'siva': 12, 'suresh': 12}\n",
    "print(\"Original Dictionary:\")\n",
    "print(students)\n",
    "n = 12\n",
    "print(\"\\nCheck all are \",n,\"in the dictionary.\")\n",
    "print(value_check(students, n))\n",
    "n = 10\n",
    "print(\"\\nCheck all are \",n,\"in the dictionary.\")\n",
    "print(value_check(students, n))"
   ]
  },
  {
   "cell_type": "code",
   "execution_count": 21,
   "metadata": {},
   "outputs": [
    {
     "name": "stdout",
     "output_type": "stream",
     "text": [
      "\n",
      "Original Dictionary:\n",
      "[{'Math': 90, 'Science': 92}, {'Math': 89, 'Science': 94}, {'Math': 92, 'Science': 88}]\n",
      "\n",
      "Extract a list of values from said list of dictonaries where subject =  Math\n",
      "[90, 89, 92]\n"
     ]
    }
   ],
   "source": [
    "#9\n",
    "def test(lst, marks):\n",
    "    result = [d[marks] for d in lst if marks in d]\n",
    "    return result\n",
    "\n",
    "marks = [{'Math': 90, 'Science': 92}, \n",
    "         {'Math': 89, 'Science': 94}, \n",
    "         {'Math': 92, 'Science': 88}] \n",
    "print(\"\\nOriginal Dictionary:\")\n",
    "print(marks)\n",
    "Subj = \"Math\"\n",
    "print(\"\\nExtract a list of values from said list of dictonaries where subject = \",Subj)\n",
    "print(test(marks, Subj))"
   ]
  },
  {
   "cell_type": "code",
   "execution_count": 22,
   "metadata": {},
   "outputs": [
    {
     "name": "stdout",
     "output_type": "stream",
     "text": [
      "\n",
      "Original Dictionary:\n",
      "{1: 'red', 2: 'green', 3: 'black', 4: 'white', 5: 'black'}\n",
      "Length of dictionary values:\n",
      "{'red': 3, 'green': 5, 'black': 5, 'white': 5}\n",
      "\n",
      "Original Dictionary:\n",
      "{'1': 'Boss', '2': 'Siva', '3': 'Suresh', '4': 'Kumar'}\n",
      "Length of dictionary values:\n",
      "{'Boss': 4, 'Siva': 4, 'Suresh': 6, 'Kumar': 5}\n"
     ]
    }
   ],
   "source": [
    "#10\n",
    "def test(dictt):\n",
    "    result = {}\n",
    "    for val in dictt.values(): \n",
    "        result[val] = len(val) \n",
    "    return result    \n",
    "\n",
    "color = {1 : 'red', 2 : 'green', 3 : 'black', 4 : 'white', 5 : 'black'}\n",
    "print(\"\\nOriginal Dictionary:\")\n",
    "print(color)\n",
    "print(\"Length of dictionary values:\")\n",
    "print(test(color))\n",
    "\n",
    "name = {'1' : 'Boss', '2' : 'Siva', '3' : 'Suresh', '4' : 'Kumar'}\n",
    "print(\"\\nOriginal Dictionary:\")\n",
    "print(name)\n",
    "print(\"Length of dictionary values:\")\n",
    "print(test(name))"
   ]
  },
  {
   "cell_type": "code",
   "execution_count": 23,
   "metadata": {},
   "outputs": [
    {
     "name": "stdout",
     "output_type": "stream",
     "text": [
      "\n",
      "Original Dictionary:\n",
      "{1: 'red', 2: 'green', 3: 'black', 4: 'white', 5: 'black'}\n",
      "Convert the said dictionary into a list of lists:\n",
      "[[1, 'red'], [2, 'green'], [3, 'black'], [4, 'white'], [5, 'black']]\n",
      "\n",
      "Original Dictionary:\n",
      "{'1': 'Boss', '2': 'Siva', '3': 'Suresh', '4': 'Kumar'}\n",
      "Convert the said dictionary into a list of lists:\n",
      "[['1', 'Boss'], ['2', 'Siva'], ['3', 'Suresh'], ['4', 'Kumar']]\n"
     ]
    }
   ],
   "source": [
    "#11\n",
    "def test(dictt):\n",
    "    result = list(map(list, dictt.items()))\n",
    "    return result\n",
    "color = {1 : 'red', 2 : 'green', 3 : 'black', 4 : 'white', 5 : 'black'}\n",
    "print(\"\\nOriginal Dictionary:\")\n",
    "print(color)\n",
    "print(\"Convert the said dictionary into a list of lists:\")\n",
    "print(test(color))\n",
    "\n",
    "name = {'1' : 'Boss', '2' : 'Siva', '3' : 'Suresh', '4' : 'Kumar'}\n",
    "print(\"\\nOriginal Dictionary:\")\n",
    "print(name)\n",
    "print(\"Convert the said dictionary into a list of lists:\")\n",
    "print(test(name))"
   ]
  },
  {
   "cell_type": "code",
   "execution_count": 24,
   "metadata": {},
   "outputs": [
    {
     "name": "stdout",
     "output_type": "stream",
     "text": [
      "\n",
      "Original Dictionary:\n",
      "{'V': [1, 4, 6, 10], 'VI': [1, 4, 12], 'VII': [1, 3, 8]}\n",
      "Filter even numbers from said dictionary values:\n",
      "{'V': [4, 6, 10], 'VI': [4, 12], 'VII': [8]}\n",
      "\n",
      "Original Dictionary:\n",
      "{'V': [1, 3, 5], 'VI': [1, 5], 'VII': [2, 7, 9]}\n",
      "Filter even numbers from said dictionary values:\n",
      "{'V': [], 'VI': [], 'VII': [2]}\n"
     ]
    }
   ],
   "source": [
    "#12\n",
    "def test(dictt):\n",
    "    result = {key: [idx for idx in val if not idx % 2]  \n",
    "          for key, val in dictt.items()}   \n",
    "    return result    \n",
    "\n",
    "students = {'V' : [1, 4, 6, 10], 'VI' : [1, 4, 12], 'VII' : [1, 3, 8]} \n",
    "print(\"\\nOriginal Dictionary:\")\n",
    "print(students)\n",
    "print(\"Filter even numbers from said dictionary values:\")\n",
    "print(test(students))\n",
    "\n",
    "students = {'V' : [1, 3, 5], 'VI' : [1, 5], 'VII' : [2, 7, 9]} \n",
    "print(\"\\nOriginal Dictionary:\")\n",
    "print(students)\n",
    "print(\"Filter even numbers from said dictionary values:\")\n",
    "print(test(students))"
   ]
  },
  {
   "cell_type": "code",
   "execution_count": 25,
   "metadata": {},
   "outputs": [
    {
     "name": "stdout",
     "output_type": "stream",
     "text": [
      "\n",
      "Original Dictionary:\n",
      "{'a': 5, 'b': 14, 'c': 32, 'd': 35, 'e': 24, 'f': 100, 'g': 57, 'h': 8, 'i': 100}\n",
      "Top 2 highest values' key are: ['f', 'i']\n",
      "Top 5 highest values' key are: ['f', 'i', 'g', 'd', 'c']\n"
     ]
    }
   ],
   "source": [
    "#13\n",
    "def test(dictt, N):\n",
    "    result = sorted(dictt, key=dictt.get, reverse=True)[:N]\n",
    "    return result \n",
    "dictt = {'a':5, 'b':14, 'c': 32, 'd':35, 'e':24, 'f': 100, 'g':57, 'h':8, 'i': 100}\n",
    "print(\"\\nOriginal Dictionary:\")\n",
    "print(dictt)\n",
    "N = 2\n",
    "print(\"Top\", N, \"highest values' key are:\", test(dictt, N))\n",
    "N = 5\n",
    "print(\"Top\", N, \"highest values' key are:\", test(dictt, N))"
   ]
  },
  {
   "cell_type": "code",
   "execution_count": 26,
   "metadata": {},
   "outputs": [
    {
     "name": "stdout",
     "output_type": "stream",
     "text": [
      "\n",
      "Original Dictionary: {'V': [10, 12], 'VI': [10], 'VII': [10, 20, 30, 40], 'VIII': [20], 'IX': [10, 30, 50, 70], 'X': [80]}\n",
      "\n",
      "Keys of shortest list of values are : ['VI', 'VIII', 'X']\n"
     ]
    }
   ],
   "source": [
    "#14\n",
    "def test(dictt):\n",
    "    min_value=1\n",
    "    result = [k for k, v in dictt.items() if len(v) == (min_value)] \n",
    "    return result    \n",
    "\n",
    "dictt = {\n",
    " 'V': [10, 12],\n",
    " 'VI': [10],\n",
    " 'VII': [10, 20, 30, 40],\n",
    " 'VIII': [20],\n",
    " 'IX': [10,30,50,70],\n",
    " 'X': [80]\n",
    " }\n",
    "\n",
    "print(\"\\nOriginal Dictionary:\", dictt)\n",
    "print(\"\\nKeys of shortest list of values are :\", test(dictt))"
   ]
  },
  {
   "cell_type": "code",
   "execution_count": 27,
   "metadata": {},
   "outputs": [
    {
     "name": "stdout",
     "output_type": "stream",
     "text": [
      "\n",
      "Original Dictionary:\n",
      "{'V': 10, 'VI': 10, 'VII': 40, 'VIII': 20, 'IX': 70, 'X': 80, 'XI': 40, 'XII': 20}\n",
      "\n",
      "Count the frequency of the said dictionary:\n",
      "Counter({10: 2, 40: 2, 20: 2, 70: 1, 80: 1})\n"
     ]
    }
   ],
   "source": [
    "#15\n",
    "from collections import Counter\n",
    "def test(dictt):    \n",
    "    result = Counter(dictt.values())\n",
    "    return result    \n",
    "\n",
    "dictt = {\n",
    " 'V': 10,\n",
    " 'VI': 10,\n",
    " 'VII': 40,\n",
    " 'VIII': 20,\n",
    " 'IX': 70,\n",
    " 'X': 80,\n",
    " 'XI': 40,\n",
    " 'XII': 20, \n",
    " }\n",
    "\n",
    "print(\"\\nOriginal Dictionary:\")\n",
    "print(dictt)\n",
    "print(\"\\nCount the frequency of the said dictionary:\")\n",
    "print(test(dictt))"
   ]
  },
  {
   "cell_type": "code",
   "execution_count": 28,
   "metadata": {},
   "outputs": [
    {
     "name": "stdout",
     "output_type": "stream",
     "text": [
      "\n",
      "Original Dictionary:\n",
      "[{'student_id': 1, 'name': 'Basakr', 'class': 'V'}, {'student_id': 2, 'name': 'Suresh', 'class': 'V'}, {'student_id': 3, 'name': 'Siva', 'class': 'VI'}, {'student_id': 4, 'name': 'Karthi', 'class': 'VI'}, {'student_id': 5, 'name': 'Dinesh', 'class': 'VII'}]\n",
      "\n",
      "Extract values from the said dictionarie and create a list of lists using those values:\n",
      "\n",
      " [[1, 'Basakr', 'V'], [2, 'Suresh', 'V'], [3, 'Siva', 'VI'], [4, 'Karthi', 'VI'], [5, 'Dinesh', 'VII']]\n",
      "\n",
      " [[1, 'Basakr'], [2, 'Suresh'], [3, 'Siva'], [4, 'Karthi'], [5, 'Dinesh']]\n",
      "\n",
      " [['Basakr', 'V'], ['Suresh', 'V'], ['Siva', 'VI'], ['Karthi', 'VI'], ['Dinesh', 'VII']]\n"
     ]
    }
   ],
   "source": [
    "#16\n",
    "def test(dictt,keys):\n",
    "    return [list(d[k] for k in keys) for d in dictt] \n",
    "\n",
    "students = [\n",
    "        {'student_id': 1, 'name': 'Basakr', 'class': 'V'}, \n",
    "        {'student_id': 2, 'name': 'Suresh', 'class': 'V'},\n",
    "        {'student_id': 3, 'name': 'Siva', 'class': 'VI'}, \n",
    "        {'student_id': 4, 'name': 'Karthi', 'class': 'VI'}, \n",
    "        {'student_id': 5, 'name': 'Dinesh', 'class': 'VII'}\n",
    "        ]\n",
    "\n",
    "print(\"\\nOriginal Dictionary:\")\n",
    "print(students)\n",
    "print(\"\\nExtract values from the said dictionarie and create a list of lists using those values:\")\n",
    "print(\"\\n\",test(students,('student_id', 'name', 'class')))\n",
    "print(\"\\n\",test(students,('student_id', 'name')))\n",
    "print(\"\\n\",test(students,('name', 'class')))"
   ]
  },
  {
   "cell_type": "code",
   "execution_count": 29,
   "metadata": {},
   "outputs": [
    {
     "name": "stdout",
     "output_type": "stream",
     "text": [
      "\n",
      "Original list of lists:\n",
      "[[1, 'Basakr', 'V'], [2, 'Suresh', 'V'], [3, 'Siva', 'VI'], [4, 'Karthi', 'VI'], [5, 'Dinesh', 'VII']]\n",
      "\n",
      "Convert the said list of lists to a dictionary:\n",
      "{1: ['Basakr', 'V'], 2: ['Suresh', 'V'], 3: ['Siva', 'VI'], 4: ['Karthi', 'VI'], 5: ['Dinesh', 'VII']}\n"
     ]
    }
   ],
   "source": [
    "#17\n",
    "def test(lst):\n",
    "    result = {item[0]: item[1:] for item in lst}\n",
    "    return result\n",
    "\n",
    "students = [[1, 'Basakr', 'V'], [2, 'Suresh', 'V'], [3, 'Siva', 'VI'], [4, 'Karthi', 'VI'], [5, 'Dinesh', 'VII']]\n",
    "\n",
    "print(\"\\nOriginal list of lists:\")\n",
    "print(students)\n",
    "print(\"\\nConvert the said list of lists to a dictionary:\")\n",
    "print(test(students))"
   ]
  },
  {
   "cell_type": "code",
   "execution_count": 30,
   "metadata": {},
   "outputs": [
    {
     "name": "stdout",
     "output_type": "stream",
     "text": [
      "\n",
      "Original dictionary:\n",
      "{'#FF0000': 'Boss', '#800000': 'Siva', '#FFFF00': 'Kumar', '#808000': 'Suresh'}\n",
      "\n",
      "Total length of all values of the said dictionary: 19\n"
     ]
    }
   ],
   "source": [
    "#18\n",
    "def test(dictt):\n",
    "    result = sum((len(values) for values in dictt.values()))\n",
    "    return result\n",
    "name = {'#FF0000':'Boss', '#800000':'Siva', '#FFFF00':'Kumar', '#808000':'Suresh'}\n",
    "print(\"\\nOriginal dictionary:\")\n",
    "print(name)\n",
    "print(\"\\nTotal length of all values of the said dictionary:\", test(name))"
   ]
  },
  {
   "cell_type": "code",
   "execution_count": 31,
   "metadata": {},
   "outputs": [
    {
     "name": "stdout",
     "output_type": "stream",
     "text": [
      "\n",
      "Original dictionary:\n",
      "[{'student_id': 1, 'name': 'Basakr', 'class': 'V'}, {'student_id': 2, 'name': 'Suresh', 'class': 'V'}, {'student_id': 3, 'name': 'Siva', 'class': 'VI'}, {'student_id': 4, 'name': 'Karthi', 'class': 'VI'}, {'student_id': 5, 'name': 'Dinesh', 'class': 'VII'}]\n",
      "\n",
      "Check if a specific Key and a value exist in the said dictionary:\n",
      "True\n",
      "False\n",
      "True\n",
      "False\n",
      "False\n",
      "False\n"
     ]
    }
   ],
   "source": [
    "#19\n",
    "def test(dictt, key, value):\n",
    "    if any(sub[key] == value for sub in dictt):\n",
    "        return True\n",
    "    return False\n",
    "\n",
    "students = [\n",
    "        {'student_id': 1, 'name': 'Basakr', 'class': 'V'}, \n",
    "        {'student_id': 2, 'name': 'Suresh', 'class': 'V'},\n",
    "        {'student_id': 3, 'name': 'Siva', 'class': 'VI'}, \n",
    "        {'student_id': 4, 'name': 'Karthi', 'class': 'VI'}, \n",
    "        {'student_id': 5, 'name': 'Dinesh', 'class': 'VII'}\n",
    "        ]\n",
    "          \n",
    "\n",
    "print(\"\\nOriginal dictionary:\")\n",
    "print(students)\n",
    "print(\"\\nCheck if a specific Key and a value exist in the said dictionary:\")\n",
    "print(test(students,'student_id', 1))\n",
    "print(test(students,'name', 'Brian Howell'))\n",
    "print(test(students,'class', 'VII'))\n",
    "print(test(students,'class', 'I'))\n",
    "print(test(students,'name', 'Brian Howelll'))\n",
    "print(test(students,'student_id', 11))"
   ]
  },
  {
   "cell_type": "code",
   "execution_count": 32,
   "metadata": {},
   "outputs": [
    {
     "name": "stdout",
     "output_type": "stream",
     "text": [
      "Original Dictionary:\n",
      "{'dinesh': 45, 'boss': 45, 'siva': 45, 'suresh': 45}\n",
      "\n",
      "Check all are  12 in the dictionary.\n",
      "False\n",
      "\n",
      "Check all are  45 in the dictionary.\n",
      "True\n"
     ]
    }
   ],
   "source": [
    "#20\n",
    "def value_check(students, n):\n",
    "    result = all(x == n for x in students.values()) \n",
    "    return result\n",
    "  \n",
    "students ={'dinesh': 45, 'boss': 45, 'siva': 45, 'suresh': 45}\n",
    "print(\"Original Dictionary:\")\n",
    "print(students)\n",
    "n = 12\n",
    "print(\"\\nCheck all are \",n,\"in the dictionary.\")\n",
    "print(value_check(students, n))\n",
    "n = 45\n",
    "print(\"\\nCheck all are \",n,\"in the dictionary.\")\n",
    "print(value_check(students, n))"
   ]
  },
  {
   "cell_type": "code",
   "execution_count": null,
   "metadata": {},
   "outputs": [],
   "source": []
  }
 ],
 "metadata": {
  "kernelspec": {
   "display_name": "Python 3",
   "language": "python",
   "name": "python3"
  },
  "language_info": {
   "codemirror_mode": {
    "name": "ipython",
    "version": 3
   },
   "file_extension": ".py",
   "mimetype": "text/x-python",
   "name": "python",
   "nbconvert_exporter": "python",
   "pygments_lexer": "ipython3",
   "version": "3.8.5"
  }
 },
 "nbformat": 4,
 "nbformat_minor": 4
}
