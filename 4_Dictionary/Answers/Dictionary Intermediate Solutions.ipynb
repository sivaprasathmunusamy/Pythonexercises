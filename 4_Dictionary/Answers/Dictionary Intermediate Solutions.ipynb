{
 "cells": [
  {
   "cell_type": "markdown",
   "metadata": {},
   "source": [
    "# Dictionary Intermediate Solutions"
   ]
  },
  {
   "cell_type": "code",
   "execution_count": 16,
   "metadata": {},
   "outputs": [
    {
     "name": "stdout",
     "output_type": "stream",
     "text": [
      "Original dictionry: {1: 2, 3: 4, 4: 3, 2: 1, 0: 0}\n",
      "Dictionary in ascending order in value: {0: 0, 2: 1, 1: 2, 4: 3, 3: 4}\n",
      "Dictionary in descending order in value: {3: 4, 4: 3, 1: 2, 2: 1, 0: 0}\n"
     ]
    }
   ],
   "source": [
    "#1\n",
    "import operator\n",
    "d = {1:2,3:4,4:3,2:1,0:0}\n",
    "print(\"Original dictionry:\",d)\n",
    "sorteds= dict(sorted(d.items(),key=operator.itemgetter(1)))\n",
    "print(\"Dictionary in ascending order in value:\",sorteds)\n",
    "sorteds=dict(sorted(d.items(),key=operator.itemgetter(1),reverse=True))\n",
    "print(\"Dictionary in descending order in value:\",sorteds)"
   ]
  },
  {
   "cell_type": "code",
   "execution_count": 17,
   "metadata": {},
   "outputs": [
    {
     "name": "stdout",
     "output_type": "stream",
     "text": [
      "key 5 is present in the Dictionary\n",
      "key 7 is not present n the Dictionary\n",
      "key 6 is present in the Dictionary\n"
     ]
    }
   ],
   "source": [
    "#2\n",
    "d = {1: 10, 2: 20, 3: 30, 4: 40, 5: 50, 6: 60}\n",
    "def present(x):\n",
    "    if x in d:\n",
    "        print(\"key\", x, \"is present in the Dictionary\")\n",
    "    else:\n",
    "        print(\"key\", x, \"is not present n the Dictionary\")\n",
    "present(5)\n",
    "present(7)\n",
    "present(6)"
   ]
  },
  {
   "cell_type": "code",
   "execution_count": 18,
   "metadata": {},
   "outputs": [
    {
     "name": "stdout",
     "output_type": "stream",
     "text": [
      "{'x': 'boss', 'y': 'siva', 'z': 'suresh'}\n"
     ]
    }
   ],
   "source": [
    "#3\n",
    "class dictObj(object):\n",
    "    def __init__(self):\n",
    "        self.x = 'boss'\n",
    "        self.y = 'siva'\n",
    "        self.z = 'suresh'\n",
    "    def do_nothing(self):\n",
    "         pass\n",
    "test = dictObj()\n",
    "print(test.__dict__)"
   ]
  },
  {
   "cell_type": "code",
   "execution_count": 19,
   "metadata": {},
   "outputs": [
    {
     "name": "stdout",
     "output_type": "stream",
     "text": [
      "Original List:  [{'V': 'S001'}, {'V': 'S002'}, {'VI': 'S001'}, {'VI': 'S005'}, {'VII': 'S005'}, {'V': 'S009'}, {'VIII': 'S007'}]\n",
      "Unique Values:  {'S007', 'S005', 'S009', 'S002', 'S001'}\n"
     ]
    }
   ],
   "source": [
    "#4\n",
    "D = [{\"V\":\"S001\"}, {\"V\": \"S002\"}, {\"VI\": \"S001\"}, {\"VI\": \"S005\"}, {\"VII\":\"S005\"}, {\"V\":\"S009\"},{\"VIII\":\"S007\"}]\n",
    "print(\"Original List: \",D)\n",
    "value = set( val for dic in D for val in dic.values())\n",
    "print(\"Unique Values: \",value)"
   ]
  },
  {
   "cell_type": "code",
   "execution_count": 20,
   "metadata": {},
   "outputs": [
    {
     "name": "stdout",
     "output_type": "stream",
     "text": [
      "Counter({'chemistry': 170, 'social': 89})\n"
     ]
    }
   ],
   "source": [
    "#5\n",
    "from  collections import Counter\n",
    "l =  [{'subject': 'chemistry', 'mark': 97}, {'subject': 'social', 'mark': 89}, {'subject': 'chemistry', 'mark': 73}]\n",
    "result = Counter()\n",
    "\n",
    "for d in l:\n",
    "\n",
    "    result[d['subject']] += d['mark']\n",
    "\n",
    "print(result)"
   ]
  },
  {
   "cell_type": "code",
   "execution_count": 21,
   "metadata": {},
   "outputs": [
    {
     "name": "stdout",
     "output_type": "stream",
     "text": [
      "{'K': 1, 'a': 3, 'z': 1, 'i': 1, 'r': 1, 'n': 1, 'g': 1}\n"
     ]
    }
   ],
   "source": [
    "#6\n",
    "from collections import defaultdict, Counter\n",
    "str1 = \"Kaziranga\"\n",
    "mydict = {}\n",
    "for letter in str1:\n",
    "    mydict[letter] = mydict.get(letter, 0) + 1\n",
    "print(mydict)"
   ]
  },
  {
   "cell_type": "code",
   "execution_count": 22,
   "metadata": {},
   "outputs": [
    {
     "name": "stdout",
     "output_type": "stream",
     "text": [
      "Sum of id: 19\n",
      "Sum of success: 2\n"
     ]
    }
   ],
   "source": [
    "#7\n",
    "student = [{'id': 7, 'success': True, 'name': 'Rahman'},\n",
    "           {'id': 8, 'success': False, 'name': 'Harris'},\n",
    "           {'id': 4, 'success': True, 'name': 'Aniruth'}]\n",
    "print(\"Sum of id:\",sum(d['id'] for d in student))\n",
    "print(\"Sum of success:\",sum(d['success'] for d in student))"
   ]
  },
  {
   "cell_type": "code",
   "execution_count": 23,
   "metadata": {},
   "outputs": [
    {
     "name": "stdout",
     "output_type": "stream",
     "text": [
      "Original dictionary:  {'S  001': ['Math', 'Science'], 'S    002': ['Math', 'English']}\n",
      "New dictionary:  {'S001': ['Math', 'Science'], 'S002': ['Math', 'English']}\n"
     ]
    }
   ],
   "source": [
    "#8\n",
    "student = {'S  001': ['Math', 'Science'], 'S    002': ['Math', 'English']}\n",
    "print(\"Original dictionary: \",student)\n",
    "students = {x.translate({32: None}): y for x, y in student.items()}\n",
    "print(\"New dictionary: \",students)"
   ]
  },
  {
   "cell_type": "code",
   "execution_count": 24,
   "metadata": {},
   "outputs": [
    {
     "name": "stdout",
     "output_type": "stream",
     "text": [
      "Sanitizer 55\n",
      "Wallet 45.5\n",
      "Perfume 41.3\n"
     ]
    }
   ],
   "source": [
    "#9\n",
    "from heapq import nlargest\n",
    "from operator import itemgetter\n",
    "items = {'Wallet': 45.50, 'Keychain':35, 'Perfume': 41.30, 'Sanitizer':55, 'Knife': 24}\n",
    "for name, value in nlargest(3, items.items(), key=itemgetter(1)):\n",
    "    print(name, value)"
   ]
  },
  {
   "cell_type": "code",
   "execution_count": 25,
   "metadata": {},
   "outputs": [
    {
     "name": "stdout",
     "output_type": "stream",
     "text": [
      "key  value  count\n",
      "1     10     1\n",
      "2     20     2\n",
      "3     30     3\n",
      "4     40     4\n",
      "5     50     5\n",
      "6     60     6\n"
     ]
    }
   ],
   "source": [
    "#10\n",
    "d = {1:10,2:20,3:30,4:40,5:50,6:60}\n",
    "print(\"key  value  count\")\n",
    "for count, (key,value) in enumerate(d.items(), 1):\n",
    "    print(key,\"   \",value,\"   \",count)"
   ]
  },
  {
   "cell_type": "code",
   "execution_count": 26,
   "metadata": {
    "scrolled": true
   },
   "outputs": [
    {
     "name": "stdout",
     "output_type": "stream",
     "text": [
      "Arun\n",
      "class : A\n",
      "roll_no : 2\n",
      "***********\n",
      "Tharun\n",
      "class : A\n",
      "roll_no : 1\n",
      "***********\n",
      "Varun\n",
      "class : B\n",
      "roll_no : 3\n",
      "***********\n"
     ]
    }
   ],
   "source": [
    "#11\n",
    "students = {\"Arun\":{\"class\":\"A\", \"roll_no\":2},\n",
    "                    \"Tharun\": {\"class\":\"A\", \"roll_no\":1},\n",
    "                      \"Varun\":{\"class\":\"B\", \"roll_no\":3}}\n",
    "for a in students:\n",
    "    print(a)\n",
    "    for b in students[a]:\n",
    "        print(b,\":\",students[a][b])\n",
    "    print(\"***********\")"
   ]
  },
  {
   "cell_type": "code",
   "execution_count": 27,
   "metadata": {},
   "outputs": [
    {
     "name": "stdout",
     "output_type": "stream",
     "text": [
      "True\n",
      "False\n",
      "True\n"
     ]
    }
   ],
   "source": [
    "#12\n",
    "student = {\n",
    "  'name': 'Boss',\n",
    "  'class': 'A',\n",
    "  'roll id': '7'\n",
    "}\n",
    "print(student.keys() >= {'class', 'name'})\n",
    "print(student.keys() >= {'name', 'Boss'})\n",
    "print(student.keys() >= {'roll id', 'name'})"
   ]
  },
  {
   "cell_type": "code",
   "execution_count": 28,
   "metadata": {},
   "outputs": [
    {
     "name": "stdout",
     "output_type": "stream",
     "text": [
      "5\n"
     ]
    }
   ],
   "source": [
    "#13\n",
    "d =  {'Boss': ['subj1', 'subj2', 'subj3'], 'Siva': ['subj1', 'subj2']}\n",
    "ctr = sum(map(len, d.values()))\n",
    "print(ctr)"
   ]
  },
  {
   "cell_type": "code",
   "execution_count": 29,
   "metadata": {},
   "outputs": [
    {
     "name": "stdout",
     "output_type": "stream",
     "text": [
      "[('Chemistry', 97), ('Physics', 93), ('Math', 91)]\n"
     ]
    }
   ],
   "source": [
    "#14\n",
    "from collections import Counter\n",
    "x = Counter({'Math':91, 'Physics':93, 'Chemistry':97})\n",
    "print(x.most_common())"
   ]
  },
  {
   "cell_type": "code",
   "execution_count": 30,
   "metadata": {},
   "outputs": [
    {
     "name": "stdout",
     "output_type": "stream",
     "text": [
      "key1: 1 is present in both x and y \n"
     ]
    }
   ],
   "source": [
    "#15\n",
    "x = {\"key1\":1, \"key2\":3, \"key3\":2}\n",
    "y = {\"key1\":1, \"key2\":2}\n",
    "for (key,value) in set(x.items())& set(y.items()):\n",
    "    print(\"%s: %s is present in both x and y \" %(key,value))"
   ]
  },
  {
   "cell_type": "code",
   "execution_count": 31,
   "metadata": {},
   "outputs": [
    {
     "name": "stdout",
     "output_type": "stream",
     "text": [
      "original dictionary:\n",
      "{'c1': 'Red', 'c2': 'Green', 'c3': None}\n",
      "New Dictionary after dropping empty items:\n",
      "{'c1': 'Red', 'c2': 'Green'}\n"
     ]
    }
   ],
   "source": [
    "#16\n",
    "d = {'c1': 'Red', 'c2': 'Green', 'c3': None}\n",
    "print(\"original dictionary:\")\n",
    "print(d)\n",
    "print(\"New Dictionary after dropping empty items:\")\n",
    "d = {key:value for (key,value) in d.items() if value is  not None }\n",
    "print(d)"
   ]
  },
  {
   "cell_type": "code",
   "execution_count": 32,
   "metadata": {},
   "outputs": [
    {
     "name": "stdout",
     "output_type": "stream",
     "text": [
      "Original dictionary:\n",
      "{'Cierra Vega': 175, 'Alden Cantrell': 180, 'Kierra Gentry': 165, 'Pierre Cox': 190}\n",
      "Marks greater than 170:\n",
      "{'Cierra Vega': 175, 'Alden Cantrell': 180, 'Pierre Cox': 190}\n"
     ]
    }
   ],
   "source": [
    "#17\n",
    "marks = {'Cierra Vega': 175, 'Alden Cantrell': 180, 'Kierra Gentry': 165, 'Pierre Cox': 190}\n",
    "print(\"Original dictionary:\")\n",
    "print(marks)\n",
    "print(\"Marks greater than 170:\")\n",
    "result = {key:value for key,value in marks.items() if value >=170}\n",
    "print(result)"
   ]
  },
  {
   "cell_type": "code",
   "execution_count": 33,
   "metadata": {},
   "outputs": [
    {
     "name": "stdout",
     "output_type": "stream",
     "text": [
      "Original list:\n",
      "[('boss', 1), ('bala', 2), ('siva', 3), ('karthi', 4), ('suresh', 1)]\n",
      "\n",
      "Grouping a sequence of key-value pairs into a dictionary of lists:\n",
      "{'boss': [1], 'bala': [2], 'siva': [3], 'karthi': [4], 'suresh': [1]}\n"
     ]
    }
   ],
   "source": [
    "#18\n",
    "def grouping_dictionary(l):\n",
    "    result = {}\n",
    "    for k,v in l:\n",
    "        result.setdefault(k,[]).append(v)\n",
    "    return result\n",
    "\n",
    "name = [('boss', 1), ('bala', 2), ('siva', 3), ('karthi', 4), ('suresh', 1)]\n",
    "print(\"Original list:\")\n",
    "print(name)\n",
    "print(\"\\nGrouping a sequence of key-value pairs into a dictionary of lists:\")\n",
    "print(grouping_dictionary(name))"
   ]
  },
  {
   "cell_type": "code",
   "execution_count": 34,
   "metadata": {},
   "outputs": [
    {
     "name": "stdout",
     "output_type": "stream",
     "text": [
      "Original dictionary:\n",
      "{'D1': [10, 20, 30], 'D2': [20, 30, 40], 'D3': [12, 34]}\n",
      "\n",
      "Clear the list values in the said dictionary:\n",
      "{'D1': [], 'D2': [], 'D3': []}\n"
     ]
    }
   ],
   "source": [
    "#19\n",
    "def test(dictionary):\n",
    "    for key in dictionary:\n",
    "        dictionary[key].clear()\n",
    "    return dictionary\n",
    "\n",
    "dictionary = {\n",
    "                'D1': [10, 20, 30], \n",
    "                'D2': [20, 30, 40], \n",
    "                'D3': [12, 34]\n",
    "              }\n",
    "print(\"Original dictionary:\")\n",
    "print(dictionary)\n",
    "print(\"\\nClear the list values in the said dictionary:\")\n",
    "print(test(dictionary))"
   ]
  },
  {
   "cell_type": "code",
   "execution_count": 35,
   "metadata": {},
   "outputs": [
    {
     "name": "stdout",
     "output_type": "stream",
     "text": [
      "\n",
      "Original Dictionary:\n",
      "{'Math': [88, 89, 90], 'Physics': [92, 94, 89], 'Chemistry': [90, 87, 93]}\n",
      "\n",
      "Update the list values of the said dictionary:\n",
      "{'Math': [89, 90, 91], 'Physics': [90, 92, 87], 'Chemistry': [90, 87, 93]}\n"
     ]
    }
   ],
   "source": [
    "#20\n",
    "def test(dictionary):\n",
    "    dictionary[\"Math\"] = [x+1 for x in dictionary [\"Math\"]]\n",
    "    dictionary[\"Physics\"] = [x-2 for x in dictionary [\"Physics\"]]\n",
    "    return dictionary\n",
    "\n",
    "dictionary = {'Math': [88, 89, 90], \n",
    "              'Physics': [92, 94, 89], \n",
    "              'Chemistry': [90, 87, 93]\n",
    "             }\n",
    "print(\"\\nOriginal Dictionary:\")\n",
    "print(dictionary)\n",
    "print(\"\\nUpdate the list values of the said dictionary:\")\n",
    "print(test(dictionary))"
   ]
  },
  {
   "cell_type": "code",
   "execution_count": null,
   "metadata": {},
   "outputs": [],
   "source": []
  }
 ],
 "metadata": {
  "kernelspec": {
   "display_name": "Python 3",
   "language": "python",
   "name": "python3"
  },
  "language_info": {
   "codemirror_mode": {
    "name": "ipython",
    "version": 3
   },
   "file_extension": ".py",
   "mimetype": "text/x-python",
   "name": "python",
   "nbconvert_exporter": "python",
   "pygments_lexer": "ipython3",
   "version": "3.8.5"
  }
 },
 "nbformat": 4,
 "nbformat_minor": 4
}
