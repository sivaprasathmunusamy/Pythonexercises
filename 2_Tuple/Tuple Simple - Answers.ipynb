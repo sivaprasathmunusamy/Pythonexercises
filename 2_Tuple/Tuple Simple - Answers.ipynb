{
 "cells": [
  {
   "cell_type": "code",
   "execution_count": 30,
   "metadata": {},
   "outputs": [
    {
     "name": "stdout",
     "output_type": "stream",
     "text": [
      "x - [1, 2]\n",
      "<class 'list'>\n",
      "y - (1, 2)\n",
      "<class 'tuple'>\n"
     ]
    }
   ],
   "source": [
    "#1 \n",
    "x = [1,2]\n",
    "print(\"x -\", x)\n",
    "print(type(x))\n",
    "y= tuple(x)\n",
    "print(\"y -\", y)\n",
    "print(type(y))"
   ]
  },
  {
   "cell_type": "code",
   "execution_count": 31,
   "metadata": {},
   "outputs": [
    {
     "name": "stdout",
     "output_type": "stream",
     "text": [
      "('tuples', 3.2, 1)\n"
     ]
    }
   ],
   "source": [
    "#2\n",
    "x = (\"tuples\",3.2, 1)\n",
    "print(x)\n"
   ]
  },
  {
   "cell_type": "code",
   "execution_count": 32,
   "metadata": {},
   "outputs": [
    {
     "name": "stdout",
     "output_type": "stream",
     "text": [
      "<class 'tuple'> \n",
      " (5, 10, 15, 20, 25)\n",
      "5\n",
      "10\n",
      "15\n",
      "20\n",
      "25\n"
     ]
    }
   ],
   "source": [
    "#3\n",
    "x = (5, 10, 15, 20, 25)\n",
    "print(type(x),\"\\n\",x)\n",
    "for i in range(len(x)):\n",
    "    print(x[i])\n"
   ]
  },
  {
   "cell_type": "code",
   "execution_count": 33,
   "metadata": {},
   "outputs": [
    {
     "name": "stdout",
     "output_type": "stream",
     "text": [
      "volatility\n"
     ]
    }
   ],
   "source": [
    "#4\n",
    "x = ('v', 'o', 'l', 'a', 't', 'i', 'l', 'i', 't', 'y')\n",
    "y =  ''.join(x)\n",
    "print(y)"
   ]
  },
  {
   "cell_type": "code",
   "execution_count": 34,
   "metadata": {},
   "outputs": [
    {
     "name": "stdout",
     "output_type": "stream",
     "text": [
      "(1, 2, 3)\n",
      "[1, 2, 3]\n"
     ]
    }
   ],
   "source": [
    "#5\n",
    "x=(1,2,3)\n",
    "print(x)\n",
    "y=list(x)\n",
    "print(y)"
   ]
  },
  {
   "cell_type": "code",
   "execution_count": 35,
   "metadata": {},
   "outputs": [
    {
     "name": "stdout",
     "output_type": "stream",
     "text": [
      "('a', 'b', 'd')\n"
     ]
    }
   ],
   "source": [
    "#6\n",
    "x = (\"a\",\"b\",\"c\",\"d\")\n",
    "y = list(x) \n",
    "y.remove(\"c\") \n",
    "z = tuple(y)\n",
    "print(z)"
   ]
  },
  {
   "cell_type": "code",
   "execution_count": 36,
   "metadata": {},
   "outputs": [
    {
     "name": "stdout",
     "output_type": "stream",
     "text": [
      "('p', 'o', 's', 'i', 't', 'i', 'o', 'n', 's')\n",
      "9\n"
     ]
    }
   ],
   "source": [
    "#7\n",
    "x = tuple(\"positions\")\n",
    "print(x)\n",
    "print(len(x))"
   ]
  },
  {
   "cell_type": "code",
   "execution_count": 37,
   "metadata": {},
   "outputs": [
    {
     "name": "stdout",
     "output_type": "stream",
     "text": [
      "{'w': 2, 'r': 3}\n"
     ]
    }
   ],
   "source": [
    "#8\n",
    "\n",
    "x = ((2, \"w\"),(3, \"r\"))\n",
    "print(dict((y, x) for x, y in x))\n"
   ]
  },
  {
   "cell_type": "code",
   "execution_count": 38,
   "metadata": {},
   "outputs": [
    {
     "name": "stdout",
     "output_type": "stream",
     "text": [
      "('r', 'a', 'k', 's', 'a', 'B')\n",
      "(20, 15, 10, 5)\n"
     ]
    }
   ],
   "source": [
    "#9\n",
    "x = (\"Baskar\")\n",
    "y = reversed(x)\n",
    "print(tuple(y))\n",
    "x = (5, 10, 15, 20)\n",
    "y = reversed(x)\n",
    "print(tuple(y))\n"
   ]
  },
  {
   "cell_type": "code",
   "execution_count": 39,
   "metadata": {},
   "outputs": [
    {
     "name": "stdout",
     "output_type": "stream",
     "text": [
      "(4, 8, 3)\n",
      "15\n"
     ]
    }
   ],
   "source": [
    "#10\n",
    "x = 4, 8, 3 \n",
    "print(x)\n",
    "n1, n2, n3 =x\n",
    "print(n1 + n2 + n3) "
   ]
  },
  {
   "cell_type": "code",
   "execution_count": 40,
   "metadata": {},
   "outputs": [
    {
     "name": "stdout",
     "output_type": "stream",
     "text": [
      "('Boss', [8, 4, 6], (1, 2, 3))\n"
     ]
    }
   ],
   "source": [
    "#11\n",
    "x = (\"Boss\", [8, 4, 6], (1, 2, 3))\n",
    "print(x)"
   ]
  },
  {
   "cell_type": "code",
   "execution_count": 41,
   "metadata": {},
   "outputs": [
    {
     "name": "stdout",
     "output_type": "stream",
     "text": [
      "<class 'str'>\n",
      "<class 'tuple'>\n"
     ]
    }
   ],
   "source": [
    "#12\n",
    "x = (\"hello\")\n",
    "print(type(x))  \n",
    "y = (\"hello\",)\n",
    "print(type(y))"
   ]
  },
  {
   "cell_type": "code",
   "execution_count": 42,
   "metadata": {},
   "outputs": [
    {
     "name": "stdout",
     "output_type": "stream",
     "text": [
      "x[0] is : B\n",
      "x[5] is : r\n"
     ]
    }
   ],
   "source": [
    "#13\n",
    "x = ('B','a','s','k','a','r')\n",
    "\n",
    "print(\"x[0] is :\", x[0])  \n",
    "print(\"x[5] is :\", x[5]) "
   ]
  },
  {
   "cell_type": "code",
   "execution_count": 43,
   "metadata": {},
   "outputs": [
    {
     "name": "stdout",
     "output_type": "stream",
     "text": [
      "x[0][3] is : s\n",
      "x[1][1] is : 4\n"
     ]
    }
   ],
   "source": [
    "#14\n",
    "x = (\"Boss\", [8, 4, 6], (1, 2, 3))\n",
    "print(\"x[0][3] is :\", x[0][3])     \n",
    "print(\"x[1][1] is :\", x[1][1]) "
   ]
  },
  {
   "cell_type": "code",
   "execution_count": 44,
   "metadata": {},
   "outputs": [
    {
     "name": "stdout",
     "output_type": "stream",
     "text": [
      "x[-1] is : r\n",
      "x[-6] is : B\n"
     ]
    }
   ],
   "source": [
    "#15\n",
    "x = ('B','a','s','k','a','r')\n",
    "\n",
    "print(\"x[-1] is :\", x[-1])  \n",
    "print(\"x[-6] is :\", x[-6])"
   ]
  },
  {
   "cell_type": "code",
   "execution_count": 45,
   "metadata": {},
   "outputs": [
    {
     "name": "stdout",
     "output_type": "stream",
     "text": [
      "x : (1, 12, 123)\n",
      "y : (4, 9)\n",
      "z = x + y : (1, 12, 123, 4, 9)\n",
      "z * 3 : (1, 12, 123, 4, 9, 1, 12, 123, 4, 9, 1, 12, 123, 4, 9)\n"
     ]
    }
   ],
   "source": [
    "#16\n",
    "x = (1, 12, 123)\n",
    "y = (4, 9)\n",
    "print(\"x :\", x)\n",
    "print(\"y :\", y)\n",
    "z = x + y\n",
    "print(\"z = x + y :\", z)\n",
    "a = z * 3\n",
    "print(\"z * 3 :\", a)"
   ]
  },
  {
   "cell_type": "code",
   "execution_count": 46,
   "metadata": {},
   "outputs": [
    {
     "name": "stdout",
     "output_type": "stream",
     "text": [
      "Hello boss\n",
      "Hello bala\n"
     ]
    }
   ],
   "source": [
    "#17\n",
    "for name in ('boss', 'bala'):\n",
    "    print(\"Hello\", name)"
   ]
  },
  {
   "cell_type": "code",
   "execution_count": 47,
   "metadata": {},
   "outputs": [
    {
     "name": "stdout",
     "output_type": "stream",
     "text": [
      "Count of p is : 2\n",
      "Index of l is : 3\n"
     ]
    }
   ],
   "source": [
    "#18\n",
    "x = ('a', 'p', 'p', 'l', 'e')\n",
    "\n",
    "print(\"Count of p is :\", x.count('p'))  \n",
    "print(\"Index of l is :\", x.index('l'))"
   ]
  },
  {
   "cell_type": "code",
   "execution_count": 48,
   "metadata": {},
   "outputs": [
    {
     "name": "stdout",
     "output_type": "stream",
     "text": [
      "(1, [9, 8, 7], 'boss')\n",
      "(1, [9, 8, 77], 'boss')\n"
     ]
    }
   ],
   "source": [
    "#19\n",
    "x = (1, [9, 8, 7], \"boss\")\n",
    "print(x)\n",
    "x[1][2] = 77\n",
    "print(x)"
   ]
  },
  {
   "cell_type": "code",
   "execution_count": 49,
   "metadata": {},
   "outputs": [
    {
     "name": "stdout",
     "output_type": "stream",
     "text": [
      "(11, 22, 33, 44, 55, 66, 77, 88, 99)\n",
      "(33, 44, 55)\n",
      "(11, 22, 33, 44)\n",
      "(55, 66, 77, 88, 99)\n",
      "(55, 66, 77, 88)\n",
      "(11, 22, 33, 44, 55, 66, 77, 88, 99)\n"
     ]
    }
   ],
   "source": [
    "#20\n",
    "x = (11, 22, 33, 44, 55, 66, 77, 88, 99)\n",
    "print(x)\n",
    "print(x[2:5])\n",
    "print(x[:4])\n",
    "print(x[4:])\n",
    "print(x[4:-1])\n",
    "print(x[:])"
   ]
  },
  {
   "cell_type": "code",
   "execution_count": null,
   "metadata": {},
   "outputs": [],
   "source": []
  }
 ],
 "metadata": {
  "kernelspec": {
   "display_name": "Python 3",
   "language": "python",
   "name": "python3"
  },
  "language_info": {
   "codemirror_mode": {
    "name": "ipython",
    "version": 3
   },
   "file_extension": ".py",
   "mimetype": "text/x-python",
   "name": "python",
   "nbconvert_exporter": "python",
   "pygments_lexer": "ipython3",
   "version": "3.8.5"
  }
 },
 "nbformat": 4,
 "nbformat_minor": 4
}
