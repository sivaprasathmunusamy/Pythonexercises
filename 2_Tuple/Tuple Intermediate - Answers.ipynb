{
 "cells": [
  {
   "cell_type": "code",
   "execution_count": 9,
   "metadata": {},
   "outputs": [
    {
     "name": "stdout",
     "output_type": "stream",
     "text": [
      "[(1, 3, 8), (2, 4, 9)]\n"
     ]
    }
   ],
   "source": [
    "#1\n",
    "x = [(1,2), (3,4), (8,9)]\n",
    "print(list(zip(*x)))\n"
   ]
  },
  {
   "cell_type": "code",
   "execution_count": 10,
   "metadata": {},
   "outputs": [
    {
     "name": "stdout",
     "output_type": "stream",
     "text": [
      "This is a tuple (10, 20, 30)\n"
     ]
    }
   ],
   "source": [
    "#2\n",
    "x = (10, 20, 30)\n",
    "print('This is a tuple {0}'.format(x))"
   ]
  },
  {
   "cell_type": "code",
   "execution_count": 11,
   "metadata": {},
   "outputs": [
    {
     "name": "stdout",
     "output_type": "stream",
     "text": [
      "[(80, 60, 100), (40, 90, 100), (20, 40, 100)]\n"
     ]
    }
   ],
   "source": [
    "#3\n",
    "x= [(80, 60, 40), (40, 90, 60), (20, 40, 90)]\n",
    "print([t[:-1] + (100,) for t in x])"
   ]
  },
  {
   "cell_type": "code",
   "execution_count": 12,
   "metadata": {},
   "outputs": [
    {
     "name": "stdout",
     "output_type": "stream",
     "text": [
      "[('',), ('a', 'b'), ('c', 'd', 'e'), 'f']\n"
     ]
    }
   ],
   "source": [
    "#4\n",
    "X = [(), (), ('',), ('a', 'b'), ('c', 'd', 'e'), ('f')]\n",
    "X = [t for t in X if t]\n",
    "print(X)"
   ]
  },
  {
   "cell_type": "code",
   "execution_count": 13,
   "metadata": {},
   "outputs": [
    {
     "name": "stdout",
     "output_type": "stream",
     "text": [
      "[('item2', '49.10'), ('item3', '33.5'), ('item1', '29.20')]\n"
     ]
    }
   ],
   "source": [
    "#5\n",
    "x = [('item1', '29.20'), ('item2', '49.10'), ('item3', '33.5')]\n",
    "print( sorted(x, key=lambda x: float(x[1]), reverse=True))"
   ]
  },
  {
   "cell_type": "code",
   "execution_count": 14,
   "metadata": {},
   "outputs": [
    {
     "name": "stdout",
     "output_type": "stream",
     "text": [
      "3\n"
     ]
    }
   ],
   "source": [
    "#6\n",
    "x = [10,20,30,(10,20),40]\n",
    "y = 0\n",
    "for n in x:\n",
    "    if isinstance(n, tuple):\n",
    "        break\n",
    "    y += 1\n",
    "print(y)\n"
   ]
  },
  {
   "cell_type": "code",
   "execution_count": 15,
   "metadata": {},
   "outputs": [
    {
     "name": "stdout",
     "output_type": "stream",
     "text": [
      "(('c', 11), ('a', 23), ('d', 29), ('b', 37))\n"
     ]
    }
   ],
   "source": [
    "#7\n",
    "x = (('a', 23),('b', 37),('c', 11), ('d',29))\n",
    "x = tuple(sorted(list(x), key=lambda l: l[1]))\n",
    "print(x)"
   ]
  },
  {
   "cell_type": "code",
   "execution_count": 16,
   "metadata": {},
   "outputs": [
    {
     "name": "stdout",
     "output_type": "stream",
     "text": [
      "True\n"
     ]
    }
   ],
   "source": [
    "#8\n",
    "def check(x):\n",
    "    return all(i == x[0] for i in x)\n",
    "\n",
    "y = (45, 45, 45, 45)\n",
    "print(check(y))"
   ]
  },
  {
   "cell_type": "code",
   "execution_count": 17,
   "metadata": {},
   "outputs": [
    {
     "name": "stdout",
     "output_type": "stream",
     "text": [
      "78.57142857142857\n"
     ]
    }
   ],
   "source": [
    "#9\n",
    "a =(5)\n",
    "b = float((22/7)*(a**2))\n",
    "print(b)"
   ]
  },
  {
   "cell_type": "code",
   "execution_count": 18,
   "metadata": {},
   "outputs": [
    {
     "name": "stdout",
     "output_type": "stream",
     "text": [
      "12.571428571428571\n"
     ]
    }
   ],
   "source": [
    "#10\n",
    "a = (2)\n",
    "b = float(2*(22/7)*a)\n",
    "print(b)"
   ]
  },
  {
   "cell_type": "code",
   "execution_count": 19,
   "metadata": {},
   "outputs": [
    {
     "name": "stdout",
     "output_type": "stream",
     "text": [
      "12\n"
     ]
    }
   ],
   "source": [
    "#11\n",
    "a = (3)\n",
    "b = int(4*a)\n",
    "print(b)"
   ]
  },
  {
   "cell_type": "code",
   "execution_count": 20,
   "metadata": {},
   "outputs": [
    {
     "name": "stdout",
     "output_type": "stream",
     "text": [
      "391.0\n"
     ]
    }
   ],
   "source": [
    "#12\n",
    "h = (23)\n",
    "b = (34)\n",
    "area = ((h*b)/2)\n",
    "print(area)"
   ]
  },
  {
   "cell_type": "code",
   "execution_count": 21,
   "metadata": {},
   "outputs": [
    {
     "name": "stdout",
     "output_type": "stream",
     "text": [
      "()\n",
      "(1, 2, 3)\n",
      "(1, 'Hello', 3.4)\n",
      "('HI', [8, 4, 6], (1, 2, 3))\n"
     ]
    }
   ],
   "source": [
    "#13\n",
    "x = ()\n",
    "print(x)\n",
    "y = (1, 2, 3)\n",
    "print(y)\n",
    "z = (1, \"Hello\", 3.4)\n",
    "print(z)\n",
    "l = (\"HI\", [8, 4, 6], (1, 2, 3))\n",
    "print(l)"
   ]
  },
  {
   "cell_type": "code",
   "execution_count": 22,
   "metadata": {},
   "outputs": [
    {
     "name": "stdout",
     "output_type": "stream",
     "text": [
      "(3, 4.6, 'dog')\n",
      "3\n",
      "4.6\n",
      "dog\n"
     ]
    }
   ],
   "source": [
    "#14\n",
    "x = 3, 4.6, \"dog\"\n",
    "print(x)\n",
    "a, b, c = x\n",
    "\n",
    "print(a)      \n",
    "print(b)      \n",
    "print(c)"
   ]
  },
  {
   "cell_type": "code",
   "execution_count": 23,
   "metadata": {},
   "outputs": [
    {
     "name": "stdout",
     "output_type": "stream",
     "text": [
      "(4, 2, 3, [9, 5])\n"
     ]
    }
   ],
   "source": [
    "#15\n",
    "x = (4, 2, 3, [6, 5])\n",
    "x[3][0] = 9   \n",
    "print(x)"
   ]
  },
  {
   "cell_type": "code",
   "execution_count": 24,
   "metadata": {},
   "outputs": [
    {
     "name": "stdout",
     "output_type": "stream",
     "text": [
      "yes Bihar is present in the given tuple\n",
      "\n",
      "Bihar\n",
      "Odisha\n",
      "Assam\n"
     ]
    }
   ],
   "source": [
    "#16\n",
    "x = (\"Bihar\", \"Odisha\", \"Assam\")\n",
    "\n",
    "if \"Bihar\" in x:\n",
    "    print(\"yes Bihar is present in the given tuple\\n\")\n",
    "    \n",
    "    \n",
    "for l in x:\n",
    "    print(l)\n"
   ]
  },
  {
   "cell_type": "code",
   "execution_count": 25,
   "metadata": {},
   "outputs": [
    {
     "name": "stdout",
     "output_type": "stream",
     "text": [
      "False\n",
      "True\n"
     ]
    }
   ],
   "source": [
    "#17\n",
    "x = (\"Bihar\", \"Odisha\", \"Assam\")\n",
    "print('Odisha' not in x)\n",
    "print('Goa' not in x)"
   ]
  },
  {
   "cell_type": "code",
   "execution_count": 26,
   "metadata": {},
   "outputs": [
    {
     "name": "stdout",
     "output_type": "stream",
     "text": [
      "Both statements are True\n",
      "any one statements are True\n"
     ]
    }
   ],
   "source": [
    "#18\n",
    "if 5 > 3 and 5 < 10:\n",
    "    print(\"Both statements are True\")\n",
    "else:\n",
    "    print(\"one statements are False\")\n",
    "    \n",
    "if 5 > 3 or 5 > 10:\n",
    "    print(\"any one statements are True\")\n",
    "else:\n",
    "    print(\"Both statements are False\")"
   ]
  },
  {
   "cell_type": "code",
   "execution_count": 27,
   "metadata": {},
   "outputs": [
    {
     "name": "stdout",
     "output_type": "stream",
     "text": [
      "bala\n",
      "suresh\n"
     ]
    }
   ],
   "source": [
    "#19\n",
    "x = (\"boss\", \"bala\", \"suresh\")\n",
    "print(x[1])\n",
    "\n",
    "y = (\"boss\", \"bala\", \"suresh\")\n",
    "print(y[-1])"
   ]
  },
  {
   "cell_type": "code",
   "execution_count": 28,
   "metadata": {},
   "outputs": [
    {
     "name": "stdout",
     "output_type": "stream",
     "text": [
      "('Strawberry', 'Vennila', 'Chocobar', 'Blackberry', 'Salad')\n",
      "('Vennila', 'Chocobar', 'Blackberry')\n"
     ]
    }
   ],
   "source": [
    "#20\n",
    "x = (\"Magnum\", \"Pistah\", \"Strawberry\", \"Vennila\", \"Chocobar\", \"Blackberry\", \"Salad\")\n",
    "print(x[2:])\n",
    "print(x[-4:-1])"
   ]
  },
  {
   "cell_type": "code",
   "execution_count": null,
   "metadata": {},
   "outputs": [],
   "source": []
  }
 ],
 "metadata": {
  "kernelspec": {
   "display_name": "Python 3",
   "language": "python",
   "name": "python3"
  },
  "language_info": {
   "codemirror_mode": {
    "name": "ipython",
    "version": 3
   },
   "file_extension": ".py",
   "mimetype": "text/x-python",
   "name": "python",
   "nbconvert_exporter": "python",
   "pygments_lexer": "ipython3",
   "version": "3.8.5"
  }
 },
 "nbformat": 4,
 "nbformat_minor": 4
}
