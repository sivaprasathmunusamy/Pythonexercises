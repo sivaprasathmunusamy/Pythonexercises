{
 "cells": [
  {
   "cell_type": "markdown",
   "metadata": {},
   "source": [
    "# Tuple Hard Solutions"
   ]
  },
  {
   "cell_type": "code",
   "execution_count": 10,
   "metadata": {},
   "outputs": [
    {
     "name": "stdout",
     "output_type": "stream",
     "text": [
      "list of tuples:\n",
      "[(5, 4), (5, 3), (2, 4)]\n",
      "\n",
      "Sum of all the elements of each tuple:\n",
      "[9, 8, 6]\n",
      "\n",
      "list of tuples:\n",
      "[(1, 2, 4), (3, 4, -6), (3, 5), (1, 4, 2, 2)]\n",
      "\n",
      "Sum of all the elements of each tuple:\n",
      "[7, 1, 8, 9]\n"
     ]
    }
   ],
   "source": [
    "#1\n",
    "def sums(l):\n",
    "    result =  map(sum, l)\n",
    "    return list(result)\n",
    "\n",
    "nums = [(5, 4), (5, 3), (2, 4)]\n",
    "print(\"list of tuples:\")\n",
    "print(nums)\n",
    "print(\"\\nSum of all the elements of each tuple:\")\n",
    "print(sums(nums))\n",
    "\n",
    "nums = [(1, 2, 4), (3, 4, -6), (3, 5), (1, 4, 2, 2)]\n",
    "print(\"\\nlist of tuples:\")\n",
    "print(nums)\n",
    "print(\"\\nSum of all the elements of each tuple:\")\n",
    "print(sums(nums))\n"
   ]
  },
  {
   "cell_type": "code",
   "execution_count": 11,
   "metadata": {},
   "outputs": [
    {
     "name": "stdout",
     "output_type": "stream",
     "text": [
      "list of tuples:\n",
      "(1, 2, 3, 4)\n",
      "(3, 5, 2, 1)\n",
      "(2, 2, 3, 1)\n",
      "(1, 2, 3, 4)\n",
      "\n",
      "Element-wise sum of the said tuples:\n",
      "(7, 11, 11, 10)\n"
     ]
    }
   ],
   "source": [
    "#2\n",
    "x = (1,2,3,4)\n",
    "y = (3,5,2,1)\n",
    "z = (2,2,3,1)\n",
    "l = (1,2,3,4)\n",
    "print(\"list of tuples:\")\n",
    "print(x)\n",
    "print(y)\n",
    "print(z)\n",
    "print(l)\n",
    "print(\"\\nElement-wise sum of the said tuples:\")\n",
    "result = tuple(map(sum, zip(x, y, z, l)))\n",
    "print(result)"
   ]
  },
  {
   "cell_type": "code",
   "execution_count": 12,
   "metadata": {},
   "outputs": [
    {
     "name": "stdout",
     "output_type": "stream",
     "text": [
      "list of tuples:\n",
      "(('Coffee', 'Tea', 'Boost'), ('Badam', 'Pista', 'Walnut'), ('Sangeetha', 'A2B', 'Saravana'))\n",
      "Check if Bournvita present in said tuple of tuples! False\n",
      "Check if Saravana present in said tuple of tuples! True\n"
     ]
    }
   ],
   "source": [
    "#3\n",
    "def names(name, c):\n",
    "    result = any(c in tu for tu in name)\n",
    "    return result\n",
    "\n",
    "items = (('Coffee', 'Tea', 'Boost'), ('Badam', 'Pista', 'Walnut'), ('Sangeetha', 'A2B', 'Saravana'))\n",
    "print(\"list of tuples:\")\n",
    "print(items)\n",
    "c1 = 'Bournvita'\n",
    "print(\"Check if\",c1,\"present in said tuple of tuples!\", names(items, c1))\n",
    "c2 = 'Saravana'\n",
    "print(\"Check if\",c2,\"present in said tuple of tuples!\", names(items, c2))\n"
   ]
  },
  {
   "cell_type": "code",
   "execution_count": 13,
   "metadata": {},
   "outputs": [
    {
     "name": "stdout",
     "output_type": "stream",
     "text": [
      "\n",
      "Example tuple: \n",
      "(9, 20, 40, 10, 70)\n",
      "positive integers:\n",
      "920401070\n"
     ]
    }
   ],
   "source": [
    "#4\n",
    "def tuples(x):\n",
    "    result = int(''.join(map(str,x)))\n",
    "    return result\n",
    "\n",
    "y = (9,20,40,10,70)\n",
    "print(\"\\nExample tuple: \") \n",
    "print(y)\n",
    "print(\"positive integers:\")\n",
    "print(tuples(y))\n"
   ]
  },
  {
   "cell_type": "code",
   "execution_count": 14,
   "metadata": {},
   "outputs": [
    {
     "name": "stdout",
     "output_type": "stream",
     "text": [
      "tuple values:\n",
      "(('222', '33'), ('546', '678'))\n",
      "\n",
      "New tuple values:\n",
      "((222, 33), (546, 678))\n"
     ]
    }
   ],
   "source": [
    "#5\n",
    "def tuples(l):\n",
    "    result = tuple((int(x[0]), int(x[1])) for x in l)\n",
    "    return result\n",
    "     \n",
    "l =  (('222', '33'), ('546', '678'))\n",
    "print(\"tuple values:\")\n",
    "print(l)\n",
    "print(\"\\nNew tuple values:\")\n",
    "print(tuples(l))\n"
   ]
  },
  {
   "cell_type": "code",
   "execution_count": 15,
   "metadata": {},
   "outputs": [
    {
     "name": "stdout",
     "output_type": "stream",
     "text": [
      "Example Tuple: \n",
      "((5, 30, 10, 12), (30, 20, 56, 54), (26, 80, 67, 32), (1, 4, 3, 9))\n",
      "\n",
      "Average value of the numbers:\n",
      " [15.5, 33.5, 34.0, 26.75]\n",
      "\n",
      "Example Tuple: \n",
      "((1, 1, -7), (10, -15, 56), (71, -60, -39), (-10, 2, 9))\n",
      "\n",
      "Average value of the numbers:\n",
      " [18.0, -18.0, 4.75]\n"
     ]
    }
   ],
   "source": [
    "def tuples(l):\n",
    "    result = [sum(x) / len(x) for x in zip(*l)]\n",
    "    return result\n",
    "\n",
    "l = ((5, 30, 10, 12), (30, 20, 56, 54), (26, 80, 67, 32), (1, 4, 3, 9))\n",
    "print (\"Example Tuple: \")\n",
    "print(l)\n",
    "print(\"\\nAverage value of the numbers:\\n\",tuples(l))\n",
    "\n",
    "l = ((1, 1, -7), (10, -15, 56), (71, -60, -39), (-10, 2, 9))\n",
    "print (\"\\nExample Tuple: \")\n",
    "print(l)\n",
    "print(\"\\nAverage value of the numbers:\\n\",tuples(l))\n"
   ]
  },
  {
   "cell_type": "code",
   "execution_count": 16,
   "metadata": {},
   "outputs": [
    {
     "name": "stdout",
     "output_type": "stream",
     "text": [
      "Example Tuple: \n",
      "(4, 3, 5, 2, -2, 10)\n",
      "multiplying all the numbers: -2400\n",
      "\n",
      "Example Tuple: \n",
      "(2, 6, 8, 7, 3, 1, 9)\n",
      "multiplying all the numbers: 18144\n"
     ]
    }
   ],
   "source": [
    "#7\n",
    "def tuples(l):\n",
    "    num = list(l)\n",
    "    m = 1 \n",
    "    for x in num:\n",
    "        m *= x\n",
    "    return m\n",
    "\n",
    "l = (4, 3, 5, 2, -2, 10)\n",
    "print (\"Example Tuple: \")\n",
    "print(l)\n",
    "print(\"multiplying all the numbers:\",tuples(l))\n",
    "\n",
    "l = (2, 6, 8, 7, 3, 1, 9)\n",
    "print (\"\\nExample Tuple: \")\n",
    "print(l)\n",
    "print(\"multiplying all the numbers:\",tuples(l))\n"
   ]
  },
  {
   "cell_type": "code",
   "execution_count": 17,
   "metadata": {},
   "outputs": [
    {
     "name": "stdout",
     "output_type": "stream",
     "text": [
      "Example string:\n",
      "aidinasaur.com\n",
      "<class 'str'>\n",
      "\n",
      "Convert the said string to a tuple:\n",
      "('a', 'i', 'd', 'i', 'n', 'a', 's', 'a', 'u', 'r', '.', 'c', 'o', 'm')\n",
      "<class 'tuple'>\n"
     ]
    }
   ],
   "source": [
    "#8\n",
    "def tuples(l):\n",
    "    result = tuple(x for x in l if not x.isspace()) \n",
    "    return result\n",
    "l = \"aidinasaur.com\"\n",
    "print(\"Example string:\")\n",
    "print(l)\n",
    "print(type(l))\n",
    "print(\"\\nConvert the said string to a tuple:\") \n",
    "print(tuples(l))\n",
    "print(type(tuples(l)))\n"
   ]
  },
  {
   "cell_type": "code",
   "execution_count": 24,
   "metadata": {},
   "outputs": [
    {
     "name": "stdout",
     "output_type": "stream",
     "text": [
      "Enter a number n : 5\n",
      "The value is : 615\n"
     ]
    }
   ],
   "source": [
    "#9\n",
    "n=int(input(\"Enter a number n : \"))\n",
    "temp=str(n)\n",
    "t1=temp+temp\n",
    "t2=temp+temp+temp\n",
    "comp=n+int(t1)+int(t2)\n",
    "print(\"The value is :\",comp)"
   ]
  },
  {
   "cell_type": "code",
   "execution_count": 25,
   "metadata": {},
   "outputs": [
    {
     "name": "stdout",
     "output_type": "stream",
     "text": [
      "(5, 4)\n",
      "(2, 4, 3, 5, 4, 6)\n",
      "(6, 7, 8, 6, 1)\n",
      "(2, 4, 3, 5, 4, 6, 7, 8, 6, 1)\n",
      "(3, 5, 4, 6)\n",
      "('H', 'E', 'L', 'L', 'O', ' ', 'N', 'A', 'T', 'U', 'R', 'E')\n",
      "('L', 'O', 'N', 'T')\n",
      "('H', 'O', 'T')\n",
      "('U', ' ')\n"
     ]
    }
   ],
   "source": [
    "#10\n",
    "x = (2, 4, 3, 5, 4, 6, 7, 8, 6, 1)\n",
    "slices = x[3:5]\n",
    "print(slices)\n",
    "slices = x[:6]\n",
    "print(slices)\n",
    "slices = x[5:]\n",
    "print(slices)\n",
    "slices = x[:]\n",
    "print(slices)\n",
    "slices = x[-8:-4]\n",
    "print(slices)\n",
    "\n",
    "y = tuple(\"HELLO NATURE\")\n",
    "print(y)\n",
    "slices = y[2:9:2]\n",
    "print(slices)\n",
    "slices = y[::4]\n",
    "print(slices)\n",
    "slices = y[9:2:-4]\n",
    "print(slices)"
   ]
  },
  {
   "cell_type": "code",
   "execution_count": 26,
   "metadata": {},
   "outputs": [
    {
     "name": "stdout",
     "output_type": "stream",
     "text": [
      "Input the year : 2021\n",
      "Input the month : 3\n",
      "     March 2021\n",
      "Mo Tu We Th Fr Sa Su\n",
      " 1  2  3  4  5  6  7\n",
      " 8  9 10 11 12 13 14\n",
      "15 16 17 18 19 20 21\n",
      "22 23 24 25 26 27 28\n",
      "29 30 31\n",
      "\n"
     ]
    }
   ],
   "source": [
    "#11\n",
    "import calendar\n",
    "y = int(input(\"Input the year : \"))\n",
    "m = int(input(\"Input the month : \"))\n",
    "print(calendar.month(y, m))"
   ]
  },
  {
   "cell_type": "code",
   "execution_count": 27,
   "metadata": {},
   "outputs": [
    {
     "name": "stdout",
     "output_type": "stream",
     "text": [
      "6\n",
      "27\n"
     ]
    }
   ],
   "source": [
    "#12\n",
    "def num(x, y, z):\n",
    "\n",
    "    sum = x + y + z\n",
    "  \n",
    "    if x == y == z:\n",
    "        sum = sum * 3\n",
    "    return sum\n",
    "\n",
    "print(num(1, 2, 3))\n",
    "print(num(3, 3, 3))"
   ]
  },
  {
   "cell_type": "code",
   "execution_count": 28,
   "metadata": {},
   "outputs": [
    {
     "name": "stdout",
     "output_type": "stream",
     "text": [
      "1\n",
      "1\n"
     ]
    }
   ],
   "source": [
    "#13\n",
    "def tuples(nums):\n",
    "    x = 0  \n",
    "    for num in nums:\n",
    "        if num == 4:\n",
    "            x = x + 1\n",
    "\n",
    "    return x\n",
    "\n",
    "print(tuples([1, 5, 6, 8, 4]))\n",
    "print(tuples([1, 4, 6, 2, 7, 5]))"
   ]
  },
  {
   "cell_type": "code",
   "execution_count": 29,
   "metadata": {},
   "outputs": [
    {
     "name": "stdout",
     "output_type": "stream",
     "text": [
      "False\n",
      "True\n"
     ]
    }
   ],
   "source": [
    "#14\n",
    "def vowel(str):\n",
    "    allvowel = 'aeiou'\n",
    "    return str in allvowel\n",
    "print(vowel('c'))\n",
    "print(vowel('e'))"
   ]
  },
  {
   "cell_type": "code",
   "execution_count": 30,
   "metadata": {},
   "outputs": [
    {
     "name": "stdout",
     "output_type": "stream",
     "text": [
      "1\n",
      "4\n"
     ]
    }
   ],
   "source": [
    "#15\n",
    "def gcds(x, y):\n",
    "    gcd = 1\n",
    "    \n",
    "    if x % y == 0:\n",
    "        return y\n",
    "    \n",
    "    for k in range(int(y / 2), 0, -1):\n",
    "        if x % k == 0 and y % k == 0:\n",
    "            gcd = k\n",
    "            break  \n",
    "    return gcd\n",
    "\n",
    "print(gcds(12, 17))\n",
    "print(gcds(4, 444))"
   ]
  },
  {
   "cell_type": "code",
   "execution_count": 31,
   "metadata": {},
   "outputs": [
    {
     "name": "stdout",
     "output_type": "stream",
     "text": [
      "12\n",
      "255\n"
     ]
    }
   ],
   "source": [
    "#16\n",
    "def lcms(x, y):\n",
    "    if x > y:\n",
    "        z = x\n",
    "    else:\n",
    "        z = y\n",
    "\n",
    "    while(True):\n",
    "        if((z % x == 0) and (z % y == 0)):\n",
    "            lcm = z\n",
    "            break\n",
    "        z += 1\n",
    "\n",
    "    return lcm\n",
    "print(lcms(4, 6))\n",
    "print(lcms(15, 17))"
   ]
  },
  {
   "cell_type": "code",
   "execution_count": 32,
   "metadata": {},
   "outputs": [
    {
     "name": "stdout",
     "output_type": "stream",
     "text": [
      "Input lengths of shorter triangle sides:\n",
      "a: 4\n",
      "b: 5\n",
      "length of the hypotenuse is 6.4031242374328485\n"
     ]
    }
   ],
   "source": [
    "#17\n",
    "from math import sqrt\n",
    "print(\"Input lengths of shorter triangle sides:\")\n",
    "x = float(input(\"a: \"))\n",
    "y = float(input(\"b: \"))\n",
    "\n",
    "c = sqrt(x**2 + y**2)\n",
    "print(\"length of the hypotenuse is\", c )"
   ]
  },
  {
   "cell_type": "code",
   "execution_count": 33,
   "metadata": {},
   "outputs": [
    {
     "name": "stdout",
     "output_type": "stream",
     "text": [
      "x is a tuple\n"
     ]
    }
   ],
   "source": [
    "#18\n",
    "x = ('tuple', True, 5.2, 9)\n",
    "if type(x) is list:\n",
    "    print('x is a list')\n",
    "elif type(x) is set:\n",
    "    print('x is a set')\n",
    "elif type(x) is tuple:\n",
    "    print('x is a tuple')    \n",
    "else:\n",
    "    print('Neither a list or a set or a tuple.')"
   ]
  },
  {
   "cell_type": "code",
   "execution_count": 34,
   "metadata": {},
   "outputs": [
    {
     "name": "stdout",
     "output_type": "stream",
     "text": [
      "('apple', 'banana', 'cherry')\n",
      "('apple', 'kiwi', 'cherry')\n"
     ]
    }
   ],
   "source": [
    "#19\n",
    "x = (\"apple\", \"banana\", \"cherry\")\n",
    "print(x)\n",
    "y = list(x)\n",
    "y[1] = \"kiwi\"\n",
    "x = tuple(y)\n",
    "print(x)"
   ]
  },
  {
   "cell_type": "code",
   "execution_count": 35,
   "metadata": {},
   "outputs": [
    {
     "name": "stdout",
     "output_type": "stream",
     "text": [
      "{10: 'boss', 12: 'suresh', 14: 'anand', 20: 'siva', 25: 'bala', 30: 'karthi'}\n"
     ]
    }
   ],
   "source": [
    "#20\n",
    "x = ((\"boss\", 10), (\"suresh\", 12), (\"anand\", 14), (\"siva\", 20), (\"bala\", 25), (\"karthi\", 30))\n",
    "print(dict((y, x) for x, y in x))\n",
    " "
   ]
  },
  {
   "cell_type": "code",
   "execution_count": null,
   "metadata": {},
   "outputs": [],
   "source": []
  }
 ],
 "metadata": {
  "kernelspec": {
   "display_name": "Python 3",
   "language": "python",
   "name": "python3"
  },
  "language_info": {
   "codemirror_mode": {
    "name": "ipython",
    "version": 3
   },
   "file_extension": ".py",
   "mimetype": "text/x-python",
   "name": "python",
   "nbconvert_exporter": "python",
   "pygments_lexer": "ipython3",
   "version": "3.8.5"
  }
 },
 "nbformat": 4,
 "nbformat_minor": 4
}
