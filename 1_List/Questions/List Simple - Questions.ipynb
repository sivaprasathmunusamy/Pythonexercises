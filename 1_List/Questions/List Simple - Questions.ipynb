{
 "cells": [
  {
   "cell_type": "markdown",
   "metadata": {},
   "source": [
    "## List Simple - Questions"
   ]
  },
  {
   "cell_type": "code",
   "execution_count": 1,
   "metadata": {},
   "outputs": [],
   "source": [
    "# 1. Write a Python program to check whether the list is empty or not.\n",
    "\n"
   ]
  },
  {
   "cell_type": "code",
   "execution_count": null,
   "metadata": {},
   "outputs": [],
   "source": [
    "''' 2. Write a Python program to access the index of all the elements in a list.\n",
    "        Data:\n",
    "            x = [5, 15, 35, 8, 98]\n",
    "        Expected Output:\n",
    "            0 5\n",
    "            1 15\n",
    "            2 35\n",
    "            3 8\n",
    "            4 98 '''\n",
    "\n"
   ]
  },
  {
   "cell_type": "code",
   "execution_count": null,
   "metadata": {},
   "outputs": [],
   "source": [
    "''' 3. Write a Python program to convert a list of characters into a string.\n",
    "        Data:\n",
    "            x = ['a', 'b', 'c', 'd']\n",
    "        Expected Output:\n",
    "            abcd '''\n",
    "\n"
   ]
  },
  {
   "cell_type": "code",
   "execution_count": null,
   "metadata": {},
   "outputs": [],
   "source": [
    "''' 4. Write a Python program to find the index of specified item in a list.\n",
    "        Data:\n",
    "            x = [10, 30, 4, -6]\n",
    "        Expected Output:\n",
    "            Index of 4 is 2 '''\n",
    "\n"
   ]
  },
  {
   "cell_type": "code",
   "execution_count": null,
   "metadata": {},
   "outputs": [],
   "source": [
    "''' 5. Write a Python program to print the sum of all the items in a list.\n",
    "    Data:\n",
    "        lt = [1, 2, -8]\n",
    "    Expected Output:\n",
    "        sum is -5 '''\n",
    "        \n"
   ]
  },
  {
   "cell_type": "code",
   "execution_count": null,
   "metadata": {},
   "outputs": [],
   "source": [
    "''' 6. Write a Python program to multiply all the items in a list.\n",
    "        Data:\n",
    "            [1, 2, -8]\n",
    "        Expected Output:\n",
    "            -16 '''\n",
    "        \n"
   ]
  },
  {
   "cell_type": "code",
   "execution_count": null,
   "metadata": {},
   "outputs": [],
   "source": [
    "''' 7. Write a Python program to get the largest number from a list.\n",
    "        Data:\n",
    "            [1, 2, -8, 0]\n",
    "        Expected Output:\n",
    "            2 '''\n",
    "\n"
   ]
  },
  {
   "cell_type": "code",
   "execution_count": null,
   "metadata": {},
   "outputs": [],
   "source": [
    "''' 8. Write a Python program to get the smallest number from a list. \n",
    "        Data:\n",
    "            [1, 2, -8, 0]\n",
    "        Expected Output:\n",
    "            -8 '''\n",
    "\n"
   ]
  },
  {
   "cell_type": "code",
   "execution_count": null,
   "metadata": {},
   "outputs": [],
   "source": [
    "''' 9. Write a Python program to remove duplicate items from a list.\n",
    "        Data:\n",
    "            a = [10,20,30,20,10,50,60,40,80,50,40]\n",
    "        Expected Output:\n",
    "            [10, 20, 30, 50, 60, 40, 80] '''\n",
    "\n"
   ]
  },
  {
   "cell_type": "code",
   "execution_count": null,
   "metadata": {},
   "outputs": [],
   "source": [
    "''' 10. Write a Python program to clone or copy a list.\n",
    "        Data:\n",
    "            x = [10, 22, 44, 23, 4]\n",
    "        Expected Output:\n",
    "            X - [10, 22, 44, 23, 4]\n",
    "            Y - [10, 22, 44, 23, 4] '''\n",
    "\n"
   ]
  },
  {
   "cell_type": "code",
   "execution_count": null,
   "metadata": {},
   "outputs": [],
   "source": [
    "''' 11. Write a Python program to convert a tuple into a List.\n",
    "        Data:\n",
    "            x = (1,2,3,4,5)\n",
    "        Expected Output:\n",
    "            (1, 2, 3, 4, 5)\n",
    "            [1, 2, 3, 4, 5] '''\n",
    "\n"
   ]
  },
  {
   "cell_type": "code",
   "execution_count": null,
   "metadata": {},
   "outputs": [],
   "source": [
    "''' 12. Write a Python program to print the numbers of a specified list after removing even numbers from it.\n",
    "        Data:\n",
    "            x = [7, 8, 120, 25, 44, 20, 27]\n",
    "        Expected Output:\n",
    "            [7, 25, 27] '''\n",
    "        \n"
   ]
  },
  {
   "cell_type": "code",
   "execution_count": null,
   "metadata": {},
   "outputs": [],
   "source": [
    "''' 13. Write a Python program to shuffle and print a specified list. \n",
    "        Data:\n",
    "            x = ['Red', 'Green', 'White', 'Black', 'Pink', 'Yellow']\n",
    "        Expected Output:\n",
    "            ['Pink', 'Black', 'Red', 'Yellow', 'White', 'Green'] '''\n",
    "\n"
   ]
  },
  {
   "cell_type": "code",
   "execution_count": null,
   "metadata": {},
   "outputs": [],
   "source": [
    "''' 14. Write a Python program to append the second list to the first list.\n",
    "        Data:\n",
    "            x = [1, 2, 3, 0]\n",
    "            y = ['Red', 'Green', 'Black']\n",
    "        Expected Output:\n",
    "            [1, 2, 3, 0, 'Red', 'Green', 'Black'] '''\n",
    "\n"
   ]
  },
  {
   "cell_type": "code",
   "execution_count": null,
   "metadata": {},
   "outputs": [],
   "source": [
    "''' 15. Write a Python program to select an item randomly from a list.\n",
    "        Data:\n",
    "            x = ['Red', 'Blue', 'Green', 'White', 'Black']\n",
    "        Expected Output:\n",
    "            White '''\n",
    "\n"
   ]
  },
  {
   "cell_type": "code",
   "execution_count": null,
   "metadata": {},
   "outputs": [],
   "source": [
    "''' 16. Write a Python program to get unique values from a list.\n",
    "        Data:\n",
    "            Original List :  [10, 20, 30, 40, 20, 50, 60, 40]\n",
    "        Expected Output:\n",
    "            List of unique numbers :  [40, 10, 50, 20, 60, 30] '''\n",
    "\n"
   ]
  },
  {
   "cell_type": "code",
   "execution_count": null,
   "metadata": {},
   "outputs": [],
   "source": [
    "''' 17. Write a Python program to get variable unique identification number or string.\n",
    "        Data:\n",
    "            var1 = 'Python'\n",
    "            var2 = 123\n",
    "        Expected Output:\n",
    "            186756869b0\n",
    "            7ffea3a83660 '''\n",
    "        \n"
   ]
  },
  {
   "cell_type": "code",
   "execution_count": null,
   "metadata": {},
   "outputs": [],
   "source": [
    "''' 18. Write a Python program to print common elements from two lists using set().\n",
    "        Data:\n",
    "            x = (\"Red\", \"Green\", \"Orange\", \"White\")\n",
    "            y = (\"Black\", \"Green\", \"White\", \"Pink\")\n",
    "        Expected Output:\n",
    "            {'White', 'Green'} '''\n",
    "\n"
   ]
  },
  {
   "cell_type": "code",
   "execution_count": null,
   "metadata": {},
   "outputs": [],
   "source": [
    "''' 19. Write a Python program to convert a list of multiple integers into a single integer.\n",
    "        Data:\n",
    "            x = [11, 22, 33]\n",
    "        Expected Output:\n",
    "            112233 '''\n",
    "\n"
   ]
  },
  {
   "cell_type": "code",
   "execution_count": null,
   "metadata": {},
   "outputs": [],
   "source": [
    "''' 20. Write a Python program to create multiple lists.\n",
    "        Data:\n",
    "            x = {}\n",
    "        Expected Output:\n",
    "            {'1': [], '2': [], '3': [], '4': [], '5': [], '6': [], '7': [], '8': [], '9': []} '''\n",
    "        \n"
   ]
  },
  {
   "cell_type": "code",
   "execution_count": null,
   "metadata": {},
   "outputs": [],
   "source": []
  }
 ],
 "metadata": {
  "kernelspec": {
   "display_name": "Python 3",
   "language": "python",
   "name": "python3"
  },
  "language_info": {
   "codemirror_mode": {
    "name": "ipython",
    "version": 3
   },
   "file_extension": ".py",
   "mimetype": "text/x-python",
   "name": "python",
   "nbconvert_exporter": "python",
   "pygments_lexer": "ipython3",
   "version": "3.8.5"
  }
 },
 "nbformat": 4,
 "nbformat_minor": 4
}
