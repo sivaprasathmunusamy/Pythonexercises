{
 "cells": [
  {
   "cell_type": "markdown",
   "metadata": {},
   "source": [
    "# List Hard Solutions"
   ]
  },
  {
   "cell_type": "code",
   "execution_count": 10,
   "metadata": {},
   "outputs": [
    {
     "name": "stdout",
     "output_type": "stream",
     "text": [
      "original List:\n",
      "[1, 2, 3, 4, 5, 6, 7, 8, 9, 10]\n",
      "\n",
      "Rotate the said list in left direction by 4:\n",
      "[4, 5, 6, 7, 8, 9, 10, 1, 2, 3, 4]\n",
      "\n",
      "Rotate the said list in left direction by 2:\n",
      "[3, 4, 5, 6, 7, 8, 9, 10, 1, 2]\n",
      "\n",
      "Rotate the said list in Right direction by 4:\n",
      "[8, 9, 10, 1, 2, 3, 4, 5, 6]\n",
      "\n",
      "Rotate the said list in Right direction by 2:\n",
      "[9, 10, 1, 2, 3, 4, 5, 6, 7, 8]\n"
     ]
    }
   ],
   "source": [
    "#1\n",
    "x = [1, 2, 3, 4, 5, 6, 7, 8, 9, 10]\n",
    "print(\"original List:\")\n",
    "print(x)\n",
    "print(\"\\nRotate the said list in left direction by 4:\")\n",
    "result = x[3:] + x[:4]\n",
    "print(result)\n",
    "print(\"\\nRotate the said list in left direction by 2:\")\n",
    "result = x[2:] + x[:2]\n",
    "print(result)\n",
    "print(\"\\nRotate the said list in Right direction by 4:\")\n",
    "result = x[-3:] + x[:-4]\n",
    "print(result)\n",
    "print(\"\\nRotate the said list in Right direction by 2:\")\n",
    "result = x[-2:] + x[:-2]\n",
    "print(result)"
   ]
  },
  {
   "cell_type": "code",
   "execution_count": 11,
   "metadata": {},
   "outputs": [
    {
     "name": "stdout",
     "output_type": "stream",
     "text": [
      "Original list:\n",
      "[2, 3, 8, 4, 7, 9, 9, 2, 6, 5, 1, 6, 1, 3, 3, 4, 6, 9, 1, 2]\n",
      "\n",
      "Item with maximum occurrences of the said list:\n",
      "2\n"
     ]
    }
   ],
   "source": [
    "#2\n",
    "def maxs(x):\n",
    "    max1 = 0\n",
    "    result = x[0] \n",
    "    for i in x:\n",
    "        occu = x.count(i)\n",
    "        if occu > max1:\n",
    "            max1 = occu\n",
    "            result = i \n",
    "    return result\n",
    "\n",
    "x = [2,3,8,4,7,9,9,2,6,5,1,6,1,3,3,4,6,9,1,2]\n",
    "print (\"Original list:\")\n",
    "print(x)\n",
    "print(\"\\nItem with maximum occurrences of the said list:\")\n",
    "print(maxs(x)) "
   ]
  },
  {
   "cell_type": "code",
   "execution_count": 12,
   "metadata": {},
   "outputs": [
    {
     "name": "stdout",
     "output_type": "stream",
     "text": [
      "Original list:\n",
      "[2, 3, 8, 4, 7, 9, 9, 2, 6, 5, 1, 6, 1, 3, 3, 4, 6, 9, 1, 2]\n",
      "Index list:\n",
      "[0, 3, 5, 7, 10]\n",
      "\n",
      "Items with specified index of the said list:\n",
      "[2, 4, 9, 2, 1]\n"
     ]
    }
   ],
   "source": [
    "#3\n",
    "def elements(x, lists):\n",
    "    result = [x[i] for i in lists]\n",
    "    return result\n",
    "\n",
    "\n",
    "nums = [2,3,8,4,7,9,7,2,6,5,1,5,1,2,3,4,6,9,3,2]\n",
    "print (\"Original list:\")\n",
    "print(x)\n",
    "lists = [0,3,5,7,10]\n",
    "print(\"Index list:\")\n",
    "print(lists)\n",
    "print(\"\\nItems with specified index of the said list:\")\n",
    "print(elements(x, lists))"
   ]
  },
  {
   "cell_type": "code",
   "execution_count": 13,
   "metadata": {},
   "outputs": [
    {
     "name": "stdout",
     "output_type": "stream",
     "text": [
      "Original list:\n",
      "[1, 2, 4, 6, 8, 10, 12, 14, 16, 17]\n",
      "\n",
      "Is the said list is sorted!\n",
      "True\n",
      "\n",
      "Original list:\n",
      "[2, 3, 8, 4, 7, 9, 8, 2, 6, 5, 1, 6, 1, 2, 3, 4, 6, 9, 1, 2]\n",
      "\n",
      "Is the said list is sorted!\n",
      "False\n"
     ]
    }
   ],
   "source": [
    "#4\n",
    "def is_sort_list(x):\n",
    "    result = all(x[i] <= x[i+1] for i in range(len(x)-1))\n",
    "    return result\n",
    "\n",
    "x1 = [1,2,4,6,8,10,12,14,16,17]\n",
    "print (\"Original list:\")\n",
    "print(x1)\n",
    "print(\"\\nIs the said list is sorted!\")\n",
    "print(is_sort_list(x1)) \n",
    "\n",
    "x2 = [2,3,8,4,7,9,8,2,6,5,1,6,1,2,3,4,6,9,1,2]\n",
    "print (\"\\nOriginal list:\")\n",
    "print(x2)\n",
    "print(\"\\nIs the said list is sorted!\")\n",
    "print(is_sort_list(x2))"
   ]
  },
  {
   "cell_type": "code",
   "execution_count": 14,
   "metadata": {},
   "outputs": [
    {
     "name": "stdout",
     "output_type": "stream",
     "text": [
      "Original list : [{'Black': 'Cotton'}, {'Red': 'Pulses'}, {'Laterite': 'Cashews'}, {'Black': 'Cotton'}, {'Alluvial': 'Rice'}]\n",
      "Resultant list is : dict_values([{'Black': 'Cotton'}, {'Red': 'Pulses'}, {'Laterite': 'Cashews'}, {'Alluvial': 'Rice'}])\n"
     ]
    }
   ],
   "source": [
    "#5\n",
    "\n",
    "l = [{'Black': 'Cotton'}, {'Red': 'Pulses'}, {'Laterite': 'Cashews'}, {'Black': 'Cotton'}, {'Alluvial': 'Rice'}]\n",
    "print (\"Original list : \" + str(l)) \n",
    "\n",
    "res = {frozenset(item.items()) : item for item in l}.values() \n",
    "\n",
    "print (\"Resultant list is : \" + str(res)) \n"
   ]
  },
  {
   "cell_type": "code",
   "execution_count": 15,
   "metadata": {},
   "outputs": [
    {
     "name": "stdout",
     "output_type": "stream",
     "text": [
      "Original list:\n",
      "[('boss', 98, 99), ('kumar', 97, 96), ('karthi', 91, 94), ('siva', 94, 98)]\n",
      "\n",
      "Extract nth element ( n = 0 ) from the said list of tuples:\n",
      "['boss', 'kumar', 'karthi', 'siva']\n",
      "\n",
      "Extract nth element ( n = 2 ) from the said list of tuples:\n",
      "[99, 96, 94, 98]\n"
     ]
    }
   ],
   "source": [
    "#6\n",
    "def element(lists, n):\n",
    "    result = [x[n] for x in lists]\n",
    "    return result\n",
    "\n",
    "students = [('boss', 98, 99), ('kumar', 97, 96), ('karthi', 91, 94), ('siva', 94, 98)]\n",
    "print (\"Original list:\")\n",
    "print(students)\n",
    "n = 0\n",
    "print(\"\\nExtract nth element ( n =\",n,\") from the said list of tuples:\")\n",
    "print(element(students, n))\n",
    "\n",
    "n = 2\n",
    "print(\"\\nExtract nth element ( n =\",n,\") from the said list of tuples:\")\n",
    "print(element(students, n))"
   ]
  },
  {
   "cell_type": "code",
   "execution_count": 16,
   "metadata": {},
   "outputs": [
    {
     "name": "stdout",
     "output_type": "stream",
     "text": [
      "Original list:\n",
      "[3, 7, 4, 6, 8, 2, 1, 4, 10, 11, 14, 12, 16, 17]\n",
      "\n",
      "Is the said list contains all unique elements!\n",
      "False\n",
      "\n",
      "Original list:\n",
      "[2, 4, 6, 8, 10, 12, 14]\n",
      "\n",
      "Is the said list contains all unique elements!\n",
      "True\n"
     ]
    }
   ],
   "source": [
    "#7\n",
    "def all(lists):\n",
    "    if len(lists) > len(set(lists)):\n",
    "        return False\n",
    "    return True\n",
    "\n",
    "x1 = [3, 7, 4, 6, 8, 2, 1, 4, 10, 11, 14, 12, 16, 17]\n",
    "print (\"Original list:\")\n",
    "print(x1)\n",
    "print(\"\\nIs the said list contains all unique elements!\")\n",
    "print(all(x1)) \n",
    "\n",
    "x2 = [2,4,6,8,10,12,14]\n",
    "print (\"\\nOriginal list:\")\n",
    "print(x2)\n",
    "print(\"\\nIs the said list contains all unique elements!\")\n",
    "print(all(x2))"
   ]
  },
  {
   "cell_type": "code",
   "execution_count": 17,
   "metadata": {},
   "outputs": [
    {
     "name": "stdout",
     "output_type": "stream",
     "text": [
      "Original list:\n",
      "[('siva', 98, 99), ('bala', 97, 96), ('kumar', 91, 94), ('boss', 94, 98)]\n",
      "\n",
      "Sort the said list of lists by a given index ( Index =  0 ) of the inner list\n",
      "[('bala', 97, 96), ('boss', 94, 98), ('kumar', 91, 94), ('siva', 98, 99)]\n",
      "\n",
      "Sort the said list of lists by a given index ( Index =  2 ) of the inner list\n",
      "[('kumar', 91, 94), ('bala', 97, 96), ('boss', 94, 98), ('siva', 98, 99)]\n"
     ]
    }
   ],
   "source": [
    "#8\n",
    "from operator import itemgetter\n",
    "def nums(lists, index):\n",
    "    result = sorted(lists, key=itemgetter(index))\n",
    "    return result\n",
    "students = [('siva', 98, 99), ('bala', 97, 96), ('kumar', 91, 94), ('boss', 94, 98)]\n",
    "print (\"Original list:\")\n",
    "print(students)\n",
    "index = 0\n",
    "print(\"\\nSort the said list of lists by a given index\",\"( Index = \",index,\") of the inner list\")\n",
    "print(nums(students, index))\n",
    "index = 2\n",
    "print(\"\\nSort the said list of lists by a given index\",\"( Index = \",index,\") of the inner list\")\n",
    "print(nums(students, index))"
   ]
  },
  {
   "cell_type": "code",
   "execution_count": 18,
   "metadata": {},
   "outputs": [
    {
     "name": "stdout",
     "output_type": "stream",
     "text": [
      "Original lists:\n",
      "X: [1, 2, 3, 4, 5, 6, 7, 8, 9, 10]\n",
      "Y: [5, 4, 7, 9]\n",
      "\n",
      "Remove all elements from 'x' present in 'y:\n",
      "[1, 2, 3, 6, 8, 10]\n"
     ]
    }
   ],
   "source": [
    "#9\n",
    "def lists(x, y):\n",
    "    result = [l for l in x if l not in y]\n",
    "    return result\n",
    "\n",
    "x = [1, 2, 3, 4, 5, 6, 7, 8, 9, 10]\n",
    "y = [5, 4, 7, 9]\n",
    "\n",
    "print(\"Original lists:\")\n",
    "print(\"X:\", x)\n",
    "print(\"Y:\", y)\n",
    "\n",
    "print(\"\\nRemove all elements from 'x' present in 'y:\")\n",
    "print(lists(x, y))"
   ]
  },
  {
   "cell_type": "code",
   "execution_count": 19,
   "metadata": {},
   "outputs": [
    {
     "name": "stdout",
     "output_type": "stream",
     "text": [
      "Original list:\n",
      "[3, 6, 2, 7, 9, 23, 6, 12, 24]\n",
      "\n",
      "Difference between elements (n+1th – nth) of the said list :\n",
      "[3, -4, 5, 2, 14, -17, 6, 12]\n"
     ]
    }
   ],
   "source": [
    "#10\n",
    "def difference(x):\n",
    "    result = [j-i for i, j in zip(x[:-1], x[1:])]\n",
    "    return result\n",
    "\n",
    "x1 = [3, 6, 2, 7, 9, 23, 6, 12, 24]\n",
    "\n",
    "print(\"Original list:\")\n",
    "print(x1)\n",
    "print(\"\\nDifference between elements (n+1th – nth) of the said list :\")\n",
    "print(difference(x1))"
   ]
  },
  {
   "cell_type": "code",
   "execution_count": 20,
   "metadata": {},
   "outputs": [
    {
     "name": "stdout",
     "output_type": "stream",
     "text": [
      "Original list:\n",
      "['Kannada', 'Telugu', 'Hindi', 'Tamizh', 'Odia']\n",
      "Substring to search: ugu\n",
      "Check if a substring presents in the said list of string values: True\n",
      "Substring to search: alaya\n",
      "Check if a substring presents in the said list of string values: False\n"
     ]
    }
   ],
   "source": [
    "#11\n",
    "def substring(str, sub):\n",
    "    if any(sub in s for s in str):\n",
    "        return True\n",
    "    return False\n",
    "lang = ['Kannada', 'Telugu', 'Hindi', 'Tamizh', 'Odia']\n",
    "print(\"Original list:\")\n",
    "print(lang)\n",
    "sub = \"ugu\"\n",
    "print(\"Substring to search:\", sub)\n",
    "print(\"Check if a substring presents in the said list of string values:\", substring(lang, sub))\n",
    "\n",
    "sub = \"alaya\"\n",
    "print(\"Substring to search:\", sub)\n",
    "print(\"Check if a substring presents in the said list of string values:\", substring(lang, sub))"
   ]
  },
  {
   "cell_type": "code",
   "execution_count": 21,
   "metadata": {},
   "outputs": [
    {
     "name": "stdout",
     "output_type": "stream",
     "text": [
      "Original list: ['Soverign', 'Socialist', 'Secular', 'Democratic', 'Republic']\n",
      "List with alternate elements from the said list: ['Soverign', 'Secular', 'Republic']\n"
     ]
    }
   ],
   "source": [
    "#12\n",
    "def elements(lists):\n",
    "    result=[]\n",
    "    for item in lists[::2]:\n",
    "        result.append(item)\n",
    "    return result \n",
    "India = ['Soverign', 'Socialist', 'Secular', 'Democratic', 'Republic']\n",
    "print(\"Original list:\", India)\n",
    "print(\"List with alternate elements from the said list:\", elements(India))"
   ]
  },
  {
   "cell_type": "code",
   "execution_count": 22,
   "metadata": {},
   "outputs": [
    {
     "name": "stdout",
     "output_type": "stream",
     "text": [
      "\n",
      "Original lists:\n",
      "[1, 2, 3, 4, 5, 6, 7, 8, 9, 10, 11, 12, 13, 14]\n",
      "[[11, 18, 23, 25, 42], [7, 11, 18, 24, 28], [1, 5, 8, 18, 15, 16]]\n",
      "\n",
      "Intersection of said nested lists:\n",
      "[[11], [7, 11], [1, 5, 8]]\n"
     ]
    }
   ],
   "source": [
    "#13\n",
    "def lists(l1, l2):\n",
    "    result = [[n for n in lst if n in l1] for lst in l2]\n",
    "    return result\n",
    "x = [1, 2, 3, 4, 5, 6, 7, 8, 9, 10, 11, 12, 13, 14]\n",
    "y = [[11, 18, 23, 25, 42], [7, 11, 18, 24, 28], [1, 5, 8, 18, 15, 16]]\n",
    "print(\"\\nOriginal lists:\")\n",
    "print(x)\n",
    "print(y)\n",
    "print(\"\\nIntersection of said nested lists:\")\n",
    "print(lists(x, y))"
   ]
  },
  {
   "cell_type": "code",
   "execution_count": 23,
   "metadata": {},
   "outputs": [
    {
     "name": "stdout",
     "output_type": "stream",
     "text": [
      "\n",
      "Original lists:\n",
      "[[11, 18, 23, 25, 42], [7, 11, 18, 24, 28], [1, 5, 8, 18, 15, 16]]\n",
      "\n",
      "Common element(s) in nested lists:\n",
      "[18]\n"
     ]
    }
   ],
   "source": [
    "#14\n",
    "def lists(x):\n",
    "    result = list(set.intersection(*map(set, x)))\n",
    "    return result\n",
    "x = [[11, 18, 23, 25, 42], [7, 11, 18, 24, 28], [1, 5, 8, 18, 15, 16]]\n",
    "print(\"\\nOriginal lists:\")\n",
    "print(x)\n",
    "print(\"\\nCommon element(s) in nested lists:\")\n",
    "print(lists(x))"
   ]
  },
  {
   "cell_type": "code",
   "execution_count": 24,
   "metadata": {},
   "outputs": [
    {
     "name": "stdout",
     "output_type": "stream",
     "text": [
      "\n",
      "Original lists:\n",
      "['suresk', 'kumar', 'siva', 'boss', 'bala']\n",
      "\n",
      "Reverse strings of the said given list:\n",
      "['kserus', 'ramuk', 'avis', 'ssob', 'alab']\n"
     ]
    }
   ],
   "source": [
    "#15\n",
    "def lists(l):\n",
    "    result = [x[::-1] for x in l]\n",
    "    return result\n",
    "\n",
    "l = ['suresk', 'kumar', 'siva', 'boss', 'bala']\n",
    "print(\"\\nOriginal lists:\")\n",
    "print(l)\n",
    "print(\"\\nReverse strings of the said given list:\")\n",
    "print(lists(l))"
   ]
  },
  {
   "cell_type": "code",
   "execution_count": 25,
   "metadata": {},
   "outputs": [
    {
     "name": "stdout",
     "output_type": "stream",
     "text": [
      "The original list, tuple : \n",
      "[(2, 7), (2, 6), (1, 8), (4, 9)]\n",
      "\n",
      "Maximum and minimum product from the pairs of the said tuple of list:\n",
      "(36, 8)\n"
     ]
    }
   ],
   "source": [
    "#16\n",
    "def maxs(m):\n",
    "    result1 = max([abs(x * y) for x, y in m] )\n",
    "    result2 = min([abs(x * y) for x, y in m] )\n",
    "    return result1,result2\n",
    "m = [(2, 7), (2, 6), (1, 8), (4, 9)]   \n",
    "print(\"The original list, tuple : \") \n",
    "print(m)\n",
    "print(\"\\nMaximum and minimum product from the pairs of the said tuple of list:\")\n",
    "print(maxs(m))"
   ]
  },
  {
   "cell_type": "code",
   "execution_count": 26,
   "metadata": {},
   "outputs": [
    {
     "name": "stdout",
     "output_type": "stream",
     "text": [
      "Original List :  [10, 20, 30, 40, 30, 50, 50, 40]\n",
      "Product of the unique numbers of the said list:  12000000\n"
     ]
    }
   ],
   "source": [
    "#17\n",
    "def product(x):\n",
    "    y = list(set(x))\n",
    "    p = 1\n",
    "    for i in y:\n",
    "        p *= i\n",
    "    return p\n",
    "x = [10, 20, 30, 40, 30, 50, 50, 40]\n",
    "print(\"Original List : \",x)\n",
    "print(\"Product of the unique numbers of the said list: \",product(x))"
   ]
  },
  {
   "cell_type": "code",
   "execution_count": 27,
   "metadata": {},
   "outputs": [
    {
     "name": "stdout",
     "output_type": "stream",
     "text": [
      "Original list:\n",
      "x: [1, 2, 3, 4, 5, 6, 7]\n",
      "y: [10, 20, 30, 40, 50, 60, 70]\n",
      "z: [100, 200, 300, 400, 500, 600, 700]\n",
      "\n",
      "Interleave multiple lists:\n",
      "[1, 10, 100, 2, 20, 200, 3, 30, 300, 4, 40, 400, 5, 50, 500, 6, 60, 600, 7, 70, 700]\n"
     ]
    }
   ],
   "source": [
    "#18\n",
    "def lists(x,y,z):\n",
    "    result = [el for pair in zip(x, y, z) for el in pair]\n",
    "    return result\n",
    "     \n",
    "x = [1,2,3,4,5,6,7]\n",
    "y = [10,20,30,40,50,60,70]\n",
    "z = [100,200,300,400,500,600,700]\n",
    "print(\"Original list:\")\n",
    "print(\"x:\",x)\n",
    "print(\"y:\",y)\n",
    "print(\"z:\",z)\n",
    "print(\"\\nInterleave multiple lists:\")\n",
    "print(lists(x,y,z))\n"
   ]
  },
  {
   "cell_type": "code",
   "execution_count": 28,
   "metadata": {},
   "outputs": [
    {
     "name": "stdout",
     "output_type": "stream",
     "text": [
      "Original list:\n",
      "list1: ['suresk', 'kumar#', 'siva', 'boss@', 'bala']\n",
      "\n",
      "Character list:\n",
      "['#', 'color', '@']\n",
      "\n",
      "New list:\n",
      "['suresk', '', 'siva', '', 'bala']\n"
     ]
    }
   ],
   "source": [
    "#19\n",
    "def words(x, y):\n",
    "    new_list = []\n",
    "    for line in x:\n",
    "        new_words = ' '.join([word for word in line.split() if not any([phrase in word for phrase in y])])\n",
    "        new_list.append(new_words)\n",
    "    return new_list\n",
    "     \n",
    "x = ['suresk', 'kumar#', 'siva', 'boss@', 'bala']\n",
    "print(\"Original list:\")\n",
    "print(\"list1:\",x)\n",
    "y = ['#', 'color', '@']\n",
    "print(\"\\nCharacter list:\")\n",
    "print(y)\n",
    "print(\"\\nNew list:\")\n",
    "print(words(x, y))"
   ]
  },
  {
   "cell_type": "code",
   "execution_count": 29,
   "metadata": {},
   "outputs": [
    {
     "name": "stdout",
     "output_type": "stream",
     "text": [
      "Original list:\n",
      "[4, 1, 9, 6, 8, 3, 1, 9, 10, 11, 8, 12]\n",
      "Range: 8 , 10\n",
      "\n",
      "Sum of the specified range:\n",
      "29\n"
     ]
    }
   ],
   "source": [
    "#20\n",
    "def lists(x, m, n):                                                                                                                                                                                                \n",
    "    sumrange = 0                                                                                                                                                                                                         \n",
    "    for i in range(m, n+1, 1):                                                                                                                                                                                        \n",
    "        sumrange += x[i]                                                                                                                                                                                                  \n",
    "    return sumrange   \n",
    "\n",
    "x = [4, 1, 9, 6, 8, 3, 1, 9, 10, 11, 8, 12]\n",
    "print(\"Original list:\")\n",
    "print(x)\n",
    "m = 8\n",
    "n = 10\n",
    "print(\"Range:\",m,\",\",n) \n",
    "print(\"\\nSum of the specified range:\")\n",
    "print(lists(x, m, n))"
   ]
  },
  {
   "cell_type": "code",
   "execution_count": null,
   "metadata": {},
   "outputs": [],
   "source": []
  }
 ],
 "metadata": {
  "kernelspec": {
   "display_name": "Python 3",
   "language": "python",
   "name": "python3"
  },
  "language_info": {
   "codemirror_mode": {
    "name": "ipython",
    "version": 3
   },
   "file_extension": ".py",
   "mimetype": "text/x-python",
   "name": "python",
   "nbconvert_exporter": "python",
   "pygments_lexer": "ipython3",
   "version": "3.8.5"
  }
 },
 "nbformat": 4,
 "nbformat_minor": 4
}
