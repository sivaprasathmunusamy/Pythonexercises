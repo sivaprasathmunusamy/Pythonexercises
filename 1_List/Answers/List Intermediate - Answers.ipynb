{
 "cells": [
  {
   "cell_type": "markdown",
   "metadata": {},
   "source": [
    "# List Intermediate - Answers"
   ]
  },
  {
   "cell_type": "code",
   "execution_count": 28,
   "metadata": {},
   "outputs": [
    {
     "name": "stdout",
     "output_type": "stream",
     "text": [
      "2\n"
     ]
    }
   ],
   "source": [
    "#1\n",
    "\n",
    "def nums(x):\n",
    "    ctr = 0\n",
    "\n",
    "    for l in x:\n",
    "        if len(l) > 1 and l[0] == l[-1]:\n",
    "            ctr += 1\n",
    "    return ctr\n",
    "\n",
    "print(nums(['abc', 'xyz', 'aba', '1221']))"
   ]
  },
  {
   "cell_type": "code",
   "execution_count": 29,
   "metadata": {},
   "outputs": [
    {
     "name": "stdout",
     "output_type": "stream",
     "text": [
      "['quick', 'brown', 'jumps', 'over', 'lazy']\n"
     ]
    }
   ],
   "source": [
    "#2\n",
    "\n",
    "def num(n, str):\n",
    "    x = []\n",
    "    txt = str.split(\" \")\n",
    "    for l in txt:\n",
    "        if len(l) > n:\n",
    "            x.append(l)\n",
    "    return x\n",
    "print(num(3, \"The quick brown fox jumps over the lazy dog\"))"
   ]
  },
  {
   "cell_type": "code",
   "execution_count": 30,
   "metadata": {},
   "outputs": [
    {
     "name": "stdout",
     "output_type": "stream",
     "text": [
      "True\n",
      "None\n"
     ]
    }
   ],
   "source": [
    "#3\n",
    "def data(l, m):\n",
    "    result = False\n",
    "    for x in l:\n",
    "        for y in m:\n",
    "            if x == y:\n",
    "                result = True\n",
    "                return result\n",
    "print(data([1,2,2,4,5], [5,6,6,8,9]))\n",
    "print(data([1,2,3,5,5], [6,7,9,9]))"
   ]
  },
  {
   "cell_type": "code",
   "execution_count": 31,
   "metadata": {},
   "outputs": [
    {
     "name": "stdout",
     "output_type": "stream",
     "text": [
      "[[['*', '*', '*', '*', '*', '*'], ['*', '*', '*', '*', '*', '*'], ['*', '*', '*', '*', '*', '*'], ['*', '*', '*', '*', '*', '*']], [['*', '*', '*', '*', '*', '*'], ['*', '*', '*', '*', '*', '*'], ['*', '*', '*', '*', '*', '*'], ['*', '*', '*', '*', '*', '*']], [['*', '*', '*', '*', '*', '*'], ['*', '*', '*', '*', '*', '*'], ['*', '*', '*', '*', '*', '*'], ['*', '*', '*', '*', '*', '*']]]\n"
     ]
    }
   ],
   "source": [
    "#4\n",
    "x = [[ ['*' for col in range(6)] for col in range(4)] for row in range(3)]\n",
    "print(x)"
   ]
  },
  {
   "cell_type": "code",
   "execution_count": 32,
   "metadata": {},
   "outputs": [
    {
     "name": "stdout",
     "output_type": "stream",
     "text": [
      "Squares of first 5 numbers between 1 to 30: [1, 4, 9, 16, 25]\n",
      "Squares of last 5 numbers between 1 to 30: [676, 729, 784, 841, 900]\n"
     ]
    }
   ],
   "source": [
    "#5\n",
    "def Values():\n",
    "    x = list()\n",
    "    for i in range(1, 31):\n",
    "        x.append(i**2)\n",
    "    print(\"Squares of first 5 numbers between 1 to 30:\", x[:5])\n",
    "    print(\"Squares of last 5 numbers between 1 to 30:\", x[-5:])\n",
    "\n",
    "Values()"
   ]
  },
  {
   "cell_type": "code",
   "execution_count": 33,
   "metadata": {},
   "outputs": [
    {
     "name": "stdout",
     "output_type": "stream",
     "text": [
      "-2\n",
      "0\n",
      "0\n",
      "None\n",
      "None\n"
     ]
    }
   ],
   "source": [
    "#6\n",
    "def secondsmallest(m):\n",
    "    if (len(m)<2):\n",
    "        return\n",
    "    if ((len(m)==2)  and (m[0] == m[1]) ):\n",
    "        return\n",
    "    a = set()\n",
    "    b = []\n",
    "    for x in m:\n",
    "        if x not in a:\n",
    "            b.append(x)\n",
    "            a.add(x)\n",
    "    b.sort()    \n",
    "    return  b[1]   \n",
    "\n",
    "print(secondsmallest([1, 2, -8, -2, 0, -2]))\n",
    "print(secondsmallest([1, 1, 0, 8, 2, -2, -2]))\n",
    "print(secondsmallest([1, 1, 1, 4, 0, 7, 2, -2, -2]))\n",
    "print(secondsmallest([3,3]))\n",
    "print(secondsmallest([8]))"
   ]
  },
  {
   "cell_type": "code",
   "execution_count": 34,
   "metadata": {},
   "outputs": [
    {
     "name": "stdout",
     "output_type": "stream",
     "text": [
      "4\n",
      "1\n",
      "None\n",
      "None\n"
     ]
    }
   ],
   "source": [
    "#7\n",
    "def secondlargest(m):\n",
    "    if (len(m)<2):\n",
    "        return\n",
    "    if ((len(m)==2)  and (m[0] == m[1]) ):\n",
    "        return\n",
    "    a = set()\n",
    "    b = []\n",
    "    for x in m:\n",
    "        if x not in a:\n",
    "            b.append(x)\n",
    "            a.add(x)\n",
    "    b.sort()    \n",
    "    return  b[-2]   \n",
    "print(secondlargest([1,2,3,5,4]))\n",
    "print(secondlargest([1, 1, 1, 2, 0, 0, 2, -2, -2]))\n",
    "print(secondlargest([3,3]))\n",
    "print(secondlargest([2]))"
   ]
  },
  {
   "cell_type": "code",
   "execution_count": 35,
   "metadata": {},
   "outputs": [
    {
     "name": "stdout",
     "output_type": "stream",
     "text": [
      "Original List : [10, 10, 10, 10, 20, 20, 20, 30, 40, 40, 50, 50, 30]\n",
      "Frequency of the elements in the List : Counter({10: 4, 20: 3, 30: 2, 40: 2, 50: 2})\n"
     ]
    }
   ],
   "source": [
    "#8\n",
    "import collections\n",
    "x = [10, 10, 10, 10, 20, 20, 20, 30, 40, 40, 50, 50, 30]\n",
    "print(\"Original List :\",x)\n",
    "y = collections.Counter(x)\n",
    "print(\"Frequency of the elements in the List :\",y)"
   ]
  },
  {
   "cell_type": "code",
   "execution_count": 36,
   "metadata": {},
   "outputs": [
    {
     "name": "stdout",
     "output_type": "stream",
     "text": [
      "True\n",
      "False\n"
     ]
    }
   ],
   "source": [
    "#9\n",
    "def sub(l, s):\n",
    "    x = False\n",
    "    if s == []:\n",
    "        x = True\n",
    "    elif s == l:\n",
    "        x = True\n",
    "    elif len(s) > len(l):\n",
    "        x = False\n",
    "\n",
    "    else:\n",
    "        for i in range(len(l)):\n",
    "            if l[i] == s[0]:\n",
    "                n = 1\n",
    "                while (n < len(s)) and (l[i+n] == s[n]):\n",
    "                    n += 1\n",
    "                if n == len(s):\n",
    "                    x = True\n",
    "\n",
    "    return x\n",
    "\n",
    "a = [2,4,3,5,7]\n",
    "b = [4,3]\n",
    "c = [3,7]\n",
    "print(sub(a, b))\n",
    "print(sub(a, c))"
   ]
  },
  {
   "cell_type": "code",
   "execution_count": 37,
   "metadata": {},
   "outputs": [
    {
     "name": "stdout",
     "output_type": "stream",
     "text": [
      "[[], [1], [2], [1, 2], [3], [1, 3], [2, 3], [1, 2, 3]]\n",
      "[[], ['x'], ['y'], ['x', 'y'], ['z'], ['x', 'z'], ['y', 'z'], ['x', 'y', 'z']]\n"
     ]
    }
   ],
   "source": [
    "#10\n",
    "\n",
    "def sub_lists (l): \n",
    "    base = [] \n",
    "    lists = [base] \n",
    "    for i in range(len(l)): \n",
    "        orig = lists[:] \n",
    "        new = l[i] \n",
    "        for j in range(len(lists)): \n",
    "            lists[j] = lists[j] + [new] \n",
    "        lists = orig + lists \n",
    "    return lists \n",
    "\n",
    "l1 = [1, 2, 3] \n",
    "print(sub_lists(l1)) \n",
    "l2 = ['x', 'y', 'z']\n",
    "print(sub_lists(l2))"
   ]
  },
  {
   "cell_type": "code",
   "execution_count": 38,
   "metadata": {},
   "outputs": [
    {
     "name": "stdout",
     "output_type": "stream",
     "text": [
      "2\n",
      "3\n",
      "5\n",
      "7\n",
      "None\n"
     ]
    }
   ],
   "source": [
    "#11\n",
    "def nums(n):\n",
    "    lists = []\n",
    "    for i in range(2, n+1):\n",
    "        if i not in lists:\n",
    "            print (i)\n",
    "            for j in range(i*i, n+1, i):\n",
    "                lists.append(j)\n",
    "\n",
    "print(nums(10));"
   ]
  },
  {
   "cell_type": "code",
   "execution_count": 39,
   "metadata": {},
   "outputs": [
    {
     "name": "stdout",
     "output_type": "stream",
     "text": [
      "['l1', 'm1', 'l2', 'm2', 'l3', 'm3', 'l4', 'm4']\n"
     ]
    }
   ],
   "source": [
    "#12\n",
    "a = ['l', 'm']\n",
    "n = 4\n",
    "b = ['{}{}'.format(x, y) for y in range(1, n+1) for x in a]\n",
    "print(b)"
   ]
  },
  {
   "cell_type": "code",
   "execution_count": 40,
   "metadata": {},
   "outputs": [
    {
     "name": "stdout",
     "output_type": "stream",
     "text": [
      "[1, 0, 3, 2, 5, 4, 7, 6]\n"
     ]
    }
   ],
   "source": [
    "#13\n",
    "from itertools import zip_longest, chain, tee\n",
    "def reple(x):\n",
    "    y, z = tee(iter(x), 2)\n",
    "    return list(chain.from_iterable(zip_longest(x[1::2], x[::2])))\n",
    "n = [0,1,2,3,4,5,6,7]\n",
    "print(reple(n))"
   ]
  },
  {
   "cell_type": "code",
   "execution_count": 41,
   "metadata": {},
   "outputs": [
    {
     "name": "stdout",
     "output_type": "stream",
     "text": [
      "Example List:  [(1, 2), (3, 4), (5, 6), (7, 8), (1, 2), (3, 4), (7, 8), (7, 8), (9, 10)]\n",
      "Sorted Unique Data: [1, 2, 3, 4, 5, 6, 7, 8, 9, 10]\n"
     ]
    }
   ],
   "source": [
    "#14\n",
    "x = [(1, 2), (3, 4), (5, 6), (7, 8), (1, 2), (3, 4), (7, 8),\n",
    " (7, 8), (9, 10)]\n",
    "print(\"Example List: \", x)\n",
    "print(\"Sorted Unique Data:\",sorted(set().union(*x)))"
   ]
  },
  {
   "cell_type": "code",
   "execution_count": 42,
   "metadata": {},
   "outputs": [
    {
     "name": "stdout",
     "output_type": "stream",
     "text": [
      "Original List: \n",
      "[{'Book': {'Novel': 'Hamlet'}}, {'Book': {'Novel': 'Sherlock Homes'}}, {'Book': {'Novel': 'Alchemist'}}]\n",
      "Sorted List: \n",
      "[{'Book': {'Novel': 'Alchemist'}}, {'Book': {'Novel': 'Hamlet'}}, {'Book': {'Novel': 'Sherlock Homes'}}]\n"
     ]
    }
   ],
   "source": [
    "#15\n",
    "\n",
    "x = [{'Book': {'Novel': 'Hamlet'}}, {'Book': {'Novel': 'Sherlock Homes'}}, {'Book': {'Novel': 'Alchemist'}}]\n",
    "print(\"Original List: \")\n",
    "print(x)\n",
    "x.sort(key=lambda e: e['Book']['Novel'])\n",
    "print(\"Sorted List: \")\n",
    "print(x)"
   ]
  },
  {
   "cell_type": "code",
   "execution_count": 43,
   "metadata": {},
   "outputs": [
    {
     "name": "stdout",
     "output_type": "stream",
     "text": [
      "Original List [[10, 30], [40], [30, 56, 23], [10, 20], [33], [40]]\n",
      "New List [[10, 20], [10, 30], [30, 56, 23], [33], [40]]\n"
     ]
    }
   ],
   "source": [
    "#16\n",
    "import itertools\n",
    "x = [[10, 30], [40], [30, 56, 23], [10, 20], [33], [40]]\n",
    "print(\"Original List\", x)\n",
    "x.sort()\n",
    "y = list(x for x,_ in itertools.groupby(x))\n",
    "print(\"New List\", y)"
   ]
  },
  {
   "cell_type": "code",
   "execution_count": 44,
   "metadata": {},
   "outputs": [
    {
     "name": "stdout",
     "output_type": "stream",
     "text": [
      "True\n",
      "False\n"
     ]
    }
   ],
   "source": [
    "#17\n",
    "x = [{},{},{}]\n",
    "y = [{1,2},{},{}]\n",
    "print(all(not d for d in x))\n",
    "print(all(not d for d in y))"
   ]
  },
  {
   "cell_type": "code",
   "execution_count": 45,
   "metadata": {},
   "outputs": [
    {
     "name": "stdout",
     "output_type": "stream",
     "text": [
      " list:\n",
      "[0, 20, [30, 30], 40, 50, [60, 40, 80], [90, 100, 10, 119]]\n",
      "\n",
      "Flatten list:\n",
      "[0, 20, 30, 30, 40, 50, 60, 40, 80, 90, 100, 10, 119]\n"
     ]
    }
   ],
   "source": [
    "#18\n",
    "def lists(x):\n",
    "    result = []\n",
    "    if not x: return result\n",
    "    stack = [list(x)]\n",
    "    while stack:\n",
    "        num = stack.pop()\n",
    "        next = num.pop()\n",
    "        if num: stack.append(num)\n",
    "        if isinstance(next, list):\n",
    "            if next: stack.append(list(next))\n",
    "        else: result.append(next)\n",
    "    result.reverse()\n",
    "    return result \n",
    "x = [0, 20, [30, 30], 40, 50, [60, 40, 80], [90, 100, 10, 119]]\n",
    "print(\" list:\") \n",
    "print(x)\n",
    "print(\"\\nFlatten list:\")\n",
    "print(lists(x))"
   ]
  },
  {
   "cell_type": "code",
   "execution_count": 46,
   "metadata": {},
   "outputs": [
    {
     "name": "stdout",
     "output_type": "stream",
     "text": [
      "Original list:\n",
      "[0, 1, 1, 2, 3, 5, 4, 5, 6, 6, 7, 7, 8, 4, 4, 4]\n",
      "\n",
      "After removing consecutive duplicates:\n",
      "[0, 1, 2, 3, 5, 4, 5, 6, 7, 8, 4]\n"
     ]
    }
   ],
   "source": [
    "#19\n",
    "from itertools import groupby\n",
    "def nums(l):\n",
    "    return [key for key, group in groupby(l)] \n",
    "x = [0, 1, 1, 2, 3, 5, 4, 5, 6, 6, 7, 7, 8, 4, 4, 4]\n",
    "print(\"Original list:\") \n",
    "print(x)\n",
    "print(\"\\nAfter removing consecutive duplicates:\")\n",
    "print(nums(x))"
   ]
  },
  {
   "cell_type": "code",
   "execution_count": 47,
   "metadata": {},
   "outputs": [
    {
     "name": "stdout",
     "output_type": "stream",
     "text": [
      "Original list:\n",
      "[1, 0, 1, 2, 3, 4, 4, 5, 5, 6, 6, 7, 8, 9, 4, 4]\n",
      "\n",
      "After packing consecutive duplicates of the said list elements into sublists:\n",
      "[[1], [0], [1], [2], [3], [4, 4], [5, 5], [6, 6], [7], [8], [9], [4, 4]]\n"
     ]
    }
   ],
   "source": [
    "#20\n",
    "from itertools import groupby\n",
    "def nums(l):\n",
    "    return [list(group) for key, group in groupby(l)]\n",
    "x = [1, 0, 1, 2, 3, 4, 4, 5, 5, 6, 6, 7, 8, 9, 4, 4]\n",
    "print(\"Original list:\") \n",
    "print(x)\n",
    "print(\"\\nAfter packing consecutive duplicates of the said list elements into sublists:\")\n",
    "print(nums(x))"
   ]
  },
  {
   "cell_type": "code",
   "execution_count": null,
   "metadata": {},
   "outputs": [],
   "source": []
  }
 ],
 "metadata": {
  "kernelspec": {
   "display_name": "Python 3",
   "language": "python",
   "name": "python3"
  },
  "language_info": {
   "codemirror_mode": {
    "name": "ipython",
    "version": 3
   },
   "file_extension": ".py",
   "mimetype": "text/x-python",
   "name": "python",
   "nbconvert_exporter": "python",
   "pygments_lexer": "ipython3",
   "version": "3.8.5"
  }
 },
 "nbformat": 4,
 "nbformat_minor": 4
}
