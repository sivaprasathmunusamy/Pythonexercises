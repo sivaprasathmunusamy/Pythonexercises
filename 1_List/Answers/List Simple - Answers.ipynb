{
 "cells": [
  {
   "cell_type": "markdown",
   "metadata": {},
   "source": [
    "## List Simple - Solution"
   ]
  },
  {
   "cell_type": "code",
   "execution_count": 1,
   "metadata": {},
   "outputs": [
    {
     "name": "stdout",
     "output_type": "stream",
     "text": [
      "List is empty\n"
     ]
    }
   ],
   "source": [
    "#1\n",
    "\n",
    "x = []\n",
    "if not x:\n",
    "    print(\"List is empty\")"
   ]
  },
  {
   "cell_type": "code",
   "execution_count": 2,
   "metadata": {},
   "outputs": [
    {
     "name": "stdout",
     "output_type": "stream",
     "text": [
      "0 5\n",
      "1 15\n",
      "2 35\n",
      "3 8\n",
      "4 98\n"
     ]
    }
   ],
   "source": [
    "#2\n",
    "\n",
    "x = [5, 15, 35, 8, 98]\n",
    "for i in range(len(x)):\n",
    "    print(i, x[i])"
   ]
  },
  {
   "cell_type": "code",
   "execution_count": 3,
   "metadata": {},
   "outputs": [
    {
     "name": "stdout",
     "output_type": "stream",
     "text": [
      "abcd\n"
     ]
    }
   ],
   "source": [
    "#3\n",
    "\n",
    "x = ['a', 'b', 'c', 'd']\n",
    "y = ''.join(x)\n",
    "print(y)"
   ]
  },
  {
   "cell_type": "code",
   "execution_count": 4,
   "metadata": {},
   "outputs": [
    {
     "name": "stdout",
     "output_type": "stream",
     "text": [
      "Index of 4 is 2\n"
     ]
    }
   ],
   "source": [
    "#4\n",
    "\n",
    "x = [10, 30, 4, -6]\n",
    "for i in range(len(x)):\n",
    "    if x[i] == 4:\n",
    "        print(\"Index of 4 is\", i)"
   ]
  },
  {
   "cell_type": "code",
   "execution_count": 5,
   "metadata": {},
   "outputs": [
    {
     "name": "stdout",
     "output_type": "stream",
     "text": [
      "Sum is -5\n"
     ]
    }
   ],
   "source": [
    "#5\n",
    "\n",
    "lt = [1, 2, -8]\n",
    "s = 0\n",
    "for i in range(len(lt)):\n",
    "    s = s + lt[i]\n",
    "print(\"Sum is\", s)"
   ]
  },
  {
   "cell_type": "code",
   "execution_count": 6,
   "metadata": {},
   "outputs": [
    {
     "name": "stdout",
     "output_type": "stream",
     "text": [
      "-16\n"
     ]
    }
   ],
   "source": [
    "#6\n",
    "\n",
    "def lists(x):\n",
    "    tot = 1\n",
    "    for l in x:\n",
    "        tot *= l\n",
    "    return tot\n",
    "print(lists([1, 2, -8]))"
   ]
  },
  {
   "cell_type": "code",
   "execution_count": 7,
   "metadata": {},
   "outputs": [
    {
     "name": "stdout",
     "output_type": "stream",
     "text": [
      "2\n"
     ]
    }
   ],
   "source": [
    "#7\n",
    "\n",
    "def largest( x ):\n",
    "    max = x[ 0 ]\n",
    "    for a in x:\n",
    "        if a > max:\n",
    "            max = a\n",
    "    return max\n",
    "print(largest([1, 2, -8, 0]))"
   ]
  },
  {
   "cell_type": "code",
   "execution_count": 8,
   "metadata": {},
   "outputs": [
    {
     "name": "stdout",
     "output_type": "stream",
     "text": [
      "-8\n"
     ]
    }
   ],
   "source": [
    "#8\n",
    "\n",
    "def smallest( x ):\n",
    "    min = x[ 0 ]\n",
    "    for a in x:\n",
    "        if a < min:\n",
    "            min = a\n",
    "    return min\n",
    "print(smallest([1, 2, -8, 0]))"
   ]
  },
  {
   "cell_type": "code",
   "execution_count": 9,
   "metadata": {},
   "outputs": [
    {
     "name": "stdout",
     "output_type": "stream",
     "text": [
      "[10, 20, 30, 50, 60, 40, 80]\n"
     ]
    }
   ],
   "source": [
    "#9\n",
    "\n",
    "a = [10, 20, 30, 20, 10, 50, 60, 40, 80, 50, 40]\n",
    "r_list = [] \n",
    "for i in a: \n",
    "    if i not in r_list: \n",
    "        r_list.append(i)  \n",
    "print(r_list)"
   ]
  },
  {
   "cell_type": "code",
   "execution_count": 10,
   "metadata": {},
   "outputs": [
    {
     "name": "stdout",
     "output_type": "stream",
     "text": [
      "X -  [10, 22, 44, 23, 4]\n",
      "Y -  [10, 22, 44, 23, 4]\n"
     ]
    }
   ],
   "source": [
    "#10\n",
    "\n",
    "x = [10, 22, 44, 23, 4]\n",
    "y = list(x)\n",
    "print(\"X - \", x)\n",
    "print(\"Y - \", y)"
   ]
  },
  {
   "cell_type": "code",
   "execution_count": 11,
   "metadata": {},
   "outputs": [
    {
     "name": "stdout",
     "output_type": "stream",
     "text": [
      "[1, 2, 3, 4, 5]\n"
     ]
    }
   ],
   "source": [
    "#11\n",
    "        \n",
    "x = (1, 2, 3, 4, 5)\n",
    "y = list(x)\n",
    "print(y)"
   ]
  },
  {
   "cell_type": "code",
   "execution_count": 12,
   "metadata": {},
   "outputs": [
    {
     "name": "stdout",
     "output_type": "stream",
     "text": [
      "[7, 25, 27]\n"
     ]
    }
   ],
   "source": [
    "#12\n",
    "\n",
    "x = [7, 8, 120, 25, 44, 20, 27]\n",
    "y = [l for l in x if l % 2 != 0]\n",
    "print(y)"
   ]
  },
  {
   "cell_type": "code",
   "execution_count": 13,
   "metadata": {},
   "outputs": [
    {
     "name": "stdout",
     "output_type": "stream",
     "text": [
      "['Green', 'Red', 'White', 'Black', 'Pink', 'Yellow']\n"
     ]
    }
   ],
   "source": [
    "#13\n",
    "\n",
    "from random import shuffle\n",
    "x = ['Red', 'Green', 'White', 'Black', 'Pink', 'Yellow']\n",
    "shuffle(x)\n",
    "print(x)"
   ]
  },
  {
   "cell_type": "code",
   "execution_count": 14,
   "metadata": {},
   "outputs": [
    {
     "name": "stdout",
     "output_type": "stream",
     "text": [
      "[1, 2, 3, 0, 'Red', 'Green', 'Black']\n"
     ]
    }
   ],
   "source": [
    "#14\n",
    "\n",
    "x = [1, 2, 3, 0]\n",
    "y = ['Red', 'Green', 'Black']\n",
    "z = x + y\n",
    "print(z)"
   ]
  },
  {
   "cell_type": "code",
   "execution_count": 15,
   "metadata": {},
   "outputs": [
    {
     "name": "stdout",
     "output_type": "stream",
     "text": [
      "White\n"
     ]
    }
   ],
   "source": [
    "#15\n",
    "\n",
    "import random\n",
    "x = ['Red', 'Blue', 'Green', 'White', 'Black']\n",
    "print(random.choice(x))"
   ]
  },
  {
   "cell_type": "code",
   "execution_count": 16,
   "metadata": {},
   "outputs": [
    {
     "name": "stdout",
     "output_type": "stream",
     "text": [
      "Original List : [10, 20, 30, 40, 20, 50, 60, 40]\n",
      "List of unique numbers : [40, 10, 50, 20, 60, 30]\n"
     ]
    }
   ],
   "source": [
    "#16\n",
    "\n",
    "x = [10, 20, 30, 40, 20, 50, 60, 40]\n",
    "print(\"Original List :\", x)\n",
    "y = set(x)\n",
    "z = list(y)\n",
    "print(\"List of unique numbers :\", z)"
   ]
  },
  {
   "cell_type": "code",
   "execution_count": 17,
   "metadata": {},
   "outputs": [
    {
     "name": "stdout",
     "output_type": "stream",
     "text": [
      "1ca3a786bf0\n",
      "7ffba9ae3660\n"
     ]
    }
   ],
   "source": [
    "#17\n",
    "\n",
    "var1 = 'Python'\n",
    "print(format(id(var1), 'x'))\n",
    "var2 = 123\n",
    "print(format(id(var2), 'x'))"
   ]
  },
  {
   "cell_type": "code",
   "execution_count": 18,
   "metadata": {},
   "outputs": [
    {
     "name": "stdout",
     "output_type": "stream",
     "text": [
      "{'White', 'Green'}\n"
     ]
    }
   ],
   "source": [
    "#18\n",
    "        \n",
    "x = (\"Red\", \"Green\", \"Orange\", \"White\")\n",
    "y = (\"Black\", \"Green\", \"White\", \"Pink\")\n",
    "print(set(x) & set(y))"
   ]
  },
  {
   "cell_type": "code",
   "execution_count": 19,
   "metadata": {},
   "outputs": [
    {
     "name": "stdout",
     "output_type": "stream",
     "text": [
      "List x : [11, 22, 33]\n",
      "Single Integer: 112233\n"
     ]
    }
   ],
   "source": [
    "#19\n",
    "\n",
    "x = [11, 22, 33]\n",
    "print(\"List x :\",x)\n",
    "y = int(\"\".join(map(str, x)))\n",
    "print(\"Single Integer:\",y)"
   ]
  },
  {
   "cell_type": "code",
   "execution_count": 20,
   "metadata": {},
   "outputs": [
    {
     "name": "stdout",
     "output_type": "stream",
     "text": [
      "{'1': [], '2': [], '3': [], '4': [], '5': [], '6': [], '7': [], '8': [], '9': []}\n"
     ]
    }
   ],
   "source": [
    "#20 \n",
    "\n",
    "x = {}\n",
    "for i in range(1, 10):\n",
    "    x[str(i)] = []\n",
    "print(x)"
   ]
  },
  {
   "cell_type": "code",
   "execution_count": null,
   "metadata": {},
   "outputs": [],
   "source": []
  }
 ],
 "metadata": {
  "kernelspec": {
   "display_name": "Python 3",
   "language": "python",
   "name": "python3"
  },
  "language_info": {
   "codemirror_mode": {
    "name": "ipython",
    "version": 3
   },
   "file_extension": ".py",
   "mimetype": "text/x-python",
   "name": "python",
   "nbconvert_exporter": "python",
   "pygments_lexer": "ipython3",
   "version": "3.8.5"
  }
 },
 "nbformat": 4,
 "nbformat_minor": 4
}
