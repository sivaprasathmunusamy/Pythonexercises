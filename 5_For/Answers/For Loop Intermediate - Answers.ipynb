{
 "cells": [
  {
   "cell_type": "markdown",
   "metadata": {},
   "source": [
    "# For Loop (Intermediate) - Anwers"
   ]
  },
  {
   "cell_type": "code",
   "execution_count": 1,
   "metadata": {},
   "outputs": [
    {
     "name": "stdout",
     "output_type": "stream",
     "text": [
      "2\n",
      "3\n"
     ]
    }
   ],
   "source": [
    "#1\n",
    "\n",
    "def count (l):\n",
    "    ct = 0\n",
    "    for i in range(len(l)):\n",
    "        if l[i] == 4:\n",
    "            ct = ct + 1\n",
    "    return ct\n",
    "\n",
    "print(count([1, 4, 6, 7, 4]))\n",
    "x = [1, 4, 6, 4, 7, 4]\n",
    "print(count(x))"
   ]
  },
  {
   "cell_type": "code",
   "execution_count": 2,
   "metadata": {},
   "outputs": [
    {
     "name": "stdout",
     "output_type": "stream",
     "text": [
      "True\n",
      "False\n"
     ]
    }
   ],
   "source": [
    "#2\n",
    "\n",
    "def member(group, n):\n",
    "    for value in group:\n",
    "        if n == value:\n",
    "            return True\n",
    "    return False\n",
    "print(member([1, 5, 8, 3], 3))\n",
    "print(member([5, 8, 3], -1))   "
   ]
  },
  {
   "cell_type": "code",
   "execution_count": 3,
   "metadata": {},
   "outputs": [
    {
     "name": "stdout",
     "output_type": "stream",
     "text": [
      "**\n",
      "***\n",
      "************\n",
      "*****\n"
     ]
    }
   ],
   "source": [
    "#3\n",
    "\n",
    "def histogram(x):\n",
    "    for i in x:\n",
    "        output = ''\n",
    "        times = i\n",
    "        while( times > 0 ):\n",
    "            output += '*'\n",
    "            times = times - 1\n",
    "        print(output)\n",
    "\n",
    "histogram([2, 3, 12, 5])"
   ]
  },
  {
   "cell_type": "code",
   "execution_count": 4,
   "metadata": {},
   "outputs": [
    {
     "name": "stdout",
     "output_type": "stream",
     "text": [
      "15122\n"
     ]
    }
   ],
   "source": [
    "#4\n",
    "\n",
    "def data(x):\n",
    "    result= ''\n",
    "    for element in x:\n",
    "        result += str(element)\n",
    "    return result\n",
    "\n",
    "print(data([1, 5, 12, 2]))"
   ]
  },
  {
   "cell_type": "code",
   "execution_count": 5,
   "metadata": {},
   "outputs": [
    {
     "name": "stdout",
     "output_type": "stream",
     "text": [
      "**********"
     ]
    }
   ],
   "source": [
    "#5\n",
    "\n",
    "for i in range(0, 10):\n",
    "    print(\"*\", end = \"\")"
   ]
  },
  {
   "cell_type": "code",
   "execution_count": 6,
   "metadata": {},
   "outputs": [
    {
     "name": "stdout",
     "output_type": "stream",
     "text": [
      "Time to sum of 1 to 5 and required time to calculate is : (15, 0.0)\n"
     ]
    }
   ],
   "source": [
    "#6\n",
    "\n",
    "import time\n",
    "def numbers(n):\n",
    "    time1 = time.time()\n",
    "    s = 0\n",
    "    for i in range(1, n+1):\n",
    "        s = s + i\n",
    "    time2 = time.time()\n",
    "    return s,time2 - time1\n",
    "\n",
    "n = 5\n",
    "print(\"Time to sum of 1 to\",n,\"and required time to calculate is :\",numbers(n))"
   ]
  },
  {
   "cell_type": "code",
   "execution_count": 7,
   "metadata": {},
   "outputs": [
    {
     "name": "stdout",
     "output_type": "stream",
     "text": [
      "Enter the word to be hashed: python\n",
      "The coded word is: P20355\n"
     ]
    }
   ],
   "source": [
    "#7\n",
    "\n",
    "x = [0,1,2,3,0,1,2,0,0,2,2,4,5,5,0,1,2,6,2,3,0,1,0,2,0,2]\n",
    "word = input(\"Enter the word to be hashed: \")\n",
    "word = word.upper()\n",
    "coded = word[0]\n",
    "for a in word[1: len(word)]:\n",
    "    i = 65 - ord(a)\n",
    "    coded = coded + str(x[i])\n",
    "print(\"The coded word is: \" + coded)"
   ]
  },
  {
   "cell_type": "code",
   "execution_count": 8,
   "metadata": {},
   "outputs": [
    {
     "name": "stdout",
     "output_type": "stream",
     "text": [
      "10\n",
      "20\n",
      "56\n",
      "35\n",
      "17\n",
      "99\n"
     ]
    }
   ],
   "source": [
    "#8\n",
    "\n",
    "lt = [10, 20, 56, 35, 17, 99]\n",
    "values = bytearray(lt)\n",
    "for x in values: \n",
    "    print(x)"
   ]
  },
  {
   "cell_type": "code",
   "execution_count": 9,
   "metadata": {},
   "outputs": [
    {
     "name": "stdout",
     "output_type": "stream",
     "text": [
      "0\n",
      "1\n",
      "2\n",
      "3\n",
      "4\n",
      "0.0005258000001049368\n",
      "0\n",
      "1\n",
      "2\n",
      "3\n",
      "0.00014559999999619322\n"
     ]
    }
   ],
   "source": [
    "#9\n",
    "\n",
    "from timeit import default_timer \n",
    "def times(n):\n",
    "    start = default_timer()\n",
    "    for row in range(0,n):\n",
    "        print(row)\n",
    "    print(default_timer() - start)\n",
    "\n",
    "times(5)\n",
    "times(4)"
   ]
  },
  {
   "cell_type": "code",
   "execution_count": 10,
   "metadata": {},
   "outputs": [
    {
     "name": "stdout",
     "output_type": "stream",
     "text": [
      "(75, -5)\n"
     ]
    }
   ],
   "source": [
    "#10\n",
    "\n",
    "def maxmin(x):\n",
    "    l = x[0]\n",
    "    s = x[0]\n",
    "    for num in x:\n",
    "        if num > l:\n",
    "            l = num\n",
    "        elif num < s:\n",
    "            s = num\n",
    "    return l, s\n",
    "\n",
    "print(maxmin([0, 10, 15, 40, -5, 42, 17, 28, 75]))"
   ]
  },
  {
   "cell_type": "code",
   "execution_count": 11,
   "metadata": {},
   "outputs": [
    {
     "name": "stdout",
     "output_type": "stream",
     "text": [
      "None\n",
      "True\n"
     ]
    }
   ],
   "source": [
    "#11\n",
    "\n",
    "def odd(n):\n",
    "    for i in range(len(n)):\n",
    "        for j in range(len(n)):\n",
    "            if  i != j:\n",
    "                p = n[i] * n[j]\n",
    "                if p & 1:\n",
    "                    return True\n",
    "                    return False          \n",
    "x = [2, 4, 6, 8]\n",
    "y = [1, 6, 4, 7, 8]\n",
    "print(odd(x));\n",
    "print(odd(y));"
   ]
  },
  {
   "cell_type": "code",
   "execution_count": 12,
   "metadata": {},
   "outputs": [
    {
     "name": "stdout",
     "output_type": "stream",
     "text": [
      "999\n"
     ]
    }
   ],
   "source": [
    "#12\n",
    "\n",
    "num = []\n",
    "for x in range(1000):\n",
    "    x=str(x).zfill(3)\n",
    "print(x)\n",
    "num.append(x)"
   ]
  },
  {
   "cell_type": "code",
   "execution_count": 13,
   "metadata": {},
   "outputs": [
    {
     "name": "stdout",
     "output_type": "stream",
     "text": [
      "Collection:  [1, 2, 3]\n",
      "Collection of distinct numbers: [[3, 2, 1], [2, 3, 1], [2, 1, 3], [3, 1, 2], [1, 3, 2], [1, 2, 3]]\n"
     ]
    }
   ],
   "source": [
    "#13\n",
    "            \n",
    "def permute(x):\n",
    "    result= [[]]\n",
    "    for n in x:\n",
    "        new = []\n",
    "        for perm in result:\n",
    "            for i in range(len(perm)+1):\n",
    "                new.append(perm[:i] + [n] + perm[i:])\n",
    "                result = new\n",
    "    return result\n",
    "\n",
    "x = [1,2,3]\n",
    "print(\"Collection: \",x)\n",
    "print(\"Collection of distinct numbers:\",permute(x))"
   ]
  },
  {
   "cell_type": "code",
   "execution_count": 14,
   "metadata": {},
   "outputs": [
    {
     "name": "stdout",
     "output_type": "stream",
     "text": [
      "6\n",
      "2\n"
     ]
    }
   ],
   "source": [
    "#14\n",
    "        \n",
    "def notes(a):\n",
    "    y = [500, 200, 100, 50, 20, 10]\n",
    "    x = 0\n",
    "    for i in range(6):\n",
    "        q = y[i]\n",
    "        x += int(a / q)\n",
    "        a = int(a % q)\n",
    "    if a > 0:\n",
    "        x = -1\n",
    "    return x\n",
    "print(notes(880))\n",
    "print(notes(1000))"
   ]
  },
  {
   "cell_type": "code",
   "execution_count": 15,
   "metadata": {},
   "outputs": [
    {
     "name": "stdout",
     "output_type": "stream",
     "text": [
      "4\n",
      "6\n",
      "3\n",
      "4\n",
      "2\n"
     ]
    }
   ],
   "source": [
    "#15\n",
    "\n",
    "def divisor(n):\n",
    "    for i in range(n):\n",
    "        x = len([i for i in range(1, n + 1) if not n % i])\n",
    "        return x\n",
    "print(divisor(15))\n",
    "print(divisor(12))\n",
    "print(divisor(9))\n",
    "print(divisor(6))\n",
    "print(divisor(3))"
   ]
  },
  {
   "cell_type": "code",
   "execution_count": 16,
   "metadata": {},
   "outputs": [
    {
     "name": "stdout",
     "output_type": "stream",
     "text": [
      "-8\n"
     ]
    }
   ],
   "source": [
    "#16\n",
    "\n",
    "def smallest( x ):\n",
    "    min = x[ 0 ]\n",
    "    for a in x:\n",
    "        if a < min:\n",
    "            min = a\n",
    "    return min\n",
    "print(smallest([1, 2, -8, 0]))"
   ]
  },
  {
   "cell_type": "code",
   "execution_count": 17,
   "metadata": {},
   "outputs": [
    {
     "name": "stdout",
     "output_type": "stream",
     "text": [
      "2\n"
     ]
    }
   ],
   "source": [
    "#17\n",
    "\n",
    "def largest( x ):\n",
    "    max = x[ 0 ]\n",
    "    for a in x:\n",
    "        if a > max:\n",
    "            max = a\n",
    "    return max\n",
    "print(largest([1, 2, -8, 0]))"
   ]
  },
  {
   "cell_type": "code",
   "execution_count": 18,
   "metadata": {},
   "outputs": [
    {
     "name": "stdout",
     "output_type": "stream",
     "text": [
      "-16\n"
     ]
    }
   ],
   "source": [
    "#18\n",
    "\n",
    "def multiply(l):\n",
    "    tot = 1\n",
    "    for x in l:\n",
    "        tot *= x\n",
    "    return tot\n",
    "print(multiply([1,2,-8]))"
   ]
  },
  {
   "cell_type": "code",
   "execution_count": 19,
   "metadata": {},
   "outputs": [
    {
     "name": "stdout",
     "output_type": "stream",
     "text": [
      "-5\n"
     ]
    }
   ],
   "source": [
    "#19\n",
    "\n",
    "def add(l):\n",
    "    tot = 0\n",
    "    for x in l:\n",
    "        tot += x\n",
    "    return tot\n",
    "lt = [1, 2, -8]\n",
    "print(add(lt))"
   ]
  },
  {
   "cell_type": "code",
   "execution_count": 20,
   "metadata": {},
   "outputs": [
    {
     "name": "stdout",
     "output_type": "stream",
     "text": [
      "[10, 20, 30, 50, 60, 40, 80]\n"
     ]
    }
   ],
   "source": [
    "#20      \n",
    "        \n",
    "a = [10, 20, 30, 20, 10, 50, 60, 40, 80, 50, 40]\n",
    "r_list = [] \n",
    "for i in a: \n",
    "    if i not in r_list: \n",
    "        r_list.append(i)  \n",
    "print(r_list)"
   ]
  }
 ],
 "metadata": {
  "kernelspec": {
   "display_name": "Python 3",
   "language": "python",
   "name": "python3"
  },
  "language_info": {
   "codemirror_mode": {
    "name": "ipython",
    "version": 3
   },
   "file_extension": ".py",
   "mimetype": "text/x-python",
   "name": "python",
   "nbconvert_exporter": "python",
   "pygments_lexer": "ipython3",
   "version": "3.8.5"
  }
 },
 "nbformat": 4,
 "nbformat_minor": 4
}
