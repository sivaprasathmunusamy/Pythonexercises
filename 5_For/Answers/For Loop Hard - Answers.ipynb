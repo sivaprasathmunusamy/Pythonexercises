{
 "cells": [
  {
   "cell_type": "markdown",
   "metadata": {},
   "source": [
    "# For Loop Hard Solutions"
   ]
  },
  {
   "cell_type": "code",
   "execution_count": 3,
   "metadata": {},
   "outputs": [
    {
     "name": "stdout",
     "output_type": "stream",
     "text": [
      "1\n",
      "4\n"
     ]
    }
   ],
   "source": [
    "#1\n",
    "def gcd(a, b):\n",
    "    gcd = 1\n",
    "    \n",
    "    if a % b == 0:\n",
    "        return b\n",
    "    \n",
    "    for k in range(int(b / 2), 0, -1):\n",
    "        if a % k == 0 and b % k == 0:\n",
    "            gcd = k\n",
    "            break  \n",
    "    return gcd\n",
    "\n",
    "print(gcd(22, 27))\n",
    "print(gcd(4, 3344))"
   ]
  },
  {
   "cell_type": "code",
   "execution_count": 4,
   "metadata": {},
   "outputs": [
    {
     "name": "stdout",
     "output_type": "stream",
     "text": [
      "12\n",
      "135\n"
     ]
    }
   ],
   "source": [
    "#2\n",
    "\n",
    "\n",
    "def lcm(x, y):\n",
    "    for num in range(max(x,y), (x*y)+1):\n",
    "         if((num % x == 0) and (num % y == 0)):\n",
    "                return num\n",
    "print(lcm(4, 6))\n",
    "print(lcm(15, 27))"
   ]
  },
  {
   "cell_type": "code",
   "execution_count": 5,
   "metadata": {},
   "outputs": [
    {
     "name": "stdout",
     "output_type": "stream",
     "text": [
      "['Read', 'edit', 'documents', 'attached', 'emails']\n"
     ]
    }
   ],
   "source": [
    "#3\n",
    "def words(n, str):\n",
    "    word = []\n",
    "    txt = str.split(\" \")\n",
    "    for x in txt:\n",
    "        if len(x) > n:\n",
    "            word.append(x)\n",
    "    return word\n",
    "print(words(3, \"The Read and edit documents attached to emails\"))"
   ]
  },
  {
   "cell_type": "code",
   "execution_count": 6,
   "metadata": {},
   "outputs": [
    {
     "name": "stdout",
     "output_type": "stream",
     "text": [
      "True\n",
      "None\n"
     ]
    }
   ],
   "source": [
    "#4\n",
    "def data(a, b):\n",
    "    result = False\n",
    "    for x in a:\n",
    "        for y in b:\n",
    "            if x == y:\n",
    "                result = True\n",
    "                return result\n",
    "print(data([1,2,3,4,5], [5,6,7,8,9]))\n",
    "print(data([1,2,3,4,5], [6,7,8,9]))"
   ]
  },
  {
   "cell_type": "code",
   "execution_count": 7,
   "metadata": {},
   "outputs": [
    {
     "name": "stdout",
     "output_type": "stream",
     "text": [
      "[[], [1], [2], [1, 2], [3], [1, 3], [2, 3], [1, 2, 3]]\n",
      "[[], ['x'], ['y'], ['x', 'y'], ['z'], ['x', 'z'], ['y', 'z'], ['x', 'y', 'z']]\n"
     ]
    }
   ],
   "source": [
    "#5\n",
    "def sub_lists (l): \n",
    "    base = [] \n",
    "    lists = [base] \n",
    "    for i in range(len(l)): \n",
    "        orig = lists[:] \n",
    "        new = l[i] \n",
    "        for j in range(len(lists)): \n",
    "            lists[j] = lists[j] + [new] \n",
    "        lists = orig + lists \n",
    "    return lists \n",
    "\n",
    "l1 = [1, 2, 3] \n",
    "print(sub_lists(l1)) \n",
    "l2 = ['x', 'y', 'z']\n",
    "print(sub_lists(l2))"
   ]
  },
  {
   "cell_type": "code",
   "execution_count": 8,
   "metadata": {},
   "outputs": [
    {
     "name": "stdout",
     "output_type": "stream",
     "text": [
      "2\n",
      "3\n",
      "5\n",
      "7\n",
      "None\n"
     ]
    }
   ],
   "source": [
    "#6\n",
    "def prime(n):\n",
    "    lists = []\n",
    "    for i in range(2, n+1):\n",
    "        if i not in lists:\n",
    "            print (i)\n",
    "            for j in range(i*i, n+1, i):\n",
    "                lists.append(j)\n",
    "\n",
    "print(prime(10))"
   ]
  },
  {
   "cell_type": "code",
   "execution_count": 9,
   "metadata": {},
   "outputs": [
    {
     "name": "stdout",
     "output_type": "stream",
     "text": [
      "Original list:\n",
      "[1, 2, 3, 4, 5, 6, 7, 8, 9]\n",
      "\n",
      "Combinations of 2 distinct objects:\n",
      "[1, 2]\n",
      "[1, 3]\n",
      "[1, 4]\n",
      "[1, 5]\n",
      "[1, 6]\n",
      "[1, 7]\n",
      "[1, 8]\n",
      "[1, 9]\n",
      "[2, 3]\n",
      "[2, 4]\n",
      "[2, 5]\n",
      "[2, 6]\n",
      "[2, 7]\n",
      "[2, 8]\n",
      "[2, 9]\n",
      "[3, 4]\n",
      "[3, 5]\n",
      "[3, 6]\n",
      "[3, 7]\n",
      "[3, 8]\n",
      "[3, 9]\n",
      "[4, 5]\n",
      "[4, 6]\n",
      "[4, 7]\n",
      "[4, 8]\n",
      "[4, 9]\n",
      "[5, 6]\n",
      "[5, 7]\n",
      "[5, 8]\n",
      "[5, 9]\n",
      "[6, 7]\n",
      "[6, 8]\n",
      "[6, 9]\n",
      "[7, 8]\n",
      "[7, 9]\n",
      "[8, 9]\n"
     ]
    }
   ],
   "source": [
    "#7\n",
    "def combination(n, x):\n",
    "    if n<=0:\n",
    "        yield []\n",
    "        return\n",
    "    for i in range(len(x)):\n",
    "        y = x[i:i+1]\n",
    "        for z in combination(n-1, x[i+1:]):\n",
    "            yield y + z\n",
    "x = [1,2,3,4,5,6,7,8,9]\n",
    "print(\"Original list:\") \n",
    "print(x)\n",
    "n = 2\n",
    "result = combination(n, x)\n",
    "print(\"\\nCombinations of\",n,\"distinct objects:\")\n",
    "for e in result:\n",
    "     print(e)"
   ]
  },
  {
   "cell_type": "code",
   "execution_count": 10,
   "metadata": {},
   "outputs": [
    {
     "name": "stdout",
     "output_type": "stream",
     "text": [
      "Multidimensional list:\n",
      "[[0, 0], [0, 0], [0, 0]]\n"
     ]
    }
   ],
   "source": [
    "#8\n",
    "x = []\n",
    "\n",
    "for i in range(3):\n",
    "\n",
    "    x.append([])\n",
    "\n",
    "    for j in range(2):\n",
    "\n",
    "        x[i].append(0)\n",
    "print(\"Multidimensional list:\")\n",
    "print(x)"
   ]
  },
  {
   "cell_type": "code",
   "execution_count": 11,
   "metadata": {},
   "outputs": [
    {
     "name": "stdout",
     "output_type": "stream",
     "text": [
      "3X3 grid with numbers:\n",
      "[[1, 2, 3], [1, 2, 3], [1, 2, 3]]\n"
     ]
    }
   ],
   "source": [
    "#9\n",
    "x = []\n",
    "for i in range(3):\n",
    "    x.append([])\n",
    "    for j in range(1, 4):\n",
    "        x[i].append(j)\n",
    "print(\"3X3 grid with numbers:\")\n",
    "print(x)"
   ]
  },
  {
   "cell_type": "code",
   "execution_count": 13,
   "metadata": {},
   "outputs": [
    {
     "name": "stdout",
     "output_type": "stream",
     "text": [
      "Input rows: 3\n",
      "Input columns: 3\n",
      "Input number of elements in a row (1, 2, 3): \n",
      "2 2 2\n",
      "3 3 3\n",
      "4 4 4\n",
      "sum for each column:\n",
      "9  9  9  "
     ]
    }
   ],
   "source": [
    "#10\n",
    "rows = int(input(\"Input rows: \"))\n",
    "columns = int(input(\"Input columns: \"))\n",
    "matrix = [[0]*columns for row in range(rows)]\n",
    "print('Input number of elements in a row (1, 2, 3): ')\n",
    "for row in range(rows):\n",
    "    lines = list(map(int, input().split()))\n",
    "    for column in range(columns):\n",
    "        matrix[row][column] = lines[column]\n",
    "\n",
    "sum = [0]*columns\n",
    "print(\"sum for each column:\")\n",
    "for column in range(columns):\n",
    "    for row in range(rows):\n",
    "        sum[column] += matrix[row][column]\n",
    "    print((sum[column]), ' ', end = '')"
   ]
  },
  {
   "cell_type": "code",
   "execution_count": 14,
   "metadata": {},
   "outputs": [
    {
     "name": "stdout",
     "output_type": "stream",
     "text": [
      "Original list:\n",
      "[[1, 3], [5, 7], [1, 11], [1, 15, 7]]\n",
      "\n",
      "Count 1 in the said list:\n",
      "3\n",
      "\n",
      "Count 7 in the said list:\n",
      "2\n"
     ]
    }
   ],
   "source": [
    "#11\n",
    "def lists(inputs, x): \n",
    "    ctr = 0\n",
    "    for i in range(len(inputs)): \n",
    "        if x in inputs[i]: \n",
    "            ctr+= 1\n",
    "          \n",
    "    return ctr\n",
    "      \n",
    "\n",
    "list1 = [[1, 3], [5, 7], [1, 11], [1, 15, 7]] \n",
    "print(\"Original list:\")\n",
    "print(list1)\n",
    "print(\"\\nCount 1 in the said list:\")\n",
    "print(lists(list1, 1)) \n",
    "print(\"\\nCount 7 in the said list:\")\n",
    "print(lists(list1, 7)) "
   ]
  },
  {
   "cell_type": "code",
   "execution_count": 15,
   "metadata": {},
   "outputs": [
    {
     "name": "stdout",
     "output_type": "stream",
     "text": [
      "Original list:\n",
      "[1, 'abcd', 3, 1.2, 4, 'xyz', 5, 'pqr', 7, -5, -12.22]\n",
      "\n",
      "Number of integers in the said mixed list:\n",
      "6\n"
     ]
    }
   ],
   "source": [
    "#12\n",
    "def integer(list1):\n",
    "    ctr = 0\n",
    "    for i in list1:\n",
    "        if isinstance(i, int):\n",
    "            ctr = ctr + 1\n",
    "    return ctr\n",
    "\n",
    "list1 = [1, 'abcd', 3, 1.2, 4, 'xyz', 5, 'pqr', 7, -5, -12.22]\n",
    "\n",
    "print(\"Original list:\")\n",
    "print(list1)\n",
    "\n",
    "print(\"\\nNumber of integers in the said mixed list:\")\n",
    "print(integer(list1))"
   ]
  },
  {
   "cell_type": "code",
   "execution_count": 16,
   "metadata": {},
   "outputs": [
    {
     "name": "stdout",
     "output_type": "stream",
     "text": [
      "Original list:\n",
      "[2, 3, 8, 4, 7, 9, 8, 2, 6, 5, 1, 6, 1, 2, 3, 4, 6, 9, 1, 2]\n",
      "\n",
      "Item with maximum occurrences of the said list:\n",
      "2\n"
     ]
    }
   ],
   "source": [
    "#13\n",
    "def occurrences(nums):\n",
    "    val = 0\n",
    "    result = nums[0] \n",
    "    for i in nums:\n",
    "        occu = nums.count(i)\n",
    "        if occu > val:\n",
    "            val = occu\n",
    "            result = i \n",
    "    return result\n",
    "\n",
    "nums = [2,3,8,4,7,9,8,2,6,5,1,6,1,2,3,4,6,9,1,2]\n",
    "print (\"Original list:\")\n",
    "print(nums)\n",
    "print(\"\\nItem with maximum occurrences of the said list:\")\n",
    "print(occurrences(nums))"
   ]
  },
  {
   "cell_type": "code",
   "execution_count": 17,
   "metadata": {},
   "outputs": [
    {
     "name": "stdout",
     "output_type": "stream",
     "text": [
      "Original list:\n",
      "list1: ['Red color', 'Orange#', 'Green', 'Orange @', 'White']\n",
      "\n",
      "Character list:\n",
      "['#', 'color', '@']\n",
      "\n",
      "New list:\n",
      "['Red', '', 'Green', 'Orange', 'White']\n"
     ]
    }
   ],
   "source": [
    "#14\n",
    "def words(x, y):\n",
    "    new = []\n",
    "    for line in x:\n",
    "        newwords = ' '.join([word for word in line.split() if not any([phrase in word for phrase in y])])\n",
    "        new.append(newwords)\n",
    "    return new\n",
    "     \n",
    "lists = ['Red color', 'Orange#', 'Green', 'Orange @', \"White\"]\n",
    "print(\"Original list:\")\n",
    "print(\"list1:\",lists)\n",
    "y = ['#', 'color', '@']\n",
    "print(\"\\nCharacter list:\")\n",
    "print(y)\n",
    "print(\"\\nNew list:\")\n",
    "print(words(lists, y))"
   ]
  },
  {
   "cell_type": "code",
   "execution_count": 18,
   "metadata": {},
   "outputs": [
    {
     "name": "stdout",
     "output_type": "stream",
     "text": [
      "Original list:\n",
      "[2, 1, 5, 6, 8, 3, 4, 9, 10, 11, 8, 12]\n",
      "Range: 8 , 10\n",
      "\n",
      "Sum of the specified range:\n",
      "29\n"
     ]
    }
   ],
   "source": [
    "#15\n",
    "def lists(nums, m, n):                                                                                                                                                                                                \n",
    "    ranges = 0                                                                                                                                                                                                         \n",
    "    for i in range(m, n+1, 1):                                                                                                                                                                                        \n",
    "        ranges += nums[i]                                                                                                                                                                                                  \n",
    "    return ranges   \n",
    "\n",
    "nums = [2,1,5,6,8,3,4,9,10,11,8,12]\n",
    "print(\"Original list:\")\n",
    "print(nums)\n",
    "m = 8\n",
    "n = 10\n",
    "print(\"Range:\",m,\",\",n) \n",
    "print(\"\\nSum of the specified range:\")\n",
    "print(lists(nums, m, n))"
   ]
  },
  {
   "cell_type": "code",
   "execution_count": 19,
   "metadata": {},
   "outputs": [
    {
     "name": "stdout",
     "output_type": "stream",
     "text": [
      "Original list of lists:\n",
      "[[1, 2, 3, 4], [5, 6, 7, 8], [9, 10, 11, 12], [13, 14, 15, 16]]\n",
      "\n",
      "Reverse each list in the said list of lists:\n",
      "[[4, 3, 2, 1], [8, 7, 6, 5], [12, 11, 10, 9], [16, 15, 14, 13]]\n"
     ]
    }
   ],
   "source": [
    "#16\n",
    "def lists(nums):\n",
    "    for l in nums:\n",
    "        l.sort(reverse = True)\n",
    "    return nums    \n",
    "nums = [[1, 2, 3, 4], [5, 6, 7, 8], [9, 10, 11, 12], [13, 14, 15, 16]]\n",
    "print(\"Original list of lists:\")\n",
    "print(nums)\n",
    "print(\"\\nReverse each list in the said list of lists:\")\n",
    "print(lists(nums))"
   ]
  },
  {
   "cell_type": "code",
   "execution_count": 20,
   "metadata": {},
   "outputs": [
    {
     "name": "stdout",
     "output_type": "stream",
     "text": [
      "Original lists:\n",
      "[1, 1, 2, 3, 3, 4, 4, 5, 6, 7]\n",
      "[1, 1, 2, 4, 5, 6]\n",
      "\n",
      "Difference between two said list including duplicate elements):\n",
      "[3, 3, 4, 7]\n"
     ]
    }
   ],
   "source": [
    "#17\n",
    "def difference(l1,l2):\n",
    "    result = list(l1)\n",
    "    for el in l2:\n",
    "        result.remove(el)\n",
    "    return result\n",
    "x = [1,1,2,3,3,4,4,5,6,7]\n",
    "y = [1,1,2,4,5,6]\n",
    "\n",
    "print(\"Original lists:\")\n",
    "print(x)\n",
    "print(y)\n",
    "print(\"\\nDifference between two said list including duplicate elements):\")\n",
    "print(difference(x,y))"
   ]
  },
  {
   "cell_type": "code",
   "execution_count": 21,
   "metadata": {},
   "outputs": [
    {
     "name": "stdout",
     "output_type": "stream",
     "text": [
      "Original lists:\n",
      "[1, 1, 2, 3, 3, 4, 4, 5]\n",
      "\n",
      "Pairing of consecutive elements:\n",
      "[(1, 1), (1, 2), (2, 3), (3, 3), (3, 4), (4, 4), (4, 5)]\n"
     ]
    }
   ],
   "source": [
    "#18\n",
    "def pairwise(l1):\n",
    "    temp = []\n",
    "    for i in range(len(l1) - 1):\n",
    "        current_element, next_element = l1[i], l1[i + 1]\n",
    "        x = (current_element, next_element)\n",
    "        temp.append(x)\n",
    "    return temp\n",
    "l1 = [1,1,2,3,3,4,4,5]\n",
    "print(\"Original lists:\")\n",
    "print(l1)\n",
    "print(\"\\nPairing of consecutive elements:\")\n",
    "print(pairwise(l1))"
   ]
  },
  {
   "cell_type": "code",
   "execution_count": 22,
   "metadata": {},
   "outputs": [
    {
     "name": "stdout",
     "output_type": "stream",
     "text": [
      "Original String:\n",
      "['Python', 'Exercises', 'Practice', 'Solution', 'Exercises']\n",
      "\n",
      "After removing duplicate words from the said list of strings:\n",
      "['Python', 'Exercises', 'Practice', 'Solution']\n"
     ]
    }
   ],
   "source": [
    "#19\n",
    "def uniquelist(l):\n",
    "    temp = []\n",
    "    for x in l:\n",
    "        if x not in temp:\n",
    "            temp.append(x)\n",
    "    return temp\n",
    "\n",
    "textstr = [\"Python\", \"Exercises\", \"Practice\", \"Solution\", \"Exercises\"]\n",
    "print(\"Original String:\")\n",
    "print(textstr)\n",
    "print(\"\\nAfter removing duplicate words from the said list of strings:\")\n",
    "print(uniquelist(textstr))"
   ]
  },
  {
   "cell_type": "code",
   "execution_count": 23,
   "metadata": {},
   "outputs": [
    {
     "name": "stdout",
     "output_type": "stream",
     "text": [
      "Original list:\n",
      "['red', 'green', 'blue', 'white', 'black', 'orange']\n",
      "\n",
      "Remove words:\n",
      "['white', 'orange']\n",
      "\n",
      "After removing the specified words from the said list:\n",
      "['red', 'green', 'blue', 'black']\n"
     ]
    }
   ],
   "source": [
    "#20\n",
    "def words(list1, remove):\n",
    "    for word in list(list1):\n",
    "        if word in remove:\n",
    "            list1.remove(word)\n",
    "    return list1        \n",
    "colors = ['red', 'green', 'blue', 'white', 'black', 'orange']\n",
    "recolors = ['white', 'orange']\n",
    "print(\"Original list:\")\n",
    "print(colors)\n",
    "print(\"\\nRemove words:\")\n",
    "print(recolors)\n",
    "print(\"\\nAfter removing the specified words from the said list:\")\n",
    "print(words(colors, recolors))"
   ]
  }
 ],
 "metadata": {
  "kernelspec": {
   "display_name": "Python 3",
   "language": "python",
   "name": "python3"
  },
  "language_info": {
   "codemirror_mode": {
    "name": "ipython",
    "version": 3
   },
   "file_extension": ".py",
   "mimetype": "text/x-python",
   "name": "python",
   "nbconvert_exporter": "python",
   "pygments_lexer": "ipython3",
   "version": "3.8.5"
  }
 },
 "nbformat": 4,
 "nbformat_minor": 4
}
