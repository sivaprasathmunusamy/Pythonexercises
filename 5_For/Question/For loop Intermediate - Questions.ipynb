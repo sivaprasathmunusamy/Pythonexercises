{
 "cells": [
  {
   "cell_type": "markdown",
   "metadata": {},
   "source": [
    "# For Loop (Intermediate) - Questions"
   ]
  },
  {
   "cell_type": "code",
   "execution_count": null,
   "metadata": {},
   "outputs": [],
   "source": [
    "''' 1. Write a Python function to count the no. of occurances of 4 from the data given below.\n",
    "    Data:\n",
    "        [1, 4, 6, 7, 4]\n",
    "        [1, 4, 6, 4, 7, 4]\n",
    "    Expected Output:\n",
    "        2\n",
    "        3 '''\n",
    "\n"
   ]
  },
  {
   "cell_type": "code",
   "execution_count": null,
   "metadata": {},
   "outputs": [],
   "source": [
    "''' 2. Write a Python function to check whether the specified value is present in the list. Return True if present, false if not.\n",
    "        Data :\n",
    "            3 -> [1, 5, 8, 3]    \n",
    "           -1 -> [1, 5, 8, 3] \n",
    "        Expected Output:\n",
    "            True\n",
    "            False '''\n",
    "        \n",
    "    "
   ]
  },
  {
   "cell_type": "code",
   "execution_count": null,
   "metadata": {},
   "outputs": [],
   "source": [
    "''' 3. Write a Python function to create a histogram using the given data.\n",
    "        Data:\n",
    "            [2, 3, 12, 5]\n",
    "        Expected Output:\n",
    "            **\n",
    "            ***\n",
    "            ************\n",
    "            ***** '''\n",
    "   "
   ]
  },
  {
   "cell_type": "code",
   "execution_count": null,
   "metadata": {},
   "outputs": [],
   "source": [
    "''' 4. Write a Python function to concatenate all elements in a list into a string and return it. \n",
    "        Data:\n",
    "            [1, 5, 12, 2]\n",
    "        Expected Output:\n",
    "            15122 '''\n",
    " "
   ]
  },
  {
   "cell_type": "code",
   "execution_count": null,
   "metadata": {},
   "outputs": [],
   "source": [
    "''' 5. Write a Python program to print * without newline or space using for loop and range().\n",
    "        Expected Output:\n",
    "            ********** '''\n",
    "\n"
   ]
  },
  {
   "cell_type": "code",
   "execution_count": null,
   "metadata": {},
   "outputs": [],
   "source": [
    "''' 6. Write a python function to print the sum of digits for the given data and print the execution time (in seconds).\n",
    "        Data:\n",
    "            n = 5\n",
    "        Expected Output:\n",
    "            Time to sum of 1 to 5 and required time to calculate is : (15, 0.0) '''\n",
    "            \n"
   ]
  },
  {
   "cell_type": "code",
   "execution_count": null,
   "metadata": {},
   "outputs": [],
   "source": [
    "''' 7. Write a Python program to hash a word.\n",
    "        Data:\n",
    "            x = [0,1,2,3,0,1,2,0,0,2,2,4,5,5,0,1,2,6,2,3,0,1,0,2,0,2]\n",
    "            word = Input the word be hashed: rfdf\n",
    "        Expected Output:\n",
    "            Enter the word to be hashed: culture\n",
    "            The coded word is: C210220 '''\n",
    "\n"
   ]
  },
  {
   "cell_type": "code",
   "execution_count": null,
   "metadata": {},
   "outputs": [],
   "source": [
    "''' 8. Write a Python program to create a bytearray from the given list.\n",
    "        Data:\n",
    "            x = [10, 20, 56, 35, 17, 99]\n",
    "        Expected Output:\n",
    "            10\n",
    "            20\n",
    "            56\n",
    "            35\n",
    "            17\n",
    "            99 '''\n"
   ]
  },
  {
   "cell_type": "code",
   "execution_count": null,
   "metadata": {},
   "outputs": [],
   "source": [
    "''' 9. Write a Python program to calculate the time runs (difference between start and current time) of a program.\n",
    "        Data:\n",
    "            times(5)\n",
    "            times(4)\n",
    "        Expected Output:\n",
    "            0\n",
    "            1\n",
    "            2\n",
    "            3\n",
    "            4\n",
    "            0.003652000000101907\n",
    "            0\n",
    "            1\n",
    "            2\n",
    "            3\n",
    "            0.0070380999998178595 '''"
   ]
  },
  {
   "cell_type": "code",
   "execution_count": null,
   "metadata": {},
   "outputs": [],
   "source": [
    "''' 10. Write a Python function to find the maximum and minimum numbers from the given list.\n",
    "        Data:\n",
    "            seq = [0, 10, 15, 40, -5, 42, 17, 28, 75]\n",
    "        Expected Output:\n",
    "            (75, -5) '''\n"
   ]
  },
  {
   "cell_type": "code",
   "execution_count": null,
   "metadata": {},
   "outputs": [],
   "source": [
    "''' 11. Write a Python function to find a distinct pair of numbers whose product is odd from the given data. Print True if pair found, none if not.\n",
    "        Data:\n",
    "            x = [2, 4, 6, 8]\n",
    "            y = [1, 6, 4, 7, 8]\n",
    "        Expected Output:\n",
    "            None\n",
    "            True '''\n"
   ]
  },
  {
   "cell_type": "code",
   "execution_count": null,
   "metadata": {},
   "outputs": [],
   "source": [
    "''' 12. Write a Python program to create the combinations of 3 digit combo.\n",
    "        Expected Output:\n",
    "            999 '''\n"
   ]
  },
  {
   "cell_type": "code",
   "execution_count": null,
   "metadata": {},
   "outputs": [],
   "source": [
    "''' 13. Write a Python program to create all possible permutations from a given collection of distinct numbers.\n",
    "        Data:\n",
    "            Collection:  [1, 2, 3]\n",
    "        Expected Output:\n",
    "            Collection of distinct numbers: [[3, 2, 1], [2, 3, 1], [2, 1, 3], [3, 1, 2], [1, 3, 2], [1, 2, 3]] '''\n"
   ]
  },
  {
   "cell_type": "code",
   "execution_count": null,
   "metadata": {},
   "outputs": [],
   "source": [
    "''' 14. Write a Python program to find the number of notes (Sample of notes: 10, 20, 50, 100, 200 and 500).\n",
    "        Data:\n",
    "            880\n",
    "            1000\n",
    "        Expected Output:\n",
    "            6\n",
    "            2 '''\n"
   ]
  },
  {
   "cell_type": "code",
   "execution_count": null,
   "metadata": {},
   "outputs": [],
   "source": [
    "''' 15. Write a Python function to find the number of divisors of a given integer is even or odd.\n",
    "        Data:\n",
    "            x = 15, x = 12, x = 9, x = 6, x = 3\n",
    "        Expected Output:\n",
    "            4\n",
    "            6\n",
    "            3\n",
    "            4\n",
    "            2 '''\n"
   ]
  },
  {
   "cell_type": "code",
   "execution_count": null,
   "metadata": {},
   "outputs": [],
   "source": [
    "''' 16. Write a Python function to get the smallest number from a list.\n",
    "        Data:\n",
    "            smallest([1, 2, -8, 0])\n",
    "        Expected Output:\n",
    "            -8 '''\n"
   ]
  },
  {
   "cell_type": "code",
   "execution_count": null,
   "metadata": {},
   "outputs": [],
   "source": [
    "''' 17. Write a Python function to get the largest number from a list.\n",
    "        Data:\n",
    "            largest([1,2,-8,0])\n",
    "        Expected Output:\n",
    "            2 '''\n",
    "     "
   ]
  },
  {
   "cell_type": "code",
   "execution_count": null,
   "metadata": {},
   "outputs": [],
   "source": [
    "''' 18. Write a Python function to multiply all the items in a list.\n",
    "        Data:\n",
    "            list = [1, 2, -8]\n",
    "        Expected Output:\n",
    "            -16 '''\n"
   ]
  },
  {
   "cell_type": "code",
   "execution_count": null,
   "metadata": {},
   "outputs": [],
   "source": [
    "''' 19. Write a Python function to sum all the items in a list.\n",
    "        Data:\n",
    "            lists([1,2,-8])\n",
    "        Expected Output:\n",
    "            -5 '''\n",
    "  "
   ]
  },
  {
   "cell_type": "code",
   "execution_count": null,
   "metadata": {},
   "outputs": [],
   "source": [
    "''' 20. Write a Python program to remove duplicates from the data given below.\n",
    "        Data:\n",
    "            a = [10,20,30,20,10,50,60,40,80,50,40]\n",
    "        Expected Output:\n",
    "            [10, 20, 30, 50, 60, 40, 80] '''"
   ]
  }
 ],
 "metadata": {
  "kernelspec": {
   "display_name": "Python 3",
   "language": "python",
   "name": "python3"
  },
  "language_info": {
   "codemirror_mode": {
    "name": "ipython",
    "version": 3
   },
   "file_extension": ".py",
   "mimetype": "text/x-python",
   "name": "python",
   "nbconvert_exporter": "python",
   "pygments_lexer": "ipython3",
   "version": "3.8.5"
  }
 },
 "nbformat": 4,
 "nbformat_minor": 4
}
