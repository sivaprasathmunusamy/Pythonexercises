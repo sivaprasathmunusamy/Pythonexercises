{
 "cells": [
  {
   "cell_type": "markdown",
   "metadata": {},
   "source": [
    "# For Loop Hard Questions"
   ]
  },
  {
   "cell_type": "code",
   "execution_count": 1,
   "metadata": {},
   "outputs": [],
   "source": [
    "''' 1. Write a Python program to compute the greatest common divisor (GCD) of two positive integers.\n",
    "    Data:\n",
    "        gcd(22, 27)\n",
    "        gcd(4, 3344)\n",
    "    Expected Output:\n",
    "        1\n",
    "        4 '''\n",
    "        \n",
    "        \n",
    "        \n",
    "        "
   ]
  },
  {
   "cell_type": "code",
   "execution_count": 2,
   "metadata": {},
   "outputs": [],
   "source": [
    "''' 2. Write a Python program to get the least common multiple (LCM) of two positive integers.\n",
    "    Data:\n",
    "        lcm(4, 6)\n",
    "        lcm(15, 27)\n",
    "    Expected Output:\n",
    "        12\n",
    "        135 '''\n",
    "        \n",
    "        \n",
    "        \n",
    "        "
   ]
  },
  {
   "cell_type": "code",
   "execution_count": null,
   "metadata": {},
   "outputs": [],
   "source": [
    "''' 3. Write a Python program to find the list of words that are longer than a specified number from the given list.\n",
    "    Data:\n",
    "        lt = [\"The Read and edit documents attached to emails\"]\n",
    "        number = 3\n",
    "    Expected Output:\n",
    "        ['Read', 'edit', 'documents', 'attached', 'emails'] '''\n",
    "        \n",
    "        \n",
    "        \n",
    "        "
   ]
  },
  {
   "cell_type": "code",
   "execution_count": 3,
   "metadata": {},
   "outputs": [],
   "source": [
    "''' 4. Write a Python function that takes two lists as parameters and returns True if they have at least one element in common, none if not.\n",
    "    Data:\n",
    "        (a, b) = ([1,2,3,4,5], [5,6,7,8,9])\n",
    "        (a, b) =([1,2,3,4,5], [6,7,8,9])\n",
    "    Expected Output:\n",
    "        True\n",
    "        None '''\n",
    "        \n",
    "        \n",
    "        \n",
    "        "
   ]
  },
  {
   "cell_type": "code",
   "execution_count": 4,
   "metadata": {},
   "outputs": [],
   "source": [
    "''' 5. Write a Python program to generate all sublists of a list.\n",
    "    Data:\n",
    "        Original list:\n",
    "        x = [10, 20, 30, 40]\n",
    "        y = ['X', 'Y', 'Z']\n",
    "    Expected Output:\n",
    "        Sublists of the said list:\n",
    "        [[], [1], [2], [1, 2], [3], [1, 3], [2, 3], [1, 2, 3]]\n",
    "        [[], ['x'], ['y'], ['x', 'y'], ['z'], ['x', 'z'], ['y', 'z'], ['x', 'y', 'z']] '''\n",
    "        \n",
    "        \n",
    "        \n",
    "        "
   ]
  },
  {
   "cell_type": "code",
   "execution_count": 5,
   "metadata": {},
   "outputs": [],
   "source": [
    "''' 6. Write a Python program to print all the prime numbers upto a specified number using Sieve of Eratosthenes method.\n",
    "    Data:\n",
    "        x = 10\n",
    "    Expected Output:\n",
    "        2\n",
    "        3\n",
    "        5\n",
    "        7\n",
    "        None '''\n",
    "        \n",
    "        \n",
    "        \n",
    "        "
   ]
  },
  {
   "cell_type": "code",
   "execution_count": 6,
   "metadata": {},
   "outputs": [],
   "source": [
    "''' 7. Write a Python program to generate the combinations of n distinct objects taken from the elements of a given list..\n",
    "    Data:\n",
    "        Original list:\n",
    "        [1, 2, 3, 4, 5, 6, 7, 8, 9]\n",
    "    Expected Output:\n",
    "        [1, 2][1, 3][1, 4][1, 5][1, 6][1, 7][1, 8][1, 9][2, 3]\n",
    "        [2, 4][2, 5][2, 6][2, 7][2, 8][2, 9][3, 4][3, 5][3, 6]\n",
    "        [3, 7][3, 8][3, 9][4, 5][4, 6][4, 7][4, 8][4, 9][5, 6]\n",
    "        [5, 7][5, 8][5, 9][6, 7][6, 8][6, 9][7, 8][7, 9][8, 9] '''\n",
    "\n",
    "        \n",
    "        \n",
    "        \n",
    "        "
   ]
  },
  {
   "cell_type": "code",
   "execution_count": 7,
   "metadata": {},
   "outputs": [],
   "source": [
    "''' 8. Write a Python program to create a multidimensional list (lists of lists) with zeros.\n",
    "    Expected Output:\n",
    "        Multidimensional list:\n",
    "        [[0, 0], [0, 0], [0, 0]] '''\n",
    "        \n",
    "        \n",
    "        \n",
    "        "
   ]
  },
  {
   "cell_type": "code",
   "execution_count": 8,
   "metadata": {},
   "outputs": [],
   "source": [
    "''' 9. Write a Python program to create a 3X3 grid with numbers following given range(3). \n",
    "    Expected Output:\n",
    "        3X3 grid with numbers:\n",
    "        [[1, 2, 3], [1, 2, 3], [1, 2, 3]] '''\n",
    "        \n",
    "        \n",
    "        \n",
    "        "
   ]
  },
  {
   "cell_type": "code",
   "execution_count": null,
   "metadata": {},
   "outputs": [],
   "source": [
    "''' 10. Write a Python program to print the sum of each column in a matrix. Accept matrix rows, \n",
    "            columns and elements for each column separated with a space for every row as input from the user.\n",
    "    Data:\n",
    "        Input rows: 3\n",
    "        Input columns: 3\n",
    "        Input number of elements in a row (1, 2, 3): \n",
    "        2 2 2\n",
    "        3 3 3\n",
    "        4 4 4\n",
    "    Expected Output:\n",
    "        sum for each column:\n",
    "        9  9  9  '''\n",
    "        \n",
    "        \n",
    "        \n",
    "        "
   ]
  },
  {
   "cell_type": "code",
   "execution_count": 9,
   "metadata": {},
   "outputs": [],
   "source": [
    "''' 11. Write a Python program to count the number of sublists that contains a particular element.\n",
    "    Data:\n",
    "        Original list:\n",
    "        [[1, 3], [5, 7], [1, 11], [1, 15, 7]]\n",
    "    Expected Output:\n",
    "        Count 1 in the said list: 3\n",
    "        Count 7 in the said list: 2 '''\n",
    "        \n",
    "        \n",
    "        \n",
    "        "
   ]
  },
  {
   "cell_type": "code",
   "execution_count": null,
   "metadata": {},
   "outputs": [],
   "source": [
    "''' 12. Write a Python program to count integer in a given mixed list.\n",
    "    Data:\n",
    "        list:[1, 'abcd', 3, 1.2, 4, 'xyz', 5, 'pqr', 7, -5, -12.22]\n",
    "    Expected Output:\n",
    "        Number of integers in the said mixed list:\n",
    "        6 '''\n",
    "        \n",
    "        \n",
    "        \n",
    "        "
   ]
  },
  {
   "cell_type": "code",
   "execution_count": null,
   "metadata": {},
   "outputs": [],
   "source": [
    "''' 13. Write a Python program to find an element with maximum occurrences in a given list. \n",
    "    Data:\n",
    "        list:[2, 3, 8, 4, 7, 9, 8, 2, 6, 5, 1, 6, 1, 2, 3, 4, 6, 9, 1, 2]\n",
    "    Expected Output:\n",
    "        Item with maximum occurrences of the said list:\n",
    "        2 '''\n",
    "    \n",
    "    \n",
    "    \n",
    "    "
   ]
  },
  {
   "cell_type": "code",
   "execution_count": null,
   "metadata": {},
   "outputs": [],
   "source": [
    "''' 14. Write a Python program to remove those items which contain a special character or specified string from the given list.\n",
    "    Data:\n",
    "        list1: ['Red color', 'Orange#', 'Green', 'Orange @', 'White']\n",
    "    Expected Output:\n",
    "        Character list:\n",
    "        ['#', 'color', '@']\n",
    "\n",
    "        New list:\n",
    "        ['Red', '', 'Green', 'Orange', 'White'] '''\n",
    "        \n",
    "        \n",
    "        \n",
    "        "
   ]
  },
  {
   "cell_type": "code",
   "execution_count": null,
   "metadata": {},
   "outputs": [],
   "source": [
    "''' 15. Write a Python program to calculate the sum of the numbers in a list between the specified range of indices.\n",
    "    Data:\n",
    "        list:[2, 1, 5, 6, 8, 3, 4, 9, 10, 11, 8, 12]\n",
    "    Expected Output:\n",
    "        Range: 8 , 10\n",
    "        Sum of the specified range: 29 '''\n",
    "        \n",
    "        \n",
    "        \n",
    "        "
   ]
  },
  {
   "cell_type": "code",
   "execution_count": 10,
   "metadata": {},
   "outputs": [],
   "source": [
    "''' 16. Write a Python program to reverse each list in a given list of lists.\n",
    "    Data:\n",
    "        Original list of lists:\n",
    "        nums = [[1, 2, 3, 4], [5, 6, 7, 8], [9, 10, 11, 12], [13, 14, 15, 16]] \n",
    "    Expected Output:\n",
    "        Reverse each list in the said list of lists:\n",
    "        [[4, 3, 2, 1], [8, 7, 6, 5], [12, 11, 10, 9], [16, 15, 14, 13]] '''\n",
    "        \n",
    "        \n",
    "        \n",
    "        "
   ]
  },
  {
   "cell_type": "code",
   "execution_count": null,
   "metadata": {},
   "outputs": [],
   "source": [
    "''' 17. Write a Python program to find the difference between two lists including duplicate elements.\n",
    "    Data:\n",
    "        Original lists:\n",
    "        x = [1,1,2,3,3,4,4,5,6,7]\n",
    "        y = [1,1,2,4,5,6]\n",
    "    Expected Output:\n",
    "        Difference between two said list (including duplicate elements):\n",
    "        [3, 3, 4, 7] '''\n",
    "        \n",
    "        \n",
    "        \n",
    "        "
   ]
  },
  {
   "cell_type": "code",
   "execution_count": null,
   "metadata": {},
   "outputs": [],
   "source": [
    "''' 18. Write a Python program to print consecutive elements pairing from the given list. \n",
    "    Data:\n",
    "        Original lists:\n",
    "        lists:[1, 1, 2, 3, 3, 4, 4, 5]\n",
    "    Expected Output:\n",
    "        Pairing of consecutive elements:\n",
    "        [(1, 1), (1, 2), (2, 3), (3, 3), (3, 4), (4, 4), (4, 5)] '''\n",
    "        \n",
    "        \n",
    "        \n",
    "        \n",
    "        "
   ]
  },
  {
   "cell_type": "code",
   "execution_count": 11,
   "metadata": {},
   "outputs": [],
   "source": [
    "''' 19. Write a Python program to remove duplicate words from the given list of strings.\n",
    "    Data:\n",
    "        Original String:\n",
    "        ['Python', 'Exercises', 'Practice', 'Solution', 'Exercises']\n",
    "    Expected Output:\n",
    "        After removing duplicate words from the said list of strings:\n",
    "        ['Python', 'Exercises', 'Practice', 'Solution'] '''\n",
    "\n",
    "        \n",
    "        \n",
    "        "
   ]
  },
  {
   "cell_type": "code",
   "execution_count": null,
   "metadata": {},
   "outputs": [],
   "source": [
    "''' 20. Write a Python program to remove specific words from the given list. \n",
    "    Data:\n",
    "        Original list:\n",
    "        list:['red', 'green', 'blue', 'white', 'black', 'orange']\n",
    "    Expected Output:\n",
    "        Remove words:\n",
    "        ['white', 'orange']\n",
    "\n",
    "        After removing the specified words from the said list:\n",
    "        ['red', 'green', 'blue', 'black'] '''\n",
    "        \n",
    "        \n",
    "        \n",
    "        "
   ]
  }
 ],
 "metadata": {
  "kernelspec": {
   "display_name": "Python 3",
   "language": "python",
   "name": "python3"
  },
  "language_info": {
   "codemirror_mode": {
    "name": "ipython",
    "version": 3
   },
   "file_extension": ".py",
   "mimetype": "text/x-python",
   "name": "python",
   "nbconvert_exporter": "python",
   "pygments_lexer": "ipython3",
   "version": "3.8.5"
  }
 },
 "nbformat": 4,
 "nbformat_minor": 4
}
